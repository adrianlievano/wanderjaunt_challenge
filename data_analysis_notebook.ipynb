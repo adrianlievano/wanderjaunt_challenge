{
 "cells": [
  {
   "cell_type": "code",
   "execution_count": 138,
   "metadata": {},
   "outputs": [
    {
     "name": "stdout",
     "output_type": "stream",
     "text": [
      "Requirement already satisfied: pandasql in /Users/adrianlievano/anaconda3/lib/python3.6/site-packages\n",
      "Requirement already satisfied: numpy in /Users/adrianlievano/.local/lib/python3.6/site-packages (from pandasql)\n",
      "Requirement already satisfied: pandas in /Users/adrianlievano/anaconda3/lib/python3.6/site-packages (from pandasql)\n",
      "Requirement already satisfied: sqlalchemy in /Users/adrianlievano/anaconda3/lib/python3.6/site-packages (from pandasql)\n",
      "Requirement already satisfied: python-dateutil>=2 in /Users/adrianlievano/anaconda3/lib/python3.6/site-packages (from pandas->pandasql)\n",
      "Requirement already satisfied: pytz>=2011k in /Users/adrianlievano/anaconda3/lib/python3.6/site-packages (from pandas->pandasql)\n",
      "Requirement already satisfied: six>=1.5 in /Users/adrianlievano/.local/lib/python3.6/site-packages (from python-dateutil>=2->pandas->pandasql)\n",
      "\u001b[33mYou are using pip version 9.0.1, however version 19.3.1 is available.\n",
      "You should consider upgrading via the 'pip install --upgrade pip' command.\u001b[0m\n"
     ]
    }
   ],
   "source": [
    "import pandas as pd \n",
    "import numpy as np\n",
    "import seaborn as sns\n",
    "import matplotlib.pyplot as plt\n",
    "import plotly.express as px\n",
    "from datetime import datetime\n",
    "from dateutil.parser import parse\n",
    "\n",
    "!pip install pandasql\n"
   ]
  },
  {
   "cell_type": "code",
   "execution_count": 139,
   "metadata": {},
   "outputs": [],
   "source": [
    "import pandasql as ps\n"
   ]
  },
  {
   "cell_type": "markdown",
   "metadata": {},
   "source": [
    "# Exploration & Cleaning of Data Sets"
   ]
  },
  {
   "cell_type": "markdown",
   "metadata": {},
   "source": [
    "## Exploring Scraped_Data.csv "
   ]
  },
  {
   "cell_type": "code",
   "execution_count": 2,
   "metadata": {},
   "outputs": [],
   "source": [
    "df_scraped_data_raw = pd.read_csv('scraped_data/scraped_data.csv')"
   ]
  },
  {
   "cell_type": "code",
   "execution_count": 3,
   "metadata": {},
   "outputs": [
    {
     "data": {
      "text/html": [
       "<div>\n",
       "<style scoped>\n",
       "    .dataframe tbody tr th:only-of-type {\n",
       "        vertical-align: middle;\n",
       "    }\n",
       "\n",
       "    .dataframe tbody tr th {\n",
       "        vertical-align: top;\n",
       "    }\n",
       "\n",
       "    .dataframe thead th {\n",
       "        text-align: right;\n",
       "    }\n",
       "</style>\n",
       "<table border=\"1\" class=\"dataframe\">\n",
       "  <thead>\n",
       "    <tr style=\"text-align: right;\">\n",
       "      <th></th>\n",
       "      <th>scraping_id</th>\n",
       "      <th>scraped_date</th>\n",
       "      <th>date</th>\n",
       "      <th>price</th>\n",
       "      <th>available</th>\n",
       "    </tr>\n",
       "  </thead>\n",
       "  <tbody>\n",
       "    <tr>\n",
       "      <th>0</th>\n",
       "      <td>2</td>\n",
       "      <td>2018-03-15</td>\n",
       "      <td>2018-04-01</td>\n",
       "      <td>250</td>\n",
       "      <td>1</td>\n",
       "    </tr>\n",
       "    <tr>\n",
       "      <th>1</th>\n",
       "      <td>2</td>\n",
       "      <td>2018-03-15</td>\n",
       "      <td>2018-04-02</td>\n",
       "      <td>115</td>\n",
       "      <td>1</td>\n",
       "    </tr>\n",
       "  </tbody>\n",
       "</table>\n",
       "</div>"
      ],
      "text/plain": [
       "   scraping_id scraped_date        date  price  available\n",
       "0            2   2018-03-15  2018-04-01    250          1\n",
       "1            2   2018-03-15  2018-04-02    115          1"
      ]
     },
     "execution_count": 3,
     "metadata": {},
     "output_type": "execute_result"
    }
   ],
   "source": [
    "df_scraped_data_raw.head(2)"
   ]
  },
  {
   "cell_type": "code",
   "execution_count": 4,
   "metadata": {},
   "outputs": [
    {
     "data": {
      "text/html": [
       "<div>\n",
       "<style scoped>\n",
       "    .dataframe tbody tr th:only-of-type {\n",
       "        vertical-align: middle;\n",
       "    }\n",
       "\n",
       "    .dataframe tbody tr th {\n",
       "        vertical-align: top;\n",
       "    }\n",
       "\n",
       "    .dataframe thead th {\n",
       "        text-align: right;\n",
       "    }\n",
       "</style>\n",
       "<table border=\"1\" class=\"dataframe\">\n",
       "  <thead>\n",
       "    <tr style=\"text-align: right;\">\n",
       "      <th></th>\n",
       "      <th>scraping_id</th>\n",
       "      <th>price</th>\n",
       "      <th>available</th>\n",
       "    </tr>\n",
       "  </thead>\n",
       "  <tbody>\n",
       "    <tr>\n",
       "      <th>count</th>\n",
       "      <td>1.630018e+07</td>\n",
       "      <td>1.630018e+07</td>\n",
       "      <td>1.630018e+07</td>\n",
       "    </tr>\n",
       "    <tr>\n",
       "      <th>mean</th>\n",
       "      <td>8.859516e+06</td>\n",
       "      <td>3.068724e+02</td>\n",
       "      <td>4.880770e-01</td>\n",
       "    </tr>\n",
       "    <tr>\n",
       "      <th>std</th>\n",
       "      <td>1.058208e+07</td>\n",
       "      <td>8.637483e+02</td>\n",
       "      <td>4.998578e-01</td>\n",
       "    </tr>\n",
       "    <tr>\n",
       "      <th>min</th>\n",
       "      <td>2.000000e+00</td>\n",
       "      <td>1.000000e+01</td>\n",
       "      <td>0.000000e+00</td>\n",
       "    </tr>\n",
       "    <tr>\n",
       "      <th>25%</th>\n",
       "      <td>3.835000e+03</td>\n",
       "      <td>1.000000e+02</td>\n",
       "      <td>0.000000e+00</td>\n",
       "    </tr>\n",
       "    <tr>\n",
       "      <th>50%</th>\n",
       "      <td>1.293900e+04</td>\n",
       "      <td>1.590000e+02</td>\n",
       "      <td>0.000000e+00</td>\n",
       "    </tr>\n",
       "    <tr>\n",
       "      <th>75%</th>\n",
       "      <td>2.147308e+07</td>\n",
       "      <td>3.000000e+02</td>\n",
       "      <td>1.000000e+00</td>\n",
       "    </tr>\n",
       "    <tr>\n",
       "      <th>max</th>\n",
       "      <td>2.470754e+07</td>\n",
       "      <td>2.500000e+04</td>\n",
       "      <td>1.000000e+00</td>\n",
       "    </tr>\n",
       "  </tbody>\n",
       "</table>\n",
       "</div>"
      ],
      "text/plain": [
       "        scraping_id         price     available\n",
       "count  1.630018e+07  1.630018e+07  1.630018e+07\n",
       "mean   8.859516e+06  3.068724e+02  4.880770e-01\n",
       "std    1.058208e+07  8.637483e+02  4.998578e-01\n",
       "min    2.000000e+00  1.000000e+01  0.000000e+00\n",
       "25%    3.835000e+03  1.000000e+02  0.000000e+00\n",
       "50%    1.293900e+04  1.590000e+02  0.000000e+00\n",
       "75%    2.147308e+07  3.000000e+02  1.000000e+00\n",
       "max    2.470754e+07  2.500000e+04  1.000000e+00"
      ]
     },
     "execution_count": 4,
     "metadata": {},
     "output_type": "execute_result"
    }
   ],
   "source": [
    "df_scraped_data_raw.describe()"
   ]
  },
  {
   "cell_type": "code",
   "execution_count": 51,
   "metadata": {},
   "outputs": [
    {
     "data": {
      "text/plain": [
       "(16300175, 5)"
      ]
     },
     "execution_count": 51,
     "metadata": {},
     "output_type": "execute_result"
    }
   ],
   "source": [
    "df_scraped_data_raw.shape"
   ]
  },
  {
   "cell_type": "markdown",
   "metadata": {},
   "source": [
    "note: we have 1.6 M listings on their price and whether or not they are available"
   ]
  },
  {
   "cell_type": "code",
   "execution_count": 66,
   "metadata": {},
   "outputs": [
    {
     "data": {
      "text/plain": [
       "scraping_id      int64\n",
       "scraped_date    object\n",
       "date            object\n",
       "price            int64\n",
       "available        int64\n",
       "dtype: object"
      ]
     },
     "execution_count": 66,
     "metadata": {},
     "output_type": "execute_result"
    }
   ],
   "source": [
    "df_scraped_data_raw.dtypes"
   ]
  },
  {
   "cell_type": "code",
   "execution_count": 71,
   "metadata": {},
   "outputs": [
    {
     "data": {
      "image/png": "[encoded data removed]",
      "text/plain": [
       "<matplotlib.figure.Figure at 0x13be597b8>"
      ]
     },
     "metadata": {},
     "output_type": "display_data"
    }
   ],
   "source": [
    "plt.hist(df_scraped_data_raw['price'], bins=200)\n",
    "plt.xlim(0, df_scraped_data_raw['price'].max())\n",
    "\n",
    "plt.show()"
   ]
  },
  {
   "cell_type": "code",
   "execution_count": 74,
   "metadata": {},
   "outputs": [
    {
     "data": {
      "image/png": "[encoded data removed]",
      "text/plain": [
       "<matplotlib.figure.Figure at 0x13d048898>"
      ]
     },
     "metadata": {},
     "output_type": "display_data"
    }
   ],
   "source": [
    "plt.hist(df_scraped_data_raw['price'], bins=2000)\n",
    "plt.xlim(0, df_scraped_data_raw['price'].max()/8.0)\n",
    "\n",
    "plt.show()"
   ]
  },
  {
   "cell_type": "code",
   "execution_count": 75,
   "metadata": {},
   "outputs": [
    {
     "data": {
      "text/plain": [
       "count    1.630018e+07\n",
       "mean     3.068724e+02\n",
       "std      8.637483e+02\n",
       "min      1.000000e+01\n",
       "25%      1.000000e+02\n",
       "50%      1.590000e+02\n",
       "75%      3.000000e+02\n",
       "max      2.500000e+04\n",
       "Name: price, dtype: float64"
      ]
     },
     "execution_count": 75,
     "metadata": {},
     "output_type": "execute_result"
    }
   ],
   "source": [
    "df_scraped_data_raw['price'].describe()"
   ]
  },
  {
   "cell_type": "markdown",
   "metadata": {},
   "source": [
    "Notes: there are some outliers in our dataset. We won't remove them for now, but if we plan to build a prediction algorithm on price, this is important to consider."
   ]
  },
  {
   "cell_type": "markdown",
   "metadata": {},
   "source": [
    "note: there are outliers in our price dataset and it's difficult to visualize the distribution. We have a right-skewed distribution'"
   ]
  },
  {
   "cell_type": "markdown",
   "metadata": {},
   "source": [
    "#### Exploring scraped_date & date"
   ]
  },
  {
   "cell_type": "code",
   "execution_count": 96,
   "metadata": {},
   "outputs": [
    {
     "data": {
      "text/plain": [
       "0   2018-03-15\n",
       "1   2018-03-15\n",
       "2   2018-03-15\n",
       "3   2018-03-15\n",
       "4   2018-03-15\n",
       "Name: scraped_date, dtype: datetime64[ns]"
      ]
     },
     "execution_count": 96,
     "metadata": {},
     "output_type": "execute_result"
    }
   ],
   "source": [
    "df_scraped_data_raw['scraped_date'].head()"
   ]
  },
  {
   "cell_type": "code",
   "execution_count": 95,
   "metadata": {},
   "outputs": [
    {
     "data": {
      "text/plain": [
       "0   2018-04-01\n",
       "1   2018-04-02\n",
       "2   2018-04-03\n",
       "3   2018-04-04\n",
       "4   2018-04-05\n",
       "Name: date, dtype: datetime64[ns]"
      ]
     },
     "execution_count": 95,
     "metadata": {},
     "output_type": "execute_result"
    }
   ],
   "source": [
    "df_scraped_data_raw['date'].head()"
   ]
  },
  {
   "cell_type": "code",
   "execution_count": 121,
   "metadata": {},
   "outputs": [
    {
     "data": {
      "text/plain": [
       "Timestamp('2018-03-15 00:00:00')"
      ]
     },
     "execution_count": 121,
     "metadata": {},
     "output_type": "execute_result"
    }
   ],
   "source": [
    "df_scraped_data_raw['scraped_date'][0]"
   ]
  },
  {
   "cell_type": "code",
   "execution_count": 105,
   "metadata": {},
   "outputs": [],
   "source": [
    "unique_ids = df_scraped_data_raw['scraping_id'].unique()"
   ]
  },
  {
   "cell_type": "markdown",
   "metadata": {},
   "source": [
    "df = df_scraped_data_raw[df_scraped_data_raw['scraped_date'] == '2018-03-15 00:00:00'] \n",
    "df"
   ]
  },
  {
   "cell_type": "code",
   "execution_count": 128,
   "metadata": {},
   "outputs": [
    {
     "data": {
      "text/html": [
       "<div>\n",
       "<style scoped>\n",
       "    .dataframe tbody tr th:only-of-type {\n",
       "        vertical-align: middle;\n",
       "    }\n",
       "\n",
       "    .dataframe tbody tr th {\n",
       "        vertical-align: top;\n",
       "    }\n",
       "\n",
       "    .dataframe thead th {\n",
       "        text-align: right;\n",
       "    }\n",
       "</style>\n",
       "<table border=\"1\" class=\"dataframe\">\n",
       "  <thead>\n",
       "    <tr style=\"text-align: right;\">\n",
       "      <th></th>\n",
       "      <th>scraping_id</th>\n",
       "      <th>scraped_date</th>\n",
       "      <th>date</th>\n",
       "      <th>price</th>\n",
       "      <th>available</th>\n",
       "    </tr>\n",
       "  </thead>\n",
       "  <tbody>\n",
       "    <tr>\n",
       "      <th>0</th>\n",
       "      <td>2</td>\n",
       "      <td>2018-03-15</td>\n",
       "      <td>2018-04-01</td>\n",
       "      <td>250</td>\n",
       "      <td>1</td>\n",
       "    </tr>\n",
       "    <tr>\n",
       "      <th>1</th>\n",
       "      <td>2</td>\n",
       "      <td>2018-03-15</td>\n",
       "      <td>2018-04-02</td>\n",
       "      <td>115</td>\n",
       "      <td>1</td>\n",
       "    </tr>\n",
       "    <tr>\n",
       "      <th>2</th>\n",
       "      <td>2</td>\n",
       "      <td>2018-03-15</td>\n",
       "      <td>2018-04-03</td>\n",
       "      <td>115</td>\n",
       "      <td>1</td>\n",
       "    </tr>\n",
       "    <tr>\n",
       "      <th>3</th>\n",
       "      <td>2</td>\n",
       "      <td>2018-03-15</td>\n",
       "      <td>2018-04-04</td>\n",
       "      <td>115</td>\n",
       "      <td>1</td>\n",
       "    </tr>\n",
       "    <tr>\n",
       "      <th>4</th>\n",
       "      <td>2</td>\n",
       "      <td>2018-03-15</td>\n",
       "      <td>2018-04-05</td>\n",
       "      <td>150</td>\n",
       "      <td>0</td>\n",
       "    </tr>\n",
       "    <tr>\n",
       "      <th>5</th>\n",
       "      <td>2</td>\n",
       "      <td>2018-03-15</td>\n",
       "      <td>2018-04-06</td>\n",
       "      <td>153</td>\n",
       "      <td>0</td>\n",
       "    </tr>\n",
       "    <tr>\n",
       "      <th>6</th>\n",
       "      <td>2</td>\n",
       "      <td>2018-03-15</td>\n",
       "      <td>2018-04-07</td>\n",
       "      <td>152</td>\n",
       "      <td>0</td>\n",
       "    </tr>\n",
       "    <tr>\n",
       "      <th>7</th>\n",
       "      <td>2</td>\n",
       "      <td>2018-03-15</td>\n",
       "      <td>2018-04-08</td>\n",
       "      <td>115</td>\n",
       "      <td>1</td>\n",
       "    </tr>\n",
       "    <tr>\n",
       "      <th>8</th>\n",
       "      <td>2</td>\n",
       "      <td>2018-03-15</td>\n",
       "      <td>2018-04-09</td>\n",
       "      <td>115</td>\n",
       "      <td>1</td>\n",
       "    </tr>\n",
       "    <tr>\n",
       "      <th>9</th>\n",
       "      <td>2</td>\n",
       "      <td>2018-03-15</td>\n",
       "      <td>2018-04-10</td>\n",
       "      <td>115</td>\n",
       "      <td>1</td>\n",
       "    </tr>\n",
       "    <tr>\n",
       "      <th>10</th>\n",
       "      <td>2</td>\n",
       "      <td>2018-03-15</td>\n",
       "      <td>2018-04-11</td>\n",
       "      <td>115</td>\n",
       "      <td>1</td>\n",
       "    </tr>\n",
       "    <tr>\n",
       "      <th>11</th>\n",
       "      <td>2</td>\n",
       "      <td>2018-03-15</td>\n",
       "      <td>2018-04-12</td>\n",
       "      <td>150</td>\n",
       "      <td>0</td>\n",
       "    </tr>\n",
       "    <tr>\n",
       "      <th>12</th>\n",
       "      <td>2</td>\n",
       "      <td>2018-03-15</td>\n",
       "      <td>2018-04-13</td>\n",
       "      <td>150</td>\n",
       "      <td>0</td>\n",
       "    </tr>\n",
       "    <tr>\n",
       "      <th>13</th>\n",
       "      <td>2</td>\n",
       "      <td>2018-03-15</td>\n",
       "      <td>2018-04-14</td>\n",
       "      <td>150</td>\n",
       "      <td>0</td>\n",
       "    </tr>\n",
       "    <tr>\n",
       "      <th>14</th>\n",
       "      <td>2</td>\n",
       "      <td>2018-03-15</td>\n",
       "      <td>2018-04-15</td>\n",
       "      <td>115</td>\n",
       "      <td>1</td>\n",
       "    </tr>\n",
       "    <tr>\n",
       "      <th>15</th>\n",
       "      <td>2</td>\n",
       "      <td>2018-03-15</td>\n",
       "      <td>2018-04-16</td>\n",
       "      <td>115</td>\n",
       "      <td>1</td>\n",
       "    </tr>\n",
       "    <tr>\n",
       "      <th>16</th>\n",
       "      <td>2</td>\n",
       "      <td>2018-03-15</td>\n",
       "      <td>2018-04-17</td>\n",
       "      <td>115</td>\n",
       "      <td>1</td>\n",
       "    </tr>\n",
       "    <tr>\n",
       "      <th>17</th>\n",
       "      <td>2</td>\n",
       "      <td>2018-03-15</td>\n",
       "      <td>2018-04-18</td>\n",
       "      <td>150</td>\n",
       "      <td>0</td>\n",
       "    </tr>\n",
       "    <tr>\n",
       "      <th>18</th>\n",
       "      <td>2</td>\n",
       "      <td>2018-03-15</td>\n",
       "      <td>2018-04-19</td>\n",
       "      <td>150</td>\n",
       "      <td>0</td>\n",
       "    </tr>\n",
       "    <tr>\n",
       "      <th>19</th>\n",
       "      <td>2</td>\n",
       "      <td>2018-03-15</td>\n",
       "      <td>2018-04-20</td>\n",
       "      <td>150</td>\n",
       "      <td>0</td>\n",
       "    </tr>\n",
       "    <tr>\n",
       "      <th>20</th>\n",
       "      <td>2</td>\n",
       "      <td>2018-03-15</td>\n",
       "      <td>2018-04-21</td>\n",
       "      <td>150</td>\n",
       "      <td>0</td>\n",
       "    </tr>\n",
       "    <tr>\n",
       "      <th>21</th>\n",
       "      <td>2</td>\n",
       "      <td>2018-03-15</td>\n",
       "      <td>2018-04-22</td>\n",
       "      <td>150</td>\n",
       "      <td>0</td>\n",
       "    </tr>\n",
       "    <tr>\n",
       "      <th>22</th>\n",
       "      <td>2</td>\n",
       "      <td>2018-03-15</td>\n",
       "      <td>2018-04-23</td>\n",
       "      <td>150</td>\n",
       "      <td>0</td>\n",
       "    </tr>\n",
       "    <tr>\n",
       "      <th>23</th>\n",
       "      <td>2</td>\n",
       "      <td>2018-03-15</td>\n",
       "      <td>2018-04-24</td>\n",
       "      <td>150</td>\n",
       "      <td>0</td>\n",
       "    </tr>\n",
       "    <tr>\n",
       "      <th>24</th>\n",
       "      <td>2</td>\n",
       "      <td>2018-03-15</td>\n",
       "      <td>2018-04-25</td>\n",
       "      <td>150</td>\n",
       "      <td>0</td>\n",
       "    </tr>\n",
       "    <tr>\n",
       "      <th>25</th>\n",
       "      <td>2</td>\n",
       "      <td>2018-03-15</td>\n",
       "      <td>2018-04-26</td>\n",
       "      <td>150</td>\n",
       "      <td>0</td>\n",
       "    </tr>\n",
       "    <tr>\n",
       "      <th>26</th>\n",
       "      <td>2</td>\n",
       "      <td>2018-03-15</td>\n",
       "      <td>2018-04-27</td>\n",
       "      <td>150</td>\n",
       "      <td>0</td>\n",
       "    </tr>\n",
       "    <tr>\n",
       "      <th>27</th>\n",
       "      <td>2</td>\n",
       "      <td>2018-03-15</td>\n",
       "      <td>2018-04-28</td>\n",
       "      <td>150</td>\n",
       "      <td>0</td>\n",
       "    </tr>\n",
       "    <tr>\n",
       "      <th>28</th>\n",
       "      <td>2</td>\n",
       "      <td>2018-03-15</td>\n",
       "      <td>2018-04-29</td>\n",
       "      <td>150</td>\n",
       "      <td>1</td>\n",
       "    </tr>\n",
       "    <tr>\n",
       "      <th>29</th>\n",
       "      <td>2</td>\n",
       "      <td>2018-03-15</td>\n",
       "      <td>2018-04-30</td>\n",
       "      <td>150</td>\n",
       "      <td>1</td>\n",
       "    </tr>\n",
       "    <tr>\n",
       "      <th>...</th>\n",
       "      <td>...</td>\n",
       "      <td>...</td>\n",
       "      <td>...</td>\n",
       "      <td>...</td>\n",
       "      <td>...</td>\n",
       "    </tr>\n",
       "    <tr>\n",
       "      <th>31</th>\n",
       "      <td>2</td>\n",
       "      <td>2018-03-15</td>\n",
       "      <td>2018-05-02</td>\n",
       "      <td>150</td>\n",
       "      <td>1</td>\n",
       "    </tr>\n",
       "    <tr>\n",
       "      <th>32</th>\n",
       "      <td>2</td>\n",
       "      <td>2018-03-15</td>\n",
       "      <td>2018-05-03</td>\n",
       "      <td>150</td>\n",
       "      <td>0</td>\n",
       "    </tr>\n",
       "    <tr>\n",
       "      <th>33</th>\n",
       "      <td>2</td>\n",
       "      <td>2018-03-15</td>\n",
       "      <td>2018-05-04</td>\n",
       "      <td>150</td>\n",
       "      <td>0</td>\n",
       "    </tr>\n",
       "    <tr>\n",
       "      <th>34</th>\n",
       "      <td>2</td>\n",
       "      <td>2018-03-15</td>\n",
       "      <td>2018-05-05</td>\n",
       "      <td>150</td>\n",
       "      <td>0</td>\n",
       "    </tr>\n",
       "    <tr>\n",
       "      <th>35</th>\n",
       "      <td>2</td>\n",
       "      <td>2018-03-15</td>\n",
       "      <td>2018-05-06</td>\n",
       "      <td>150</td>\n",
       "      <td>1</td>\n",
       "    </tr>\n",
       "    <tr>\n",
       "      <th>36</th>\n",
       "      <td>2</td>\n",
       "      <td>2018-03-15</td>\n",
       "      <td>2018-05-07</td>\n",
       "      <td>150</td>\n",
       "      <td>1</td>\n",
       "    </tr>\n",
       "    <tr>\n",
       "      <th>37</th>\n",
       "      <td>2</td>\n",
       "      <td>2018-03-15</td>\n",
       "      <td>2018-05-08</td>\n",
       "      <td>150</td>\n",
       "      <td>1</td>\n",
       "    </tr>\n",
       "    <tr>\n",
       "      <th>38</th>\n",
       "      <td>2</td>\n",
       "      <td>2018-03-15</td>\n",
       "      <td>2018-05-09</td>\n",
       "      <td>150</td>\n",
       "      <td>1</td>\n",
       "    </tr>\n",
       "    <tr>\n",
       "      <th>39</th>\n",
       "      <td>2</td>\n",
       "      <td>2018-03-15</td>\n",
       "      <td>2018-05-10</td>\n",
       "      <td>150</td>\n",
       "      <td>1</td>\n",
       "    </tr>\n",
       "    <tr>\n",
       "      <th>40</th>\n",
       "      <td>2</td>\n",
       "      <td>2018-03-15</td>\n",
       "      <td>2018-05-11</td>\n",
       "      <td>150</td>\n",
       "      <td>1</td>\n",
       "    </tr>\n",
       "    <tr>\n",
       "      <th>41</th>\n",
       "      <td>2</td>\n",
       "      <td>2018-03-15</td>\n",
       "      <td>2018-05-12</td>\n",
       "      <td>150</td>\n",
       "      <td>1</td>\n",
       "    </tr>\n",
       "    <tr>\n",
       "      <th>42</th>\n",
       "      <td>2</td>\n",
       "      <td>2018-03-15</td>\n",
       "      <td>2018-05-13</td>\n",
       "      <td>150</td>\n",
       "      <td>1</td>\n",
       "    </tr>\n",
       "    <tr>\n",
       "      <th>43</th>\n",
       "      <td>2</td>\n",
       "      <td>2018-03-15</td>\n",
       "      <td>2018-05-14</td>\n",
       "      <td>150</td>\n",
       "      <td>1</td>\n",
       "    </tr>\n",
       "    <tr>\n",
       "      <th>44</th>\n",
       "      <td>2</td>\n",
       "      <td>2018-03-15</td>\n",
       "      <td>2018-05-15</td>\n",
       "      <td>150</td>\n",
       "      <td>1</td>\n",
       "    </tr>\n",
       "    <tr>\n",
       "      <th>45</th>\n",
       "      <td>2</td>\n",
       "      <td>2018-03-15</td>\n",
       "      <td>2018-05-16</td>\n",
       "      <td>150</td>\n",
       "      <td>1</td>\n",
       "    </tr>\n",
       "    <tr>\n",
       "      <th>46</th>\n",
       "      <td>2</td>\n",
       "      <td>2018-03-15</td>\n",
       "      <td>2018-05-17</td>\n",
       "      <td>150</td>\n",
       "      <td>1</td>\n",
       "    </tr>\n",
       "    <tr>\n",
       "      <th>47</th>\n",
       "      <td>2</td>\n",
       "      <td>2018-03-15</td>\n",
       "      <td>2018-05-18</td>\n",
       "      <td>150</td>\n",
       "      <td>0</td>\n",
       "    </tr>\n",
       "    <tr>\n",
       "      <th>48</th>\n",
       "      <td>2</td>\n",
       "      <td>2018-03-15</td>\n",
       "      <td>2018-05-19</td>\n",
       "      <td>150</td>\n",
       "      <td>0</td>\n",
       "    </tr>\n",
       "    <tr>\n",
       "      <th>49</th>\n",
       "      <td>2</td>\n",
       "      <td>2018-03-15</td>\n",
       "      <td>2018-05-20</td>\n",
       "      <td>150</td>\n",
       "      <td>0</td>\n",
       "    </tr>\n",
       "    <tr>\n",
       "      <th>50</th>\n",
       "      <td>2</td>\n",
       "      <td>2018-03-15</td>\n",
       "      <td>2018-05-21</td>\n",
       "      <td>150</td>\n",
       "      <td>1</td>\n",
       "    </tr>\n",
       "    <tr>\n",
       "      <th>51</th>\n",
       "      <td>2</td>\n",
       "      <td>2018-03-15</td>\n",
       "      <td>2018-05-22</td>\n",
       "      <td>150</td>\n",
       "      <td>1</td>\n",
       "    </tr>\n",
       "    <tr>\n",
       "      <th>52</th>\n",
       "      <td>2</td>\n",
       "      <td>2018-03-15</td>\n",
       "      <td>2018-05-23</td>\n",
       "      <td>150</td>\n",
       "      <td>1</td>\n",
       "    </tr>\n",
       "    <tr>\n",
       "      <th>53</th>\n",
       "      <td>2</td>\n",
       "      <td>2018-03-15</td>\n",
       "      <td>2018-05-24</td>\n",
       "      <td>150</td>\n",
       "      <td>1</td>\n",
       "    </tr>\n",
       "    <tr>\n",
       "      <th>54</th>\n",
       "      <td>2</td>\n",
       "      <td>2018-03-15</td>\n",
       "      <td>2018-05-25</td>\n",
       "      <td>150</td>\n",
       "      <td>1</td>\n",
       "    </tr>\n",
       "    <tr>\n",
       "      <th>55</th>\n",
       "      <td>2</td>\n",
       "      <td>2018-03-15</td>\n",
       "      <td>2018-05-26</td>\n",
       "      <td>150</td>\n",
       "      <td>1</td>\n",
       "    </tr>\n",
       "    <tr>\n",
       "      <th>56</th>\n",
       "      <td>2</td>\n",
       "      <td>2018-03-15</td>\n",
       "      <td>2018-05-27</td>\n",
       "      <td>150</td>\n",
       "      <td>1</td>\n",
       "    </tr>\n",
       "    <tr>\n",
       "      <th>57</th>\n",
       "      <td>2</td>\n",
       "      <td>2018-03-15</td>\n",
       "      <td>2018-05-28</td>\n",
       "      <td>150</td>\n",
       "      <td>1</td>\n",
       "    </tr>\n",
       "    <tr>\n",
       "      <th>58</th>\n",
       "      <td>2</td>\n",
       "      <td>2018-03-15</td>\n",
       "      <td>2018-05-29</td>\n",
       "      <td>150</td>\n",
       "      <td>0</td>\n",
       "    </tr>\n",
       "    <tr>\n",
       "      <th>59</th>\n",
       "      <td>2</td>\n",
       "      <td>2018-03-15</td>\n",
       "      <td>2018-05-30</td>\n",
       "      <td>150</td>\n",
       "      <td>0</td>\n",
       "    </tr>\n",
       "    <tr>\n",
       "      <th>60</th>\n",
       "      <td>2</td>\n",
       "      <td>2018-03-15</td>\n",
       "      <td>2018-05-31</td>\n",
       "      <td>150</td>\n",
       "      <td>0</td>\n",
       "    </tr>\n",
       "  </tbody>\n",
       "</table>\n",
       "<p>61 rows × 5 columns</p>\n",
       "</div>"
      ],
      "text/plain": [
       "    scraping_id scraped_date       date  price  available\n",
       "0             2   2018-03-15 2018-04-01    250          1\n",
       "1             2   2018-03-15 2018-04-02    115          1\n",
       "2             2   2018-03-15 2018-04-03    115          1\n",
       "3             2   2018-03-15 2018-04-04    115          1\n",
       "4             2   2018-03-15 2018-04-05    150          0\n",
       "5             2   2018-03-15 2018-04-06    153          0\n",
       "6             2   2018-03-15 2018-04-07    152          0\n",
       "7             2   2018-03-15 2018-04-08    115          1\n",
       "8             2   2018-03-15 2018-04-09    115          1\n",
       "9             2   2018-03-15 2018-04-10    115          1\n",
       "10            2   2018-03-15 2018-04-11    115          1\n",
       "11            2   2018-03-15 2018-04-12    150          0\n",
       "12            2   2018-03-15 2018-04-13    150          0\n",
       "13            2   2018-03-15 2018-04-14    150          0\n",
       "14            2   2018-03-15 2018-04-15    115          1\n",
       "15            2   2018-03-15 2018-04-16    115          1\n",
       "16            2   2018-03-15 2018-04-17    115          1\n",
       "17            2   2018-03-15 2018-04-18    150          0\n",
       "18            2   2018-03-15 2018-04-19    150          0\n",
       "19            2   2018-03-15 2018-04-20    150          0\n",
       "20            2   2018-03-15 2018-04-21    150          0\n",
       "21            2   2018-03-15 2018-04-22    150          0\n",
       "22            2   2018-03-15 2018-04-23    150          0\n",
       "23            2   2018-03-15 2018-04-24    150          0\n",
       "24            2   2018-03-15 2018-04-25    150          0\n",
       "25            2   2018-03-15 2018-04-26    150          0\n",
       "26            2   2018-03-15 2018-04-27    150          0\n",
       "27            2   2018-03-15 2018-04-28    150          0\n",
       "28            2   2018-03-15 2018-04-29    150          1\n",
       "29            2   2018-03-15 2018-04-30    150          1\n",
       "..          ...          ...        ...    ...        ...\n",
       "31            2   2018-03-15 2018-05-02    150          1\n",
       "32            2   2018-03-15 2018-05-03    150          0\n",
       "33            2   2018-03-15 2018-05-04    150          0\n",
       "34            2   2018-03-15 2018-05-05    150          0\n",
       "35            2   2018-03-15 2018-05-06    150          1\n",
       "36            2   2018-03-15 2018-05-07    150          1\n",
       "37            2   2018-03-15 2018-05-08    150          1\n",
       "38            2   2018-03-15 2018-05-09    150          1\n",
       "39            2   2018-03-15 2018-05-10    150          1\n",
       "40            2   2018-03-15 2018-05-11    150          1\n",
       "41            2   2018-03-15 2018-05-12    150          1\n",
       "42            2   2018-03-15 2018-05-13    150          1\n",
       "43            2   2018-03-15 2018-05-14    150          1\n",
       "44            2   2018-03-15 2018-05-15    150          1\n",
       "45            2   2018-03-15 2018-05-16    150          1\n",
       "46            2   2018-03-15 2018-05-17    150          1\n",
       "47            2   2018-03-15 2018-05-18    150          0\n",
       "48            2   2018-03-15 2018-05-19    150          0\n",
       "49            2   2018-03-15 2018-05-20    150          0\n",
       "50            2   2018-03-15 2018-05-21    150          1\n",
       "51            2   2018-03-15 2018-05-22    150          1\n",
       "52            2   2018-03-15 2018-05-23    150          1\n",
       "53            2   2018-03-15 2018-05-24    150          1\n",
       "54            2   2018-03-15 2018-05-25    150          1\n",
       "55            2   2018-03-15 2018-05-26    150          1\n",
       "56            2   2018-03-15 2018-05-27    150          1\n",
       "57            2   2018-03-15 2018-05-28    150          1\n",
       "58            2   2018-03-15 2018-05-29    150          0\n",
       "59            2   2018-03-15 2018-05-30    150          0\n",
       "60            2   2018-03-15 2018-05-31    150          0\n",
       "\n",
       "[61 rows x 5 columns]"
      ]
     },
     "execution_count": 128,
     "metadata": {},
     "output_type": "execute_result"
    }
   ],
   "source": [
    "df = df_scraped_data_raw[(df_scraped_data_raw['scraping_id'] == unique_ids[0]) & \n",
    "                         (df_scraped_data_raw['scraped_date'] == '2018-03-15 00:00:00')] \n",
    "df"
   ]
  },
  {
   "cell_type": "code",
   "execution_count": 130,
   "metadata": {},
   "outputs": [
    {
     "data": {
      "application/vnd.plotly.v1+json": {
       "config": {
        "plotlyServerURL": "https://plot.ly"
       },
       "data": [
        {
         "hoverlabel": {
          "namelength": 0
         },
         "hovertemplate": "date=%{x}<br>price=%{y}",
         "legendgroup": "",
         "marker": {
          "color": "#636efa",
          "symbol": "circle"
         },
         "mode": "markers",
         "name": "",
         "showlegend": false,
         "type": "scatter",
         "x": [
          "2018-04-01T00:00:00",
          "2018-04-02T00:00:00",
          "2018-04-03T00:00:00",
          "2018-04-04T00:00:00",
          "2018-04-05T00:00:00",
          "2018-04-06T00:00:00",
          "2018-04-07T00:00:00",
          "2018-04-08T00:00:00",
          "2018-04-09T00:00:00",
          "2018-04-10T00:00:00",
          "2018-04-11T00:00:00",
          "2018-04-12T00:00:00",
          "2018-04-13T00:00:00",
          "2018-04-14T00:00:00",
          "2018-04-15T00:00:00",
          "2018-04-16T00:00:00",
          "2018-04-17T00:00:00",
          "2018-04-18T00:00:00",
          "2018-04-19T00:00:00",
          "2018-04-20T00:00:00",
          "2018-04-21T00:00:00",
          "2018-04-22T00:00:00",
          "2018-04-23T00:00:00",
          "2018-04-24T00:00:00",
          "2018-04-25T00:00:00",
          "2018-04-26T00:00:00",
          "2018-04-27T00:00:00",
          "2018-04-28T00:00:00",
          "2018-04-29T00:00:00",
          "2018-04-30T00:00:00",
          "2018-05-01T00:00:00",
          "2018-05-02T00:00:00",
          "2018-05-03T00:00:00",
          "2018-05-04T00:00:00",
          "2018-05-05T00:00:00",
          "2018-05-06T00:00:00",
          "2018-05-07T00:00:00",
          "2018-05-08T00:00:00",
          "2018-05-09T00:00:00",
          "2018-05-10T00:00:00",
          "2018-05-11T00:00:00",
          "2018-05-12T00:00:00",
          "2018-05-13T00:00:00",
          "2018-05-14T00:00:00",
          "2018-05-15T00:00:00",
          "2018-05-16T00:00:00",
          "2018-05-17T00:00:00",
          "2018-05-18T00:00:00",
          "2018-05-19T00:00:00",
          "2018-05-20T00:00:00",
          "2018-05-21T00:00:00",
          "2018-05-22T00:00:00",
          "2018-05-23T00:00:00",
          "2018-05-24T00:00:00",
          "2018-05-25T00:00:00",
          "2018-05-26T00:00:00",
          "2018-05-27T00:00:00",
          "2018-05-28T00:00:00",
          "2018-05-29T00:00:00",
          "2018-05-30T00:00:00",
          "2018-05-31T00:00:00"
         ],
         "xaxis": "x",
         "y": [
          250,
          115,
          115,
          115,
          150,
          153,
          152,
          115,
          115,
          115,
          115,
          150,
          150,
          150,
          115,
          115,
          115,
          150,
          150,
          150,
          150,
          150,
          150,
          150,
          150,
          150,
          150,
          150,
          150,
          150,
          150,
          150,
          150,
          150,
          150,
          150,
          150,
          150,
          150,
          150,
          150,
          150,
          150,
          150,
          150,
          150,
          150,
          150,
          150,
          150,
          150,
          150,
          150,
          150,
          150,
          150,
          150,
          150,
          150,
          150,
          150
         ],
         "yaxis": "y"
        }
       ],
       "layout": {
        "height": 600,
        "legend": {
         "tracegroupgap": 0
        },
        "template": {
         "data": {
          "bar": [
           {
            "error_x": {
             "color": "#2a3f5f"
            },
            "error_y": {
             "color": "#2a3f5f"
            },
            "marker": {
             "line": {
              "color": "#E5ECF6",
              "width": 0.5
             }
            },
            "type": "bar"
           }
          ],
          "barpolar": [
           {
            "marker": {
             "line": {
              "color": "#E5ECF6",
              "width": 0.5
             }
            },
            "type": "barpolar"
           }
          ],
          "carpet": [
           {
            "aaxis": {
             "endlinecolor": "#2a3f5f",
             "gridcolor": "white",
             "linecolor": "white",
             "minorgridcolor": "white",
             "startlinecolor": "#2a3f5f"
            },
            "baxis": {
             "endlinecolor": "#2a3f5f",
             "gridcolor": "white",
             "linecolor": "white",
             "minorgridcolor": "white",
             "startlinecolor": "#2a3f5f"
            },
            "type": "carpet"
           }
          ],
          "choropleth": [
           {
            "colorbar": {
             "outlinewidth": 0,
             "ticks": ""
            },
            "type": "choropleth"
           }
          ],
          "contour": [
           {
            "colorbar": {
             "outlinewidth": 0,
             "ticks": ""
            },
            "colorscale": [
             [
              0,
              "#0d0887"
             ],
             [
              0.1111111111111111,
              "#46039f"
             ],
             [
              0.2222222222222222,
              "#7201a8"
             ],
             [
              0.3333333333333333,
              "#9c179e"
             ],
             [
              0.4444444444444444,
              "#bd3786"
             ],
             [
              0.5555555555555556,
              "#d8576b"
             ],
             [
              0.6666666666666666,
              "#ed7953"
             ],
             [
              0.7777777777777778,
              "#fb9f3a"
             ],
             [
              0.8888888888888888,
              "#fdca26"
             ],
             [
              1,
              "#f0f921"
             ]
            ],
            "type": "contour"
           }
          ],
          "contourcarpet": [
           {
            "colorbar": {
             "outlinewidth": 0,
             "ticks": ""
            },
            "type": "contourcarpet"
           }
          ],
          "heatmap": [
           {
            "colorbar": {
             "outlinewidth": 0,
             "ticks": ""
            },
            "colorscale": [
             [
              0,
              "#0d0887"
             ],
             [
              0.1111111111111111,
              "#46039f"
             ],
             [
              0.2222222222222222,
              "#7201a8"
             ],
             [
              0.3333333333333333,
              "#9c179e"
             ],
             [
              0.4444444444444444,
              "#bd3786"
             ],
             [
              0.5555555555555556,
              "#d8576b"
             ],
             [
              0.6666666666666666,
              "#ed7953"
             ],
             [
              0.7777777777777778,
              "#fb9f3a"
             ],
             [
              0.8888888888888888,
              "#fdca26"
             ],
             [
              1,
              "#f0f921"
             ]
            ],
            "type": "heatmap"
           }
          ],
          "heatmapgl": [
           {
            "colorbar": {
             "outlinewidth": 0,
             "ticks": ""
            },
            "colorscale": [
             [
              0,
              "#0d0887"
             ],
             [
              0.1111111111111111,
              "#46039f"
             ],
             [
              0.2222222222222222,
              "#7201a8"
             ],
             [
              0.3333333333333333,
              "#9c179e"
             ],
             [
              0.4444444444444444,
              "#bd3786"
             ],
             [
              0.5555555555555556,
              "#d8576b"
             ],
             [
              0.6666666666666666,
              "#ed7953"
             ],
             [
              0.7777777777777778,
              "#fb9f3a"
             ],
             [
              0.8888888888888888,
              "#fdca26"
             ],
             [
              1,
              "#f0f921"
             ]
            ],
            "type": "heatmapgl"
           }
          ],
          "histogram": [
           {
            "marker": {
             "colorbar": {
              "outlinewidth": 0,
              "ticks": ""
             }
            },
            "type": "histogram"
           }
          ],
          "histogram2d": [
           {
            "colorbar": {
             "outlinewidth": 0,
             "ticks": ""
            },
            "colorscale": [
             [
              0,
              "#0d0887"
             ],
             [
              0.1111111111111111,
              "#46039f"
             ],
             [
              0.2222222222222222,
              "#7201a8"
             ],
             [
              0.3333333333333333,
              "#9c179e"
             ],
             [
              0.4444444444444444,
              "#bd3786"
             ],
             [
              0.5555555555555556,
              "#d8576b"
             ],
             [
              0.6666666666666666,
              "#ed7953"
             ],
             [
              0.7777777777777778,
              "#fb9f3a"
             ],
             [
              0.8888888888888888,
              "#fdca26"
             ],
             [
              1,
              "#f0f921"
             ]
            ],
            "type": "histogram2d"
           }
          ],
          "histogram2dcontour": [
           {
            "colorbar": {
             "outlinewidth": 0,
             "ticks": ""
            },
            "colorscale": [
             [
              0,
              "#0d0887"
             ],
             [
              0.1111111111111111,
              "#46039f"
             ],
             [
              0.2222222222222222,
              "#7201a8"
             ],
             [
              0.3333333333333333,
              "#9c179e"
             ],
             [
              0.4444444444444444,
              "#bd3786"
             ],
             [
              0.5555555555555556,
              "#d8576b"
             ],
             [
              0.6666666666666666,
              "#ed7953"
             ],
             [
              0.7777777777777778,
              "#fb9f3a"
             ],
             [
              0.8888888888888888,
              "#fdca26"
             ],
             [
              1,
              "#f0f921"
             ]
            ],
            "type": "histogram2dcontour"
           }
          ],
          "mesh3d": [
           {
            "colorbar": {
             "outlinewidth": 0,
             "ticks": ""
            },
            "type": "mesh3d"
           }
          ],
          "parcoords": [
           {
            "line": {
             "colorbar": {
              "outlinewidth": 0,
              "ticks": ""
             }
            },
            "type": "parcoords"
           }
          ],
          "scatter": [
           {
            "marker": {
             "colorbar": {
              "outlinewidth": 0,
              "ticks": ""
             }
            },
            "type": "scatter"
           }
          ],
          "scatter3d": [
           {
            "line": {
             "colorbar": {
              "outlinewidth": 0,
              "ticks": ""
             }
            },
            "marker": {
             "colorbar": {
              "outlinewidth": 0,
              "ticks": ""
             }
            },
            "type": "scatter3d"
           }
          ],
          "scattercarpet": [
           {
            "marker": {
             "colorbar": {
              "outlinewidth": 0,
              "ticks": ""
             }
            },
            "type": "scattercarpet"
           }
          ],
          "scattergeo": [
           {
            "marker": {
             "colorbar": {
              "outlinewidth": 0,
              "ticks": ""
             }
            },
            "type": "scattergeo"
           }
          ],
          "scattergl": [
           {
            "marker": {
             "colorbar": {
              "outlinewidth": 0,
              "ticks": ""
             }
            },
            "type": "scattergl"
           }
          ],
          "scattermapbox": [
           {
            "marker": {
             "colorbar": {
              "outlinewidth": 0,
              "ticks": ""
             }
            },
            "type": "scattermapbox"
           }
          ],
          "scatterpolar": [
           {
            "marker": {
             "colorbar": {
              "outlinewidth": 0,
              "ticks": ""
             }
            },
            "type": "scatterpolar"
           }
          ],
          "scatterpolargl": [
           {
            "marker": {
             "colorbar": {
              "outlinewidth": 0,
              "ticks": ""
             }
            },
            "type": "scatterpolargl"
           }
          ],
          "scatterternary": [
           {
            "marker": {
             "colorbar": {
              "outlinewidth": 0,
              "ticks": ""
             }
            },
            "type": "scatterternary"
           }
          ],
          "surface": [
           {
            "colorbar": {
             "outlinewidth": 0,
             "ticks": ""
            },
            "colorscale": [
             [
              0,
              "#0d0887"
             ],
             [
              0.1111111111111111,
              "#46039f"
             ],
             [
              0.2222222222222222,
              "#7201a8"
             ],
             [
              0.3333333333333333,
              "#9c179e"
             ],
             [
              0.4444444444444444,
              "#bd3786"
             ],
             [
              0.5555555555555556,
              "#d8576b"
             ],
             [
              0.6666666666666666,
              "#ed7953"
             ],
             [
              0.7777777777777778,
              "#fb9f3a"
             ],
             [
              0.8888888888888888,
              "#fdca26"
             ],
             [
              1,
              "#f0f921"
             ]
            ],
            "type": "surface"
           }
          ],
          "table": [
           {
            "cells": {
             "fill": {
              "color": "#EBF0F8"
             },
             "line": {
              "color": "white"
             }
            },
            "header": {
             "fill": {
              "color": "#C8D4E3"
             },
             "line": {
              "color": "white"
             }
            },
            "type": "table"
           }
          ]
         },
         "layout": {
          "annotationdefaults": {
           "arrowcolor": "#2a3f5f",
           "arrowhead": 0,
           "arrowwidth": 1
          },
          "colorscale": {
           "diverging": [
            [
             0,
             "#8e0152"
            ],
            [
             0.1,
             "#c51b7d"
            ],
            [
             0.2,
             "#de77ae"
            ],
            [
             0.3,
             "#f1b6da"
            ],
            [
             0.4,
             "#fde0ef"
            ],
            [
             0.5,
             "#f7f7f7"
            ],
            [
             0.6,
             "#e6f5d0"
            ],
            [
             0.7,
             "#b8e186"
            ],
            [
             0.8,
             "#7fbc41"
            ],
            [
             0.9,
             "#4d9221"
            ],
            [
             1,
             "#276419"
            ]
           ],
           "sequential": [
            [
             0,
             "#0d0887"
            ],
            [
             0.1111111111111111,
             "#46039f"
            ],
            [
             0.2222222222222222,
             "#7201a8"
            ],
            [
             0.3333333333333333,
             "#9c179e"
            ],
            [
             0.4444444444444444,
             "#bd3786"
            ],
            [
             0.5555555555555556,
             "#d8576b"
            ],
            [
             0.6666666666666666,
             "#ed7953"
            ],
            [
             0.7777777777777778,
             "#fb9f3a"
            ],
            [
             0.8888888888888888,
             "#fdca26"
            ],
            [
             1,
             "#f0f921"
            ]
           ],
           "sequentialminus": [
            [
             0,
             "#0d0887"
            ],
            [
             0.1111111111111111,
             "#46039f"
            ],
            [
             0.2222222222222222,
             "#7201a8"
            ],
            [
             0.3333333333333333,
             "#9c179e"
            ],
            [
             0.4444444444444444,
             "#bd3786"
            ],
            [
             0.5555555555555556,
             "#d8576b"
            ],
            [
             0.6666666666666666,
             "#ed7953"
            ],
            [
             0.7777777777777778,
             "#fb9f3a"
            ],
            [
             0.8888888888888888,
             "#fdca26"
            ],
            [
             1,
             "#f0f921"
            ]
           ]
          },
          "colorway": [
           "#636efa",
           "#EF553B",
           "#00cc96",
           "#ab63fa",
           "#FFA15A",
           "#19d3f3",
           "#FF6692",
           "#B6E880",
           "#FF97FF",
           "#FECB52"
          ],
          "font": {
           "color": "#2a3f5f"
          },
          "geo": {
           "bgcolor": "white",
           "lakecolor": "white",
           "landcolor": "#E5ECF6",
           "showlakes": true,
           "showland": true,
           "subunitcolor": "white"
          },
          "hoverlabel": {
           "align": "left"
          },
          "hovermode": "closest",
          "mapbox": {
           "style": "light"
          },
          "paper_bgcolor": "white",
          "plot_bgcolor": "#E5ECF6",
          "polar": {
           "angularaxis": {
            "gridcolor": "white",
            "linecolor": "white",
            "ticks": ""
           },
           "bgcolor": "#E5ECF6",
           "radialaxis": {
            "gridcolor": "white",
            "linecolor": "white",
            "ticks": ""
           }
          },
          "scene": {
           "xaxis": {
            "backgroundcolor": "#E5ECF6",
            "gridcolor": "white",
            "gridwidth": 2,
            "linecolor": "white",
            "showbackground": true,
            "ticks": "",
            "zerolinecolor": "white"
           },
           "yaxis": {
            "backgroundcolor": "#E5ECF6",
            "gridcolor": "white",
            "gridwidth": 2,
            "linecolor": "white",
            "showbackground": true,
            "ticks": "",
            "zerolinecolor": "white"
           },
           "zaxis": {
            "backgroundcolor": "#E5ECF6",
            "gridcolor": "white",
            "gridwidth": 2,
            "linecolor": "white",
            "showbackground": true,
            "ticks": "",
            "zerolinecolor": "white"
           }
          },
          "shapedefaults": {
           "line": {
            "color": "#2a3f5f"
           }
          },
          "ternary": {
           "aaxis": {
            "gridcolor": "white",
            "linecolor": "white",
            "ticks": ""
           },
           "baxis": {
            "gridcolor": "white",
            "linecolor": "white",
            "ticks": ""
           },
           "bgcolor": "#E5ECF6",
           "caxis": {
            "gridcolor": "white",
            "linecolor": "white",
            "ticks": ""
           }
          },
          "title": {
           "x": 0.05
          },
          "xaxis": {
           "automargin": true,
           "gridcolor": "white",
           "linecolor": "white",
           "ticks": "",
           "zerolinecolor": "white",
           "zerolinewidth": 2
          },
          "yaxis": {
           "automargin": true,
           "gridcolor": "white",
           "linecolor": "white",
           "ticks": "",
           "zerolinecolor": "white",
           "zerolinewidth": 2
          }
         }
        },
        "title": {
         "text": "Price vs. Date"
        },
        "xaxis": {
         "anchor": "y",
         "domain": [
          0,
          0.98
         ],
         "title": {
          "text": "date"
         }
        },
        "yaxis": {
         "anchor": "x",
         "domain": [
          0,
          1
         ],
         "title": {
          "text": "price"
         }
        }
       }
      },
      "text/html": [
       "<div>\n",
       "        \n",
       "        \n",
       "            <div id=\"a77eba9d-543d-4c79-a889-99b29a9c7958\" class=\"plotly-graph-div\" style=\"height:600px; width:100%;\"></div>\n",
       "            <script type=\"text/javascript\">\n",
       "                require([\"plotly\"], function(Plotly) {\n",
       "                    window.PLOTLYENV=window.PLOTLYENV || {};\n",
       "                    \n",
       "                if (document.getElementById(\"a77eba9d-543d-4c79-a889-99b29a9c7958\")) {\n",
       "                    Plotly.newPlot(\n",
       "                        'a77eba9d-543d-4c79-a889-99b29a9c7958',\n",
       "                        [{\"hoverlabel\": {\"namelength\": 0}, \"hovertemplate\": \"date=%{x}<br>price=%{y}\", \"legendgroup\": \"\", \"marker\": {\"color\": \"#636efa\", \"symbol\": \"circle\"}, \"mode\": \"markers\", \"name\": \"\", \"showlegend\": false, \"type\": \"scatter\", \"x\": [\"2018-04-01T00:00:00\", \"2018-04-02T00:00:00\", \"2018-04-03T00:00:00\", \"2018-04-04T00:00:00\", \"2018-04-05T00:00:00\", \"2018-04-06T00:00:00\", \"2018-04-07T00:00:00\", \"2018-04-08T00:00:00\", \"2018-04-09T00:00:00\", \"2018-04-10T00:00:00\", \"2018-04-11T00:00:00\", \"2018-04-12T00:00:00\", \"2018-04-13T00:00:00\", \"2018-04-14T00:00:00\", \"2018-04-15T00:00:00\", \"2018-04-16T00:00:00\", \"2018-04-17T00:00:00\", \"2018-04-18T00:00:00\", \"2018-04-19T00:00:00\", \"2018-04-20T00:00:00\", \"2018-04-21T00:00:00\", \"2018-04-22T00:00:00\", \"2018-04-23T00:00:00\", \"2018-04-24T00:00:00\", \"2018-04-25T00:00:00\", \"2018-04-26T00:00:00\", \"2018-04-27T00:00:00\", \"2018-04-28T00:00:00\", \"2018-04-29T00:00:00\", \"2018-04-30T00:00:00\", \"2018-05-01T00:00:00\", \"2018-05-02T00:00:00\", \"2018-05-03T00:00:00\", \"2018-05-04T00:00:00\", \"2018-05-05T00:00:00\", \"2018-05-06T00:00:00\", \"2018-05-07T00:00:00\", \"2018-05-08T00:00:00\", \"2018-05-09T00:00:00\", \"2018-05-10T00:00:00\", \"2018-05-11T00:00:00\", \"2018-05-12T00:00:00\", \"2018-05-13T00:00:00\", \"2018-05-14T00:00:00\", \"2018-05-15T00:00:00\", \"2018-05-16T00:00:00\", \"2018-05-17T00:00:00\", \"2018-05-18T00:00:00\", \"2018-05-19T00:00:00\", \"2018-05-20T00:00:00\", \"2018-05-21T00:00:00\", \"2018-05-22T00:00:00\", \"2018-05-23T00:00:00\", \"2018-05-24T00:00:00\", \"2018-05-25T00:00:00\", \"2018-05-26T00:00:00\", \"2018-05-27T00:00:00\", \"2018-05-28T00:00:00\", \"2018-05-29T00:00:00\", \"2018-05-30T00:00:00\", \"2018-05-31T00:00:00\"], \"xaxis\": \"x\", \"y\": [250, 115, 115, 115, 150, 153, 152, 115, 115, 115, 115, 150, 150, 150, 115, 115, 115, 150, 150, 150, 150, 150, 150, 150, 150, 150, 150, 150, 150, 150, 150, 150, 150, 150, 150, 150, 150, 150, 150, 150, 150, 150, 150, 150, 150, 150, 150, 150, 150, 150, 150, 150, 150, 150, 150, 150, 150, 150, 150, 150, 150], \"yaxis\": \"y\"}],\n",
       "                        {\"height\": 600, \"legend\": {\"tracegroupgap\": 0}, \"template\": {\"data\": {\"bar\": [{\"error_x\": {\"color\": \"#2a3f5f\"}, \"error_y\": {\"color\": \"#2a3f5f\"}, \"marker\": {\"line\": {\"color\": \"#E5ECF6\", \"width\": 0.5}}, \"type\": \"bar\"}], \"barpolar\": [{\"marker\": {\"line\": {\"color\": \"#E5ECF6\", \"width\": 0.5}}, \"type\": \"barpolar\"}], \"carpet\": [{\"aaxis\": {\"endlinecolor\": \"#2a3f5f\", \"gridcolor\": \"white\", \"linecolor\": \"white\", \"minorgridcolor\": \"white\", \"startlinecolor\": \"#2a3f5f\"}, \"baxis\": {\"endlinecolor\": \"#2a3f5f\", \"gridcolor\": \"white\", \"linecolor\": \"white\", \"minorgridcolor\": \"white\", \"startlinecolor\": \"#2a3f5f\"}, \"type\": \"carpet\"}], \"choropleth\": [{\"colorbar\": {\"outlinewidth\": 0, \"ticks\": \"\"}, \"type\": \"choropleth\"}], \"contour\": [{\"colorbar\": {\"outlinewidth\": 0, \"ticks\": \"\"}, \"colorscale\": [[0.0, \"#0d0887\"], [0.1111111111111111, \"#46039f\"], [0.2222222222222222, \"#7201a8\"], [0.3333333333333333, \"#9c179e\"], [0.4444444444444444, \"#bd3786\"], [0.5555555555555556, \"#d8576b\"], [0.6666666666666666, \"#ed7953\"], [0.7777777777777778, \"#fb9f3a\"], [0.8888888888888888, \"#fdca26\"], [1.0, \"#f0f921\"]], \"type\": \"contour\"}], \"contourcarpet\": [{\"colorbar\": {\"outlinewidth\": 0, \"ticks\": \"\"}, \"type\": \"contourcarpet\"}], \"heatmap\": [{\"colorbar\": {\"outlinewidth\": 0, \"ticks\": \"\"}, \"colorscale\": [[0.0, \"#0d0887\"], [0.1111111111111111, \"#46039f\"], [0.2222222222222222, \"#7201a8\"], [0.3333333333333333, \"#9c179e\"], [0.4444444444444444, \"#bd3786\"], [0.5555555555555556, \"#d8576b\"], [0.6666666666666666, \"#ed7953\"], [0.7777777777777778, \"#fb9f3a\"], [0.8888888888888888, \"#fdca26\"], [1.0, \"#f0f921\"]], \"type\": \"heatmap\"}], \"heatmapgl\": [{\"colorbar\": {\"outlinewidth\": 0, \"ticks\": \"\"}, \"colorscale\": [[0.0, \"#0d0887\"], [0.1111111111111111, \"#46039f\"], [0.2222222222222222, \"#7201a8\"], [0.3333333333333333, \"#9c179e\"], [0.4444444444444444, \"#bd3786\"], [0.5555555555555556, \"#d8576b\"], [0.6666666666666666, \"#ed7953\"], [0.7777777777777778, \"#fb9f3a\"], [0.8888888888888888, \"#fdca26\"], [1.0, \"#f0f921\"]], \"type\": \"heatmapgl\"}], \"histogram\": [{\"marker\": {\"colorbar\": {\"outlinewidth\": 0, \"ticks\": \"\"}}, \"type\": \"histogram\"}], \"histogram2d\": [{\"colorbar\": {\"outlinewidth\": 0, \"ticks\": \"\"}, \"colorscale\": [[0.0, \"#0d0887\"], [0.1111111111111111, \"#46039f\"], [0.2222222222222222, \"#7201a8\"], [0.3333333333333333, \"#9c179e\"], [0.4444444444444444, \"#bd3786\"], [0.5555555555555556, \"#d8576b\"], [0.6666666666666666, \"#ed7953\"], [0.7777777777777778, \"#fb9f3a\"], [0.8888888888888888, \"#fdca26\"], [1.0, \"#f0f921\"]], \"type\": \"histogram2d\"}], \"histogram2dcontour\": [{\"colorbar\": {\"outlinewidth\": 0, \"ticks\": \"\"}, \"colorscale\": [[0.0, \"#0d0887\"], [0.1111111111111111, \"#46039f\"], [0.2222222222222222, \"#7201a8\"], [0.3333333333333333, \"#9c179e\"], [0.4444444444444444, \"#bd3786\"], [0.5555555555555556, \"#d8576b\"], [0.6666666666666666, \"#ed7953\"], [0.7777777777777778, \"#fb9f3a\"], [0.8888888888888888, \"#fdca26\"], [1.0, \"#f0f921\"]], \"type\": \"histogram2dcontour\"}], \"mesh3d\": [{\"colorbar\": {\"outlinewidth\": 0, \"ticks\": \"\"}, \"type\": \"mesh3d\"}], \"parcoords\": [{\"line\": {\"colorbar\": {\"outlinewidth\": 0, \"ticks\": \"\"}}, \"type\": \"parcoords\"}], \"scatter\": [{\"marker\": {\"colorbar\": {\"outlinewidth\": 0, \"ticks\": \"\"}}, \"type\": \"scatter\"}], \"scatter3d\": [{\"line\": {\"colorbar\": {\"outlinewidth\": 0, \"ticks\": \"\"}}, \"marker\": {\"colorbar\": {\"outlinewidth\": 0, \"ticks\": \"\"}}, \"type\": \"scatter3d\"}], \"scattercarpet\": [{\"marker\": {\"colorbar\": {\"outlinewidth\": 0, \"ticks\": \"\"}}, \"type\": \"scattercarpet\"}], \"scattergeo\": [{\"marker\": {\"colorbar\": {\"outlinewidth\": 0, \"ticks\": \"\"}}, \"type\": \"scattergeo\"}], \"scattergl\": [{\"marker\": {\"colorbar\": {\"outlinewidth\": 0, \"ticks\": \"\"}}, \"type\": \"scattergl\"}], \"scattermapbox\": [{\"marker\": {\"colorbar\": {\"outlinewidth\": 0, \"ticks\": \"\"}}, \"type\": \"scattermapbox\"}], \"scatterpolar\": [{\"marker\": {\"colorbar\": {\"outlinewidth\": 0, \"ticks\": \"\"}}, \"type\": \"scatterpolar\"}], \"scatterpolargl\": [{\"marker\": {\"colorbar\": {\"outlinewidth\": 0, \"ticks\": \"\"}}, \"type\": \"scatterpolargl\"}], \"scatterternary\": [{\"marker\": {\"colorbar\": {\"outlinewidth\": 0, \"ticks\": \"\"}}, \"type\": \"scatterternary\"}], \"surface\": [{\"colorbar\": {\"outlinewidth\": 0, \"ticks\": \"\"}, \"colorscale\": [[0.0, \"#0d0887\"], [0.1111111111111111, \"#46039f\"], [0.2222222222222222, \"#7201a8\"], [0.3333333333333333, \"#9c179e\"], [0.4444444444444444, \"#bd3786\"], [0.5555555555555556, \"#d8576b\"], [0.6666666666666666, \"#ed7953\"], [0.7777777777777778, \"#fb9f3a\"], [0.8888888888888888, \"#fdca26\"], [1.0, \"#f0f921\"]], \"type\": \"surface\"}], \"table\": [{\"cells\": {\"fill\": {\"color\": \"#EBF0F8\"}, \"line\": {\"color\": \"white\"}}, \"header\": {\"fill\": {\"color\": \"#C8D4E3\"}, \"line\": {\"color\": \"white\"}}, \"type\": \"table\"}]}, \"layout\": {\"annotationdefaults\": {\"arrowcolor\": \"#2a3f5f\", \"arrowhead\": 0, \"arrowwidth\": 1}, \"colorscale\": {\"diverging\": [[0, \"#8e0152\"], [0.1, \"#c51b7d\"], [0.2, \"#de77ae\"], [0.3, \"#f1b6da\"], [0.4, \"#fde0ef\"], [0.5, \"#f7f7f7\"], [0.6, \"#e6f5d0\"], [0.7, \"#b8e186\"], [0.8, \"#7fbc41\"], [0.9, \"#4d9221\"], [1, \"#276419\"]], \"sequential\": [[0.0, \"#0d0887\"], [0.1111111111111111, \"#46039f\"], [0.2222222222222222, \"#7201a8\"], [0.3333333333333333, \"#9c179e\"], [0.4444444444444444, \"#bd3786\"], [0.5555555555555556, \"#d8576b\"], [0.6666666666666666, \"#ed7953\"], [0.7777777777777778, \"#fb9f3a\"], [0.8888888888888888, \"#fdca26\"], [1.0, \"#f0f921\"]], \"sequentialminus\": [[0.0, \"#0d0887\"], [0.1111111111111111, \"#46039f\"], [0.2222222222222222, \"#7201a8\"], [0.3333333333333333, \"#9c179e\"], [0.4444444444444444, \"#bd3786\"], [0.5555555555555556, \"#d8576b\"], [0.6666666666666666, \"#ed7953\"], [0.7777777777777778, \"#fb9f3a\"], [0.8888888888888888, \"#fdca26\"], [1.0, \"#f0f921\"]]}, \"colorway\": [\"#636efa\", \"#EF553B\", \"#00cc96\", \"#ab63fa\", \"#FFA15A\", \"#19d3f3\", \"#FF6692\", \"#B6E880\", \"#FF97FF\", \"#FECB52\"], \"font\": {\"color\": \"#2a3f5f\"}, \"geo\": {\"bgcolor\": \"white\", \"lakecolor\": \"white\", \"landcolor\": \"#E5ECF6\", \"showlakes\": true, \"showland\": true, \"subunitcolor\": \"white\"}, \"hoverlabel\": {\"align\": \"left\"}, \"hovermode\": \"closest\", \"mapbox\": {\"style\": \"light\"}, \"paper_bgcolor\": \"white\", \"plot_bgcolor\": \"#E5ECF6\", \"polar\": {\"angularaxis\": {\"gridcolor\": \"white\", \"linecolor\": \"white\", \"ticks\": \"\"}, \"bgcolor\": \"#E5ECF6\", \"radialaxis\": {\"gridcolor\": \"white\", \"linecolor\": \"white\", \"ticks\": \"\"}}, \"scene\": {\"xaxis\": {\"backgroundcolor\": \"#E5ECF6\", \"gridcolor\": \"white\", \"gridwidth\": 2, \"linecolor\": \"white\", \"showbackground\": true, \"ticks\": \"\", \"zerolinecolor\": \"white\"}, \"yaxis\": {\"backgroundcolor\": \"#E5ECF6\", \"gridcolor\": \"white\", \"gridwidth\": 2, \"linecolor\": \"white\", \"showbackground\": true, \"ticks\": \"\", \"zerolinecolor\": \"white\"}, \"zaxis\": {\"backgroundcolor\": \"#E5ECF6\", \"gridcolor\": \"white\", \"gridwidth\": 2, \"linecolor\": \"white\", \"showbackground\": true, \"ticks\": \"\", \"zerolinecolor\": \"white\"}}, \"shapedefaults\": {\"line\": {\"color\": \"#2a3f5f\"}}, \"ternary\": {\"aaxis\": {\"gridcolor\": \"white\", \"linecolor\": \"white\", \"ticks\": \"\"}, \"baxis\": {\"gridcolor\": \"white\", \"linecolor\": \"white\", \"ticks\": \"\"}, \"bgcolor\": \"#E5ECF6\", \"caxis\": {\"gridcolor\": \"white\", \"linecolor\": \"white\", \"ticks\": \"\"}}, \"title\": {\"x\": 0.05}, \"xaxis\": {\"automargin\": true, \"gridcolor\": \"white\", \"linecolor\": \"white\", \"ticks\": \"\", \"zerolinecolor\": \"white\", \"zerolinewidth\": 2}, \"yaxis\": {\"automargin\": true, \"gridcolor\": \"white\", \"linecolor\": \"white\", \"ticks\": \"\", \"zerolinecolor\": \"white\", \"zerolinewidth\": 2}}}, \"title\": {\"text\": \"Price vs. Date\"}, \"xaxis\": {\"anchor\": \"y\", \"domain\": [0.0, 0.98], \"title\": {\"text\": \"date\"}}, \"yaxis\": {\"anchor\": \"x\", \"domain\": [0.0, 1.0], \"title\": {\"text\": \"price\"}}},\n",
       "                        {\"responsive\": true}\n",
       "                    ).then(function(){\n",
       "                            \n",
       "var gd = document.getElementById('a77eba9d-543d-4c79-a889-99b29a9c7958');\n",
       "var x = new MutationObserver(function (mutations, observer) {{\n",
       "        var display = window.getComputedStyle(gd).display;\n",
       "        if (!display || display === 'none') {{\n",
       "            console.log([gd, 'removed!']);\n",
       "            Plotly.purge(gd);\n",
       "            observer.disconnect();\n",
       "        }}\n",
       "}});\n",
       "\n",
       "// Listen for the removal of the full notebook cells\n",
       "var notebookContainer = gd.closest('#notebook-container');\n",
       "if (notebookContainer) {{\n",
       "    x.observe(notebookContainer, {childList: true});\n",
       "}}\n",
       "\n",
       "// Listen for the clearing of the current output cell\n",
       "var outputEl = gd.closest('.output');\n",
       "if (outputEl) {{\n",
       "    x.observe(outputEl, {childList: true});\n",
       "}}\n",
       "\n",
       "                        })\n",
       "                };\n",
       "                });\n",
       "            </script>\n",
       "        </div>"
      ]
     },
     "metadata": {},
     "output_type": "display_data"
    }
   ],
   "source": [
    "fig = px.scatter(df, x=\"date\", y=\"price\", title='Price vs. Date')\n",
    "fig.show()"
   ]
  },
  {
   "cell_type": "code",
   "execution_count": 184,
   "metadata": {},
   "outputs": [
    {
     "data": {
      "application/vnd.plotly.v1+json": {
       "config": {
        "plotlyServerURL": "https://plot.ly"
       },
       "data": [
        {
         "hoverlabel": {
          "namelength": 0
         },
         "hovertemplate": "date=%{x}<br>available=%{y}",
         "legendgroup": "",
         "marker": {
          "color": "#636efa",
          "symbol": "circle"
         },
         "mode": "markers",
         "name": "",
         "showlegend": false,
         "type": "scatter",
         "x": [
          "2018-04-01T00:00:00",
          "2018-04-02T00:00:00",
          "2018-04-03T00:00:00",
          "2018-04-04T00:00:00",
          "2018-04-05T00:00:00",
          "2018-04-06T00:00:00",
          "2018-04-07T00:00:00",
          "2018-04-08T00:00:00",
          "2018-04-09T00:00:00",
          "2018-04-10T00:00:00",
          "2018-04-11T00:00:00",
          "2018-04-12T00:00:00",
          "2018-04-13T00:00:00",
          "2018-04-14T00:00:00",
          "2018-04-15T00:00:00",
          "2018-04-16T00:00:00",
          "2018-04-17T00:00:00",
          "2018-04-18T00:00:00",
          "2018-04-19T00:00:00",
          "2018-04-20T00:00:00",
          "2018-04-21T00:00:00",
          "2018-04-22T00:00:00",
          "2018-04-23T00:00:00",
          "2018-04-24T00:00:00",
          "2018-04-25T00:00:00",
          "2018-04-26T00:00:00",
          "2018-04-27T00:00:00",
          "2018-04-28T00:00:00",
          "2018-04-29T00:00:00",
          "2018-04-30T00:00:00",
          "2018-05-01T00:00:00",
          "2018-05-02T00:00:00",
          "2018-05-03T00:00:00",
          "2018-05-04T00:00:00",
          "2018-05-05T00:00:00",
          "2018-05-06T00:00:00",
          "2018-05-07T00:00:00",
          "2018-05-08T00:00:00",
          "2018-05-09T00:00:00",
          "2018-05-10T00:00:00",
          "2018-05-11T00:00:00",
          "2018-05-12T00:00:00",
          "2018-05-13T00:00:00",
          "2018-05-14T00:00:00",
          "2018-05-15T00:00:00",
          "2018-05-16T00:00:00",
          "2018-05-17T00:00:00",
          "2018-05-18T00:00:00",
          "2018-05-19T00:00:00",
          "2018-05-20T00:00:00",
          "2018-05-21T00:00:00",
          "2018-05-22T00:00:00",
          "2018-05-23T00:00:00",
          "2018-05-24T00:00:00",
          "2018-05-25T00:00:00",
          "2018-05-26T00:00:00",
          "2018-05-27T00:00:00",
          "2018-05-28T00:00:00",
          "2018-05-29T00:00:00",
          "2018-05-30T00:00:00",
          "2018-05-31T00:00:00"
         ],
         "xaxis": "x",
         "y": [
          1,
          1,
          1,
          1,
          0,
          0,
          0,
          1,
          1,
          1,
          1,
          0,
          0,
          0,
          1,
          1,
          1,
          0,
          0,
          0,
          0,
          0,
          0,
          0,
          0,
          0,
          0,
          0,
          1,
          1,
          1,
          1,
          0,
          0,
          0,
          1,
          1,
          1,
          1,
          1,
          1,
          1,
          1,
          1,
          1,
          1,
          1,
          0,
          0,
          0,
          1,
          1,
          1,
          1,
          1,
          1,
          1,
          1,
          0,
          0,
          0
         ],
         "yaxis": "y"
        }
       ],
       "layout": {
        "height": 600,
        "legend": {
         "tracegroupgap": 0
        },
        "template": {
         "data": {
          "bar": [
           {
            "error_x": {
             "color": "#2a3f5f"
            },
            "error_y": {
             "color": "#2a3f5f"
            },
            "marker": {
             "line": {
              "color": "#E5ECF6",
              "width": 0.5
             }
            },
            "type": "bar"
           }
          ],
          "barpolar": [
           {
            "marker": {
             "line": {
              "color": "#E5ECF6",
              "width": 0.5
             }
            },
            "type": "barpolar"
           }
          ],
          "carpet": [
           {
            "aaxis": {
             "endlinecolor": "#2a3f5f",
             "gridcolor": "white",
             "linecolor": "white",
             "minorgridcolor": "white",
             "startlinecolor": "#2a3f5f"
            },
            "baxis": {
             "endlinecolor": "#2a3f5f",
             "gridcolor": "white",
             "linecolor": "white",
             "minorgridcolor": "white",
             "startlinecolor": "#2a3f5f"
            },
            "type": "carpet"
           }
          ],
          "choropleth": [
           {
            "colorbar": {
             "outlinewidth": 0,
             "ticks": ""
            },
            "type": "choropleth"
           }
          ],
          "contour": [
           {
            "colorbar": {
             "outlinewidth": 0,
             "ticks": ""
            },
            "colorscale": [
             [
              0,
              "#0d0887"
             ],
             [
              0.1111111111111111,
              "#46039f"
             ],
             [
              0.2222222222222222,
              "#7201a8"
             ],
             [
              0.3333333333333333,
              "#9c179e"
             ],
             [
              0.4444444444444444,
              "#bd3786"
             ],
             [
              0.5555555555555556,
              "#d8576b"
             ],
             [
              0.6666666666666666,
              "#ed7953"
             ],
             [
              0.7777777777777778,
              "#fb9f3a"
             ],
             [
              0.8888888888888888,
              "#fdca26"
             ],
             [
              1,
              "#f0f921"
             ]
            ],
            "type": "contour"
           }
          ],
          "contourcarpet": [
           {
            "colorbar": {
             "outlinewidth": 0,
             "ticks": ""
            },
            "type": "contourcarpet"
           }
          ],
          "heatmap": [
           {
            "colorbar": {
             "outlinewidth": 0,
             "ticks": ""
            },
            "colorscale": [
             [
              0,
              "#0d0887"
             ],
             [
              0.1111111111111111,
              "#46039f"
             ],
             [
              0.2222222222222222,
              "#7201a8"
             ],
             [
              0.3333333333333333,
              "#9c179e"
             ],
             [
              0.4444444444444444,
              "#bd3786"
             ],
             [
              0.5555555555555556,
              "#d8576b"
             ],
             [
              0.6666666666666666,
              "#ed7953"
             ],
             [
              0.7777777777777778,
              "#fb9f3a"
             ],
             [
              0.8888888888888888,
              "#fdca26"
             ],
             [
              1,
              "#f0f921"
             ]
            ],
            "type": "heatmap"
           }
          ],
          "heatmapgl": [
           {
            "colorbar": {
             "outlinewidth": 0,
             "ticks": ""
            },
            "colorscale": [
             [
              0,
              "#0d0887"
             ],
             [
              0.1111111111111111,
              "#46039f"
             ],
             [
              0.2222222222222222,
              "#7201a8"
             ],
             [
              0.3333333333333333,
              "#9c179e"
             ],
             [
              0.4444444444444444,
              "#bd3786"
             ],
             [
              0.5555555555555556,
              "#d8576b"
             ],
             [
              0.6666666666666666,
              "#ed7953"
             ],
             [
              0.7777777777777778,
              "#fb9f3a"
             ],
             [
              0.8888888888888888,
              "#fdca26"
             ],
             [
              1,
              "#f0f921"
             ]
            ],
            "type": "heatmapgl"
           }
          ],
          "histogram": [
           {
            "marker": {
             "colorbar": {
              "outlinewidth": 0,
              "ticks": ""
             }
            },
            "type": "histogram"
           }
          ],
          "histogram2d": [
           {
            "colorbar": {
             "outlinewidth": 0,
             "ticks": ""
            },
            "colorscale": [
             [
              0,
              "#0d0887"
             ],
             [
              0.1111111111111111,
              "#46039f"
             ],
             [
              0.2222222222222222,
              "#7201a8"
             ],
             [
              0.3333333333333333,
              "#9c179e"
             ],
             [
              0.4444444444444444,
              "#bd3786"
             ],
             [
              0.5555555555555556,
              "#d8576b"
             ],
             [
              0.6666666666666666,
              "#ed7953"
             ],
             [
              0.7777777777777778,
              "#fb9f3a"
             ],
             [
              0.8888888888888888,
              "#fdca26"
             ],
             [
              1,
              "#f0f921"
             ]
            ],
            "type": "histogram2d"
           }
          ],
          "histogram2dcontour": [
           {
            "colorbar": {
             "outlinewidth": 0,
             "ticks": ""
            },
            "colorscale": [
             [
              0,
              "#0d0887"
             ],
             [
              0.1111111111111111,
              "#46039f"
             ],
             [
              0.2222222222222222,
              "#7201a8"
             ],
             [
              0.3333333333333333,
              "#9c179e"
             ],
             [
              0.4444444444444444,
              "#bd3786"
             ],
             [
              0.5555555555555556,
              "#d8576b"
             ],
             [
              0.6666666666666666,
              "#ed7953"
             ],
             [
              0.7777777777777778,
              "#fb9f3a"
             ],
             [
              0.8888888888888888,
              "#fdca26"
             ],
             [
              1,
              "#f0f921"
             ]
            ],
            "type": "histogram2dcontour"
           }
          ],
          "mesh3d": [
           {
            "colorbar": {
             "outlinewidth": 0,
             "ticks": ""
            },
            "type": "mesh3d"
           }
          ],
          "parcoords": [
           {
            "line": {
             "colorbar": {
              "outlinewidth": 0,
              "ticks": ""
             }
            },
            "type": "parcoords"
           }
          ],
          "scatter": [
           {
            "marker": {
             "colorbar": {
              "outlinewidth": 0,
              "ticks": ""
             }
            },
            "type": "scatter"
           }
          ],
          "scatter3d": [
           {
            "line": {
             "colorbar": {
              "outlinewidth": 0,
              "ticks": ""
             }
            },
            "marker": {
             "colorbar": {
              "outlinewidth": 0,
              "ticks": ""
             }
            },
            "type": "scatter3d"
           }
          ],
          "scattercarpet": [
           {
            "marker": {
             "colorbar": {
              "outlinewidth": 0,
              "ticks": ""
             }
            },
            "type": "scattercarpet"
           }
          ],
          "scattergeo": [
           {
            "marker": {
             "colorbar": {
              "outlinewidth": 0,
              "ticks": ""
             }
            },
            "type": "scattergeo"
           }
          ],
          "scattergl": [
           {
            "marker": {
             "colorbar": {
              "outlinewidth": 0,
              "ticks": ""
             }
            },
            "type": "scattergl"
           }
          ],
          "scattermapbox": [
           {
            "marker": {
             "colorbar": {
              "outlinewidth": 0,
              "ticks": ""
             }
            },
            "type": "scattermapbox"
           }
          ],
          "scatterpolar": [
           {
            "marker": {
             "colorbar": {
              "outlinewidth": 0,
              "ticks": ""
             }
            },
            "type": "scatterpolar"
           }
          ],
          "scatterpolargl": [
           {
            "marker": {
             "colorbar": {
              "outlinewidth": 0,
              "ticks": ""
             }
            },
            "type": "scatterpolargl"
           }
          ],
          "scatterternary": [
           {
            "marker": {
             "colorbar": {
              "outlinewidth": 0,
              "ticks": ""
             }
            },
            "type": "scatterternary"
           }
          ],
          "surface": [
           {
            "colorbar": {
             "outlinewidth": 0,
             "ticks": ""
            },
            "colorscale": [
             [
              0,
              "#0d0887"
             ],
             [
              0.1111111111111111,
              "#46039f"
             ],
             [
              0.2222222222222222,
              "#7201a8"
             ],
             [
              0.3333333333333333,
              "#9c179e"
             ],
             [
              0.4444444444444444,
              "#bd3786"
             ],
             [
              0.5555555555555556,
              "#d8576b"
             ],
             [
              0.6666666666666666,
              "#ed7953"
             ],
             [
              0.7777777777777778,
              "#fb9f3a"
             ],
             [
              0.8888888888888888,
              "#fdca26"
             ],
             [
              1,
              "#f0f921"
             ]
            ],
            "type": "surface"
           }
          ],
          "table": [
           {
            "cells": {
             "fill": {
              "color": "#EBF0F8"
             },
             "line": {
              "color": "white"
             }
            },
            "header": {
             "fill": {
              "color": "#C8D4E3"
             },
             "line": {
              "color": "white"
             }
            },
            "type": "table"
           }
          ]
         },
         "layout": {
          "annotationdefaults": {
           "arrowcolor": "#2a3f5f",
           "arrowhead": 0,
           "arrowwidth": 1
          },
          "colorscale": {
           "diverging": [
            [
             0,
             "#8e0152"
            ],
            [
             0.1,
             "#c51b7d"
            ],
            [
             0.2,
             "#de77ae"
            ],
            [
             0.3,
             "#f1b6da"
            ],
            [
             0.4,
             "#fde0ef"
            ],
            [
             0.5,
             "#f7f7f7"
            ],
            [
             0.6,
             "#e6f5d0"
            ],
            [
             0.7,
             "#b8e186"
            ],
            [
             0.8,
             "#7fbc41"
            ],
            [
             0.9,
             "#4d9221"
            ],
            [
             1,
             "#276419"
            ]
           ],
           "sequential": [
            [
             0,
             "#0d0887"
            ],
            [
             0.1111111111111111,
             "#46039f"
            ],
            [
             0.2222222222222222,
             "#7201a8"
            ],
            [
             0.3333333333333333,
             "#9c179e"
            ],
            [
             0.4444444444444444,
             "#bd3786"
            ],
            [
             0.5555555555555556,
             "#d8576b"
            ],
            [
             0.6666666666666666,
             "#ed7953"
            ],
            [
             0.7777777777777778,
             "#fb9f3a"
            ],
            [
             0.8888888888888888,
             "#fdca26"
            ],
            [
             1,
             "#f0f921"
            ]
           ],
           "sequentialminus": [
            [
             0,
             "#0d0887"
            ],
            [
             0.1111111111111111,
             "#46039f"
            ],
            [
             0.2222222222222222,
             "#7201a8"
            ],
            [
             0.3333333333333333,
             "#9c179e"
            ],
            [
             0.4444444444444444,
             "#bd3786"
            ],
            [
             0.5555555555555556,
             "#d8576b"
            ],
            [
             0.6666666666666666,
             "#ed7953"
            ],
            [
             0.7777777777777778,
             "#fb9f3a"
            ],
            [
             0.8888888888888888,
             "#fdca26"
            ],
            [
             1,
             "#f0f921"
            ]
           ]
          },
          "colorway": [
           "#636efa",
           "#EF553B",
           "#00cc96",
           "#ab63fa",
           "#FFA15A",
           "#19d3f3",
           "#FF6692",
           "#B6E880",
           "#FF97FF",
           "#FECB52"
          ],
          "font": {
           "color": "#2a3f5f"
          },
          "geo": {
           "bgcolor": "white",
           "lakecolor": "white",
           "landcolor": "#E5ECF6",
           "showlakes": true,
           "showland": true,
           "subunitcolor": "white"
          },
          "hoverlabel": {
           "align": "left"
          },
          "hovermode": "closest",
          "mapbox": {
           "style": "light"
          },
          "paper_bgcolor": "white",
          "plot_bgcolor": "#E5ECF6",
          "polar": {
           "angularaxis": {
            "gridcolor": "white",
            "linecolor": "white",
            "ticks": ""
           },
           "bgcolor": "#E5ECF6",
           "radialaxis": {
            "gridcolor": "white",
            "linecolor": "white",
            "ticks": ""
           }
          },
          "scene": {
           "xaxis": {
            "backgroundcolor": "#E5ECF6",
            "gridcolor": "white",
            "gridwidth": 2,
            "linecolor": "white",
            "showbackground": true,
            "ticks": "",
            "zerolinecolor": "white"
           },
           "yaxis": {
            "backgroundcolor": "#E5ECF6",
            "gridcolor": "white",
            "gridwidth": 2,
            "linecolor": "white",
            "showbackground": true,
            "ticks": "",
            "zerolinecolor": "white"
           },
           "zaxis": {
            "backgroundcolor": "#E5ECF6",
            "gridcolor": "white",
            "gridwidth": 2,
            "linecolor": "white",
            "showbackground": true,
            "ticks": "",
            "zerolinecolor": "white"
           }
          },
          "shapedefaults": {
           "line": {
            "color": "#2a3f5f"
           }
          },
          "ternary": {
           "aaxis": {
            "gridcolor": "white",
            "linecolor": "white",
            "ticks": ""
           },
           "baxis": {
            "gridcolor": "white",
            "linecolor": "white",
            "ticks": ""
           },
           "bgcolor": "#E5ECF6",
           "caxis": {
            "gridcolor": "white",
            "linecolor": "white",
            "ticks": ""
           }
          },
          "title": {
           "x": 0.05
          },
          "xaxis": {
           "automargin": true,
           "gridcolor": "white",
           "linecolor": "white",
           "ticks": "",
           "zerolinecolor": "white",
           "zerolinewidth": 2
          },
          "yaxis": {
           "automargin": true,
           "gridcolor": "white",
           "linecolor": "white",
           "ticks": "",
           "zerolinecolor": "white",
           "zerolinewidth": 2
          }
         }
        },
        "title": {
         "text": "Price vs. Date for Scraping Id 2"
        },
        "xaxis": {
         "anchor": "y",
         "domain": [
          0,
          0.98
         ],
         "title": {
          "text": "date"
         }
        },
        "yaxis": {
         "anchor": "x",
         "domain": [
          0,
          1
         ],
         "title": {
          "text": "available"
         }
        }
       }
      },
      "text/html": [
       "<div>\n",
       "        \n",
       "        \n",
       "            <div id=\"bd82fa14-ba1b-4970-b1fb-c01b1030da3d\" class=\"plotly-graph-div\" style=\"height:600px; width:100%;\"></div>\n",
       "            <script type=\"text/javascript\">\n",
       "                require([\"plotly\"], function(Plotly) {\n",
       "                    window.PLOTLYENV=window.PLOTLYENV || {};\n",
       "                    \n",
       "                if (document.getElementById(\"bd82fa14-ba1b-4970-b1fb-c01b1030da3d\")) {\n",
       "                    Plotly.newPlot(\n",
       "                        'bd82fa14-ba1b-4970-b1fb-c01b1030da3d',\n",
       "                        [{\"hoverlabel\": {\"namelength\": 0}, \"hovertemplate\": \"date=%{x}<br>available=%{y}\", \"legendgroup\": \"\", \"marker\": {\"color\": \"#636efa\", \"symbol\": \"circle\"}, \"mode\": \"markers\", \"name\": \"\", \"showlegend\": false, \"type\": \"scatter\", \"x\": [\"2018-04-01T00:00:00\", \"2018-04-02T00:00:00\", \"2018-04-03T00:00:00\", \"2018-04-04T00:00:00\", \"2018-04-05T00:00:00\", \"2018-04-06T00:00:00\", \"2018-04-07T00:00:00\", \"2018-04-08T00:00:00\", \"2018-04-09T00:00:00\", \"2018-04-10T00:00:00\", \"2018-04-11T00:00:00\", \"2018-04-12T00:00:00\", \"2018-04-13T00:00:00\", \"2018-04-14T00:00:00\", \"2018-04-15T00:00:00\", \"2018-04-16T00:00:00\", \"2018-04-17T00:00:00\", \"2018-04-18T00:00:00\", \"2018-04-19T00:00:00\", \"2018-04-20T00:00:00\", \"2018-04-21T00:00:00\", \"2018-04-22T00:00:00\", \"2018-04-23T00:00:00\", \"2018-04-24T00:00:00\", \"2018-04-25T00:00:00\", \"2018-04-26T00:00:00\", \"2018-04-27T00:00:00\", \"2018-04-28T00:00:00\", \"2018-04-29T00:00:00\", \"2018-04-30T00:00:00\", \"2018-05-01T00:00:00\", \"2018-05-02T00:00:00\", \"2018-05-03T00:00:00\", \"2018-05-04T00:00:00\", \"2018-05-05T00:00:00\", \"2018-05-06T00:00:00\", \"2018-05-07T00:00:00\", \"2018-05-08T00:00:00\", \"2018-05-09T00:00:00\", \"2018-05-10T00:00:00\", \"2018-05-11T00:00:00\", \"2018-05-12T00:00:00\", \"2018-05-13T00:00:00\", \"2018-05-14T00:00:00\", \"2018-05-15T00:00:00\", \"2018-05-16T00:00:00\", \"2018-05-17T00:00:00\", \"2018-05-18T00:00:00\", \"2018-05-19T00:00:00\", \"2018-05-20T00:00:00\", \"2018-05-21T00:00:00\", \"2018-05-22T00:00:00\", \"2018-05-23T00:00:00\", \"2018-05-24T00:00:00\", \"2018-05-25T00:00:00\", \"2018-05-26T00:00:00\", \"2018-05-27T00:00:00\", \"2018-05-28T00:00:00\", \"2018-05-29T00:00:00\", \"2018-05-30T00:00:00\", \"2018-05-31T00:00:00\"], \"xaxis\": \"x\", \"y\": [1, 1, 1, 1, 0, 0, 0, 1, 1, 1, 1, 0, 0, 0, 1, 1, 1, 0, 0, 0, 0, 0, 0, 0, 0, 0, 0, 0, 1, 1, 1, 1, 0, 0, 0, 1, 1, 1, 1, 1, 1, 1, 1, 1, 1, 1, 1, 0, 0, 0, 1, 1, 1, 1, 1, 1, 1, 1, 0, 0, 0], \"yaxis\": \"y\"}],\n",
       "                        {\"height\": 600, \"legend\": {\"tracegroupgap\": 0}, \"template\": {\"data\": {\"bar\": [{\"error_x\": {\"color\": \"#2a3f5f\"}, \"error_y\": {\"color\": \"#2a3f5f\"}, \"marker\": {\"line\": {\"color\": \"#E5ECF6\", \"width\": 0.5}}, \"type\": \"bar\"}], \"barpolar\": [{\"marker\": {\"line\": {\"color\": \"#E5ECF6\", \"width\": 0.5}}, \"type\": \"barpolar\"}], \"carpet\": [{\"aaxis\": {\"endlinecolor\": \"#2a3f5f\", \"gridcolor\": \"white\", \"linecolor\": \"white\", \"minorgridcolor\": \"white\", \"startlinecolor\": \"#2a3f5f\"}, \"baxis\": {\"endlinecolor\": \"#2a3f5f\", \"gridcolor\": \"white\", \"linecolor\": \"white\", \"minorgridcolor\": \"white\", \"startlinecolor\": \"#2a3f5f\"}, \"type\": \"carpet\"}], \"choropleth\": [{\"colorbar\": {\"outlinewidth\": 0, \"ticks\": \"\"}, \"type\": \"choropleth\"}], \"contour\": [{\"colorbar\": {\"outlinewidth\": 0, \"ticks\": \"\"}, \"colorscale\": [[0.0, \"#0d0887\"], [0.1111111111111111, \"#46039f\"], [0.2222222222222222, \"#7201a8\"], [0.3333333333333333, \"#9c179e\"], [0.4444444444444444, \"#bd3786\"], [0.5555555555555556, \"#d8576b\"], [0.6666666666666666, \"#ed7953\"], [0.7777777777777778, \"#fb9f3a\"], [0.8888888888888888, \"#fdca26\"], [1.0, \"#f0f921\"]], \"type\": \"contour\"}], \"contourcarpet\": [{\"colorbar\": {\"outlinewidth\": 0, \"ticks\": \"\"}, \"type\": \"contourcarpet\"}], \"heatmap\": [{\"colorbar\": {\"outlinewidth\": 0, \"ticks\": \"\"}, \"colorscale\": [[0.0, \"#0d0887\"], [0.1111111111111111, \"#46039f\"], [0.2222222222222222, \"#7201a8\"], [0.3333333333333333, \"#9c179e\"], [0.4444444444444444, \"#bd3786\"], [0.5555555555555556, \"#d8576b\"], [0.6666666666666666, \"#ed7953\"], [0.7777777777777778, \"#fb9f3a\"], [0.8888888888888888, \"#fdca26\"], [1.0, \"#f0f921\"]], \"type\": \"heatmap\"}], \"heatmapgl\": [{\"colorbar\": {\"outlinewidth\": 0, \"ticks\": \"\"}, \"colorscale\": [[0.0, \"#0d0887\"], [0.1111111111111111, \"#46039f\"], [0.2222222222222222, \"#7201a8\"], [0.3333333333333333, \"#9c179e\"], [0.4444444444444444, \"#bd3786\"], [0.5555555555555556, \"#d8576b\"], [0.6666666666666666, \"#ed7953\"], [0.7777777777777778, \"#fb9f3a\"], [0.8888888888888888, \"#fdca26\"], [1.0, \"#f0f921\"]], \"type\": \"heatmapgl\"}], \"histogram\": [{\"marker\": {\"colorbar\": {\"outlinewidth\": 0, \"ticks\": \"\"}}, \"type\": \"histogram\"}], \"histogram2d\": [{\"colorbar\": {\"outlinewidth\": 0, \"ticks\": \"\"}, \"colorscale\": [[0.0, \"#0d0887\"], [0.1111111111111111, \"#46039f\"], [0.2222222222222222, \"#7201a8\"], [0.3333333333333333, \"#9c179e\"], [0.4444444444444444, \"#bd3786\"], [0.5555555555555556, \"#d8576b\"], [0.6666666666666666, \"#ed7953\"], [0.7777777777777778, \"#fb9f3a\"], [0.8888888888888888, \"#fdca26\"], [1.0, \"#f0f921\"]], \"type\": \"histogram2d\"}], \"histogram2dcontour\": [{\"colorbar\": {\"outlinewidth\": 0, \"ticks\": \"\"}, \"colorscale\": [[0.0, \"#0d0887\"], [0.1111111111111111, \"#46039f\"], [0.2222222222222222, \"#7201a8\"], [0.3333333333333333, \"#9c179e\"], [0.4444444444444444, \"#bd3786\"], [0.5555555555555556, \"#d8576b\"], [0.6666666666666666, \"#ed7953\"], [0.7777777777777778, \"#fb9f3a\"], [0.8888888888888888, \"#fdca26\"], [1.0, \"#f0f921\"]], \"type\": \"histogram2dcontour\"}], \"mesh3d\": [{\"colorbar\": {\"outlinewidth\": 0, \"ticks\": \"\"}, \"type\": \"mesh3d\"}], \"parcoords\": [{\"line\": {\"colorbar\": {\"outlinewidth\": 0, \"ticks\": \"\"}}, \"type\": \"parcoords\"}], \"scatter\": [{\"marker\": {\"colorbar\": {\"outlinewidth\": 0, \"ticks\": \"\"}}, \"type\": \"scatter\"}], \"scatter3d\": [{\"line\": {\"colorbar\": {\"outlinewidth\": 0, \"ticks\": \"\"}}, \"marker\": {\"colorbar\": {\"outlinewidth\": 0, \"ticks\": \"\"}}, \"type\": \"scatter3d\"}], \"scattercarpet\": [{\"marker\": {\"colorbar\": {\"outlinewidth\": 0, \"ticks\": \"\"}}, \"type\": \"scattercarpet\"}], \"scattergeo\": [{\"marker\": {\"colorbar\": {\"outlinewidth\": 0, \"ticks\": \"\"}}, \"type\": \"scattergeo\"}], \"scattergl\": [{\"marker\": {\"colorbar\": {\"outlinewidth\": 0, \"ticks\": \"\"}}, \"type\": \"scattergl\"}], \"scattermapbox\": [{\"marker\": {\"colorbar\": {\"outlinewidth\": 0, \"ticks\": \"\"}}, \"type\": \"scattermapbox\"}], \"scatterpolar\": [{\"marker\": {\"colorbar\": {\"outlinewidth\": 0, \"ticks\": \"\"}}, \"type\": \"scatterpolar\"}], \"scatterpolargl\": [{\"marker\": {\"colorbar\": {\"outlinewidth\": 0, \"ticks\": \"\"}}, \"type\": \"scatterpolargl\"}], \"scatterternary\": [{\"marker\": {\"colorbar\": {\"outlinewidth\": 0, \"ticks\": \"\"}}, \"type\": \"scatterternary\"}], \"surface\": [{\"colorbar\": {\"outlinewidth\": 0, \"ticks\": \"\"}, \"colorscale\": [[0.0, \"#0d0887\"], [0.1111111111111111, \"#46039f\"], [0.2222222222222222, \"#7201a8\"], [0.3333333333333333, \"#9c179e\"], [0.4444444444444444, \"#bd3786\"], [0.5555555555555556, \"#d8576b\"], [0.6666666666666666, \"#ed7953\"], [0.7777777777777778, \"#fb9f3a\"], [0.8888888888888888, \"#fdca26\"], [1.0, \"#f0f921\"]], \"type\": \"surface\"}], \"table\": [{\"cells\": {\"fill\": {\"color\": \"#EBF0F8\"}, \"line\": {\"color\": \"white\"}}, \"header\": {\"fill\": {\"color\": \"#C8D4E3\"}, \"line\": {\"color\": \"white\"}}, \"type\": \"table\"}]}, \"layout\": {\"annotationdefaults\": {\"arrowcolor\": \"#2a3f5f\", \"arrowhead\": 0, \"arrowwidth\": 1}, \"colorscale\": {\"diverging\": [[0, \"#8e0152\"], [0.1, \"#c51b7d\"], [0.2, \"#de77ae\"], [0.3, \"#f1b6da\"], [0.4, \"#fde0ef\"], [0.5, \"#f7f7f7\"], [0.6, \"#e6f5d0\"], [0.7, \"#b8e186\"], [0.8, \"#7fbc41\"], [0.9, \"#4d9221\"], [1, \"#276419\"]], \"sequential\": [[0.0, \"#0d0887\"], [0.1111111111111111, \"#46039f\"], [0.2222222222222222, \"#7201a8\"], [0.3333333333333333, \"#9c179e\"], [0.4444444444444444, \"#bd3786\"], [0.5555555555555556, \"#d8576b\"], [0.6666666666666666, \"#ed7953\"], [0.7777777777777778, \"#fb9f3a\"], [0.8888888888888888, \"#fdca26\"], [1.0, \"#f0f921\"]], \"sequentialminus\": [[0.0, \"#0d0887\"], [0.1111111111111111, \"#46039f\"], [0.2222222222222222, \"#7201a8\"], [0.3333333333333333, \"#9c179e\"], [0.4444444444444444, \"#bd3786\"], [0.5555555555555556, \"#d8576b\"], [0.6666666666666666, \"#ed7953\"], [0.7777777777777778, \"#fb9f3a\"], [0.8888888888888888, \"#fdca26\"], [1.0, \"#f0f921\"]]}, \"colorway\": [\"#636efa\", \"#EF553B\", \"#00cc96\", \"#ab63fa\", \"#FFA15A\", \"#19d3f3\", \"#FF6692\", \"#B6E880\", \"#FF97FF\", \"#FECB52\"], \"font\": {\"color\": \"#2a3f5f\"}, \"geo\": {\"bgcolor\": \"white\", \"lakecolor\": \"white\", \"landcolor\": \"#E5ECF6\", \"showlakes\": true, \"showland\": true, \"subunitcolor\": \"white\"}, \"hoverlabel\": {\"align\": \"left\"}, \"hovermode\": \"closest\", \"mapbox\": {\"style\": \"light\"}, \"paper_bgcolor\": \"white\", \"plot_bgcolor\": \"#E5ECF6\", \"polar\": {\"angularaxis\": {\"gridcolor\": \"white\", \"linecolor\": \"white\", \"ticks\": \"\"}, \"bgcolor\": \"#E5ECF6\", \"radialaxis\": {\"gridcolor\": \"white\", \"linecolor\": \"white\", \"ticks\": \"\"}}, \"scene\": {\"xaxis\": {\"backgroundcolor\": \"#E5ECF6\", \"gridcolor\": \"white\", \"gridwidth\": 2, \"linecolor\": \"white\", \"showbackground\": true, \"ticks\": \"\", \"zerolinecolor\": \"white\"}, \"yaxis\": {\"backgroundcolor\": \"#E5ECF6\", \"gridcolor\": \"white\", \"gridwidth\": 2, \"linecolor\": \"white\", \"showbackground\": true, \"ticks\": \"\", \"zerolinecolor\": \"white\"}, \"zaxis\": {\"backgroundcolor\": \"#E5ECF6\", \"gridcolor\": \"white\", \"gridwidth\": 2, \"linecolor\": \"white\", \"showbackground\": true, \"ticks\": \"\", \"zerolinecolor\": \"white\"}}, \"shapedefaults\": {\"line\": {\"color\": \"#2a3f5f\"}}, \"ternary\": {\"aaxis\": {\"gridcolor\": \"white\", \"linecolor\": \"white\", \"ticks\": \"\"}, \"baxis\": {\"gridcolor\": \"white\", \"linecolor\": \"white\", \"ticks\": \"\"}, \"bgcolor\": \"#E5ECF6\", \"caxis\": {\"gridcolor\": \"white\", \"linecolor\": \"white\", \"ticks\": \"\"}}, \"title\": {\"x\": 0.05}, \"xaxis\": {\"automargin\": true, \"gridcolor\": \"white\", \"linecolor\": \"white\", \"ticks\": \"\", \"zerolinecolor\": \"white\", \"zerolinewidth\": 2}, \"yaxis\": {\"automargin\": true, \"gridcolor\": \"white\", \"linecolor\": \"white\", \"ticks\": \"\", \"zerolinecolor\": \"white\", \"zerolinewidth\": 2}}}, \"title\": {\"text\": \"Price vs. Date for Scraping Id 2\"}, \"xaxis\": {\"anchor\": \"y\", \"domain\": [0.0, 0.98], \"title\": {\"text\": \"date\"}}, \"yaxis\": {\"anchor\": \"x\", \"domain\": [0.0, 1.0], \"title\": {\"text\": \"available\"}}},\n",
       "                        {\"responsive\": true}\n",
       "                    ).then(function(){\n",
       "                            \n",
       "var gd = document.getElementById('bd82fa14-ba1b-4970-b1fb-c01b1030da3d');\n",
       "var x = new MutationObserver(function (mutations, observer) {{\n",
       "        var display = window.getComputedStyle(gd).display;\n",
       "        if (!display || display === 'none') {{\n",
       "            console.log([gd, 'removed!']);\n",
       "            Plotly.purge(gd);\n",
       "            observer.disconnect();\n",
       "        }}\n",
       "}});\n",
       "\n",
       "// Listen for the removal of the full notebook cells\n",
       "var notebookContainer = gd.closest('#notebook-container');\n",
       "if (notebookContainer) {{\n",
       "    x.observe(notebookContainer, {childList: true});\n",
       "}}\n",
       "\n",
       "// Listen for the clearing of the current output cell\n",
       "var outputEl = gd.closest('.output');\n",
       "if (outputEl) {{\n",
       "    x.observe(outputEl, {childList: true});\n",
       "}}\n",
       "\n",
       "                        })\n",
       "                };\n",
       "                });\n",
       "            </script>\n",
       "        </div>"
      ]
     },
     "metadata": {},
     "output_type": "display_data"
    }
   ],
   "source": [
    "fig = px.scatter(df, x=\"date\", y=\"available\", title='Price vs. Date for Scraping Id 2')\n",
    "fig.show()"
   ]
  },
  {
   "cell_type": "markdown",
   "metadata": {},
   "source": [
    "There are 5647 unique scraping ids in the over 1.6MM scrapped listings"
   ]
  },
  {
   "cell_type": "code",
   "execution_count": null,
   "metadata": {},
   "outputs": [],
   "source": []
  },
  {
   "cell_type": "code",
   "execution_count": null,
   "metadata": {},
   "outputs": [],
   "source": []
  },
  {
   "cell_type": "code",
   "execution_count": null,
   "metadata": {},
   "outputs": [],
   "source": []
  },
  {
   "cell_type": "code",
   "execution_count": null,
   "metadata": {},
   "outputs": [],
   "source": []
  },
  {
   "cell_type": "code",
   "execution_count": null,
   "metadata": {},
   "outputs": [],
   "source": []
  },
  {
   "cell_type": "code",
   "execution_count": null,
   "metadata": {},
   "outputs": [],
   "source": []
  },
  {
   "cell_type": "code",
   "execution_count": null,
   "metadata": {},
   "outputs": [],
   "source": []
  },
  {
   "cell_type": "code",
   "execution_count": null,
   "metadata": {},
   "outputs": [],
   "source": []
  },
  {
   "cell_type": "code",
   "execution_count": null,
   "metadata": {},
   "outputs": [],
   "source": []
  },
  {
   "cell_type": "markdown",
   "metadata": {},
   "source": [
    "## Exploring Scraped Listings "
   ]
  },
  {
   "cell_type": "code",
   "execution_count": 5,
   "metadata": {},
   "outputs": [],
   "source": [
    "df_scraped_listings_raw = pd.read_csv('scraped_data/scraped_listings.csv', encoding=\"ISO-8859-1\")"
   ]
  },
  {
   "cell_type": "code",
   "execution_count": 6,
   "metadata": {},
   "outputs": [
    {
     "name": "stdout",
     "output_type": "stream",
     "text": [
      "<class 'pandas.core.frame.DataFrame'>\n",
      "RangeIndex: 8445 entries, 0 to 8444\n",
      "Data columns (total 14 columns):\n",
      "scraping_id        8445 non-null int64\n",
      "listing            8445 non-null object\n",
      "city               8445 non-null object\n",
      "lon                8445 non-null float64\n",
      "lat                8445 non-null float64\n",
      "mapped_location    8445 non-null object\n",
      "name               8445 non-null object\n",
      "capacity           8445 non-null int64\n",
      "bathrooms          8445 non-null object\n",
      "bedrooms           8445 non-null object\n",
      "has_pool           8445 non-null int64\n",
      "cleaning_fee       8445 non-null object\n",
      "is_superhost       8445 non-null int64\n",
      "host_name          8445 non-null object\n",
      "dtypes: float64(2), int64(4), object(8)\n",
      "memory usage: 923.8+ KB\n"
     ]
    }
   ],
   "source": [
    "df_scraped_listings_raw.info()"
   ]
  },
  {
   "cell_type": "code",
   "execution_count": 7,
   "metadata": {},
   "outputs": [
    {
     "data": {
      "text/html": [
       "<div>\n",
       "<style scoped>\n",
       "    .dataframe tbody tr th:only-of-type {\n",
       "        vertical-align: middle;\n",
       "    }\n",
       "\n",
       "    .dataframe tbody tr th {\n",
       "        vertical-align: top;\n",
       "    }\n",
       "\n",
       "    .dataframe thead th {\n",
       "        text-align: right;\n",
       "    }\n",
       "</style>\n",
       "<table border=\"1\" class=\"dataframe\">\n",
       "  <thead>\n",
       "    <tr style=\"text-align: right;\">\n",
       "      <th></th>\n",
       "      <th>scraping_id</th>\n",
       "      <th>listing</th>\n",
       "      <th>city</th>\n",
       "      <th>lon</th>\n",
       "      <th>lat</th>\n",
       "      <th>mapped_location</th>\n",
       "      <th>name</th>\n",
       "      <th>capacity</th>\n",
       "      <th>bathrooms</th>\n",
       "      <th>bedrooms</th>\n",
       "      <th>has_pool</th>\n",
       "      <th>cleaning_fee</th>\n",
       "      <th>is_superhost</th>\n",
       "      <th>host_name</th>\n",
       "    </tr>\n",
       "  </thead>\n",
       "  <tbody>\n",
       "    <tr>\n",
       "      <th>0</th>\n",
       "      <td>2</td>\n",
       "      <td>https://www.airbnb.com/rooms/17720788</td>\n",
       "      <td>Scottsdale</td>\n",
       "      <td>-111.916935</td>\n",
       "      <td>33.496566</td>\n",
       "      <td>https://maps.google.com/maps?q=33.496565678911...</td>\n",
       "      <td>Old Town Scottsdale Vacation Home &amp; GIANTS Rental</td>\n",
       "      <td>7</td>\n",
       "      <td>2.5</td>\n",
       "      <td>2</td>\n",
       "      <td>1</td>\n",
       "      <td>150</td>\n",
       "      <td>1</td>\n",
       "      <td>Mj</td>\n",
       "    </tr>\n",
       "  </tbody>\n",
       "</table>\n",
       "</div>"
      ],
      "text/plain": [
       "   scraping_id                                listing        city         lon  \\\n",
       "0            2  https://www.airbnb.com/rooms/17720788  Scottsdale -111.916935   \n",
       "\n",
       "         lat                                    mapped_location  \\\n",
       "0  33.496566  https://maps.google.com/maps?q=33.496565678911...   \n",
       "\n",
       "                                                name  capacity bathrooms  \\\n",
       "0  Old Town Scottsdale Vacation Home & GIANTS Rental         7       2.5   \n",
       "\n",
       "  bedrooms  has_pool cleaning_fee  is_superhost host_name  \n",
       "0        2         1          150             1        Mj  "
      ]
     },
     "execution_count": 7,
     "metadata": {},
     "output_type": "execute_result"
    }
   ],
   "source": [
    "df_scraped_listings_raw.head(1)"
   ]
  },
  {
   "cell_type": "code",
   "execution_count": 8,
   "metadata": {},
   "outputs": [
    {
     "data": {
      "text/plain": [
       "(8445, 14)"
      ]
     },
     "execution_count": 8,
     "metadata": {},
     "output_type": "execute_result"
    }
   ],
   "source": [
    "df_scraped_listings_raw.shape"
   ]
  },
  {
   "cell_type": "markdown",
   "metadata": {},
   "source": [
    "#### Exploring the Cities Column"
   ]
  },
  {
   "cell_type": "code",
   "execution_count": 9,
   "metadata": {},
   "outputs": [
    {
     "data": {
      "text/plain": [
       "['??',\n",
       " 'Anthem',\n",
       " 'Apache Junction',\n",
       " 'Avondale',\n",
       " 'Black Canyon City',\n",
       " 'Buckeye',\n",
       " 'Carefree',\n",
       " 'Casa Grande',\n",
       " 'Cave Creek',\n",
       " 'Chandler',\n",
       " 'Coolidge',\n",
       " 'Downtown Phoenix',\n",
       " 'El Mirage',\n",
       " 'Flagstaff',\n",
       " 'Florence',\n",
       " 'Fort McDowell',\n",
       " 'Fountain Hills',\n",
       " 'Gilbert',\n",
       " 'Glendale',\n",
       " 'Gold Canyon',\n",
       " 'Goodyear',\n",
       " 'LAVEEN',\n",
       " 'Laveen',\n",
       " 'Litchfield Park',\n",
       " 'Maricopa',\n",
       " 'Maricopa County',\n",
       " 'Mesa',\n",
       " 'Morristown',\n",
       " 'New River',\n",
       " 'New River ',\n",
       " 'Old Town Scottsdale ',\n",
       " 'Paradise Valley',\n",
       " 'Peoria',\n",
       " 'Phoenix',\n",
       " 'Phoenix ',\n",
       " 'Phoenix  ',\n",
       " 'Queen Creek',\n",
       " 'Rio Verde',\n",
       " 'San Tan Valley',\n",
       " 'Scottsdale',\n",
       " 'Scottsdale ',\n",
       " 'Sun City',\n",
       " 'Sun City West',\n",
       " 'Sun Lakes',\n",
       " 'Surprise',\n",
       " 'Surprise, Arizona, US',\n",
       " 'Tempe',\n",
       " 'Tolleson',\n",
       " 'Waddell',\n",
       " 'Wittmann',\n",
       " 'Youngtown',\n",
       " 'phoenix',\n",
       " 'scottsdale']"
      ]
     },
     "execution_count": 9,
     "metadata": {},
     "output_type": "execute_result"
    }
   ],
   "source": [
    "cities = df_scraped_listings_raw['city'].unique()\n",
    "sorted(cities)"
   ]
  },
  {
   "cell_type": "markdown",
   "metadata": {},
   "source": [
    "Note: from initial inspection, there seems to be city with ?? which might indicate an error. A few columns have lower case words and extra spacings. To solve this, we'll classify a few different error types and recategorize the listings city column based on this logic.\n",
    "\n",
    "    1) City names should all be lowercased and stripped of spaces. Each listing in the df_listings dataframe needs to then be updated. We'll create some functions to do that. \n",
    "    2) Some of the listings might include US by mistake (e.g Surprise, Arizona, US). For future use, we should maintain a dictionary of proper listings and remove any text that doesn't match a city in the USA (if this is the market). "
   ]
  },
  {
   "cell_type": "code",
   "execution_count": 10,
   "metadata": {},
   "outputs": [
    {
     "data": {
      "text/plain": [
       "array(['Scottsdale', 'Phoenix', 'Tempe', 'Paradise Valley', 'Mesa',\n",
       "       'Gilbert', 'Glendale', 'scottsdale', 'Maricopa County', 'Chandler',\n",
       "       'Fountain Hills', 'Peoria', 'Cave Creek', 'Tolleson', 'Avondale',\n",
       "       'Litchfield Park', 'Laveen', 'San Tan Valley', 'Surprise',\n",
       "       'Queen Creek', 'Goodyear', 'LAVEEN', 'Sun City', 'Sun City West',\n",
       "       'Rio Verde', 'Maricopa', 'Anthem', 'Gold Canyon', 'New River',\n",
       "       'Apache Junction', 'Sun Lakes', 'Carefree', 'Old Town Scottsdale ',\n",
       "       'El Mirage', 'Phoenix  ', 'Buckeye', 'Waddell', 'Casa Grande',\n",
       "       'New River ', 'Morristown', 'Scottsdale ', 'Fort McDowell',\n",
       "       'Flagstaff', 'Phoenix ', 'Downtown Phoenix', 'Florence', 'phoenix',\n",
       "       'Surprise, Arizona, US', '??', 'Black Canyon City', 'Wittmann',\n",
       "       'Coolidge', 'Youngtown'], dtype=object)"
      ]
     },
     "execution_count": 10,
     "metadata": {},
     "output_type": "execute_result"
    }
   ],
   "source": [
    "df_scraped_listings_raw['city'].unique()"
   ]
  },
  {
   "cell_type": "markdown",
   "metadata": {},
   "source": [
    "df_scraped_listings_raw['city'] = df_scraped_listings_raw['city'].str.lower().str.strip()"
   ]
  },
  {
   "cell_type": "code",
   "execution_count": 11,
   "metadata": {},
   "outputs": [],
   "source": [
    "def fix_str_col(df, col):\n",
    "    #get rid of edge case where the user added more than just city \n",
    "    df.loc[df[col] == 'Surprise, Arizona, US', col] = 'Surprise'\n",
    "    \n",
    "    #normalize names and remove trialing or leading whitespaces\n",
    "    df[col] = df[col].str.strip().str.lower()\n"
   ]
  },
  {
   "cell_type": "markdown",
   "metadata": {},
   "source": [
    "fix_str_col(df_scraped_listings_raw, col = 'city')"
   ]
  },
  {
   "cell_type": "code",
   "execution_count": 12,
   "metadata": {},
   "outputs": [],
   "source": [
    "fix_str_col(df_scraped_listings_raw, col = 'city')"
   ]
  },
  {
   "cell_type": "code",
   "execution_count": 13,
   "metadata": {},
   "outputs": [
    {
     "data": {
      "text/plain": [
       "['??',\n",
       " 'anthem',\n",
       " 'apache junction',\n",
       " 'avondale',\n",
       " 'black canyon city',\n",
       " 'buckeye',\n",
       " 'carefree',\n",
       " 'casa grande',\n",
       " 'cave creek',\n",
       " 'chandler',\n",
       " 'coolidge',\n",
       " 'downtown phoenix',\n",
       " 'el mirage',\n",
       " 'flagstaff',\n",
       " 'florence',\n",
       " 'fort mcdowell',\n",
       " 'fountain hills',\n",
       " 'gilbert',\n",
       " 'glendale',\n",
       " 'gold canyon',\n",
       " 'goodyear',\n",
       " 'laveen',\n",
       " 'litchfield park',\n",
       " 'maricopa',\n",
       " 'maricopa county',\n",
       " 'mesa',\n",
       " 'morristown',\n",
       " 'new river',\n",
       " 'old town scottsdale',\n",
       " 'paradise valley',\n",
       " 'peoria',\n",
       " 'phoenix',\n",
       " 'queen creek',\n",
       " 'rio verde',\n",
       " 'san tan valley',\n",
       " 'scottsdale',\n",
       " 'sun city',\n",
       " 'sun city west',\n",
       " 'sun lakes',\n",
       " 'surprise',\n",
       " 'tempe',\n",
       " 'tolleson',\n",
       " 'waddell',\n",
       " 'wittmann',\n",
       " 'youngtown']"
      ]
     },
     "execution_count": 13,
     "metadata": {},
     "output_type": "execute_result"
    }
   ],
   "source": [
    "cities = sorted(df_scraped_listings_raw['city'].unique())\n",
    "cities"
   ]
  },
  {
   "cell_type": "code",
   "execution_count": 14,
   "metadata": {},
   "outputs": [
    {
     "data": {
      "text/plain": [
       "45"
      ]
     },
     "execution_count": 14,
     "metadata": {},
     "output_type": "execute_result"
    }
   ],
   "source": [
    "len(cities)"
   ]
  },
  {
   "cell_type": "markdown",
   "metadata": {},
   "source": [
    "note: we removed 7 categories of cities"
   ]
  },
  {
   "cell_type": "markdown",
   "metadata": {},
   "source": [
    "#### Exploring Longitude & Latitude Column"
   ]
  },
  {
   "cell_type": "code",
   "execution_count": 15,
   "metadata": {},
   "outputs": [
    {
     "name": "stdout",
     "output_type": "stream",
     "text": [
      "8445\n"
     ]
    }
   ],
   "source": [
    "latitudes = df_scraped_listings_raw['lat'].unique()\n",
    "print(len(latitudes))"
   ]
  },
  {
   "cell_type": "markdown",
   "metadata": {},
   "source": [
    "note: there are latitudes & longitudes that vary up to the 9th decimal place. Latitude and longitude, however, might be better represented by the city, state, country, and zip code as a feature. We'll keep it for now and treat it as a continous feature in the dataframe. "
   ]
  },
  {
   "cell_type": "code",
   "execution_count": 16,
   "metadata": {},
   "outputs": [
    {
     "data": {
      "text/html": [
       "<div>\n",
       "<style scoped>\n",
       "    .dataframe tbody tr th:only-of-type {\n",
       "        vertical-align: middle;\n",
       "    }\n",
       "\n",
       "    .dataframe tbody tr th {\n",
       "        vertical-align: top;\n",
       "    }\n",
       "\n",
       "    .dataframe thead th {\n",
       "        text-align: right;\n",
       "    }\n",
       "</style>\n",
       "<table border=\"1\" class=\"dataframe\">\n",
       "  <thead>\n",
       "    <tr style=\"text-align: right;\">\n",
       "      <th></th>\n",
       "      <th>scraping_id</th>\n",
       "      <th>lon</th>\n",
       "      <th>lat</th>\n",
       "      <th>capacity</th>\n",
       "      <th>has_pool</th>\n",
       "      <th>is_superhost</th>\n",
       "    </tr>\n",
       "  </thead>\n",
       "  <tbody>\n",
       "    <tr>\n",
       "      <th>count</th>\n",
       "      <td>8.445000e+03</td>\n",
       "      <td>8445.000000</td>\n",
       "      <td>8445.000000</td>\n",
       "      <td>8445.000000</td>\n",
       "      <td>8445.000000</td>\n",
       "      <td>8445.000000</td>\n",
       "    </tr>\n",
       "    <tr>\n",
       "      <th>mean</th>\n",
       "      <td>1.022693e+07</td>\n",
       "      <td>-111.967109</td>\n",
       "      <td>33.510719</td>\n",
       "      <td>6.053641</td>\n",
       "      <td>0.730847</td>\n",
       "      <td>0.241445</td>\n",
       "    </tr>\n",
       "    <tr>\n",
       "      <th>std</th>\n",
       "      <td>1.086948e+07</td>\n",
       "      <td>0.167902</td>\n",
       "      <td>0.133915</td>\n",
       "      <td>3.282324</td>\n",
       "      <td>0.443546</td>\n",
       "      <td>0.427985</td>\n",
       "    </tr>\n",
       "    <tr>\n",
       "      <th>min</th>\n",
       "      <td>2.000000e+00</td>\n",
       "      <td>-112.712487</td>\n",
       "      <td>32.840029</td>\n",
       "      <td>1.000000</td>\n",
       "      <td>0.000000</td>\n",
       "      <td>0.000000</td>\n",
       "    </tr>\n",
       "    <tr>\n",
       "      <th>25%</th>\n",
       "      <td>5.753000e+03</td>\n",
       "      <td>-112.052714</td>\n",
       "      <td>33.450837</td>\n",
       "      <td>4.000000</td>\n",
       "      <td>0.000000</td>\n",
       "      <td>0.000000</td>\n",
       "    </tr>\n",
       "    <tr>\n",
       "      <th>50%</th>\n",
       "      <td>1.487100e+04</td>\n",
       "      <td>-111.935227</td>\n",
       "      <td>33.501307</td>\n",
       "      <td>6.000000</td>\n",
       "      <td>1.000000</td>\n",
       "      <td>0.000000</td>\n",
       "    </tr>\n",
       "    <tr>\n",
       "      <th>75%</th>\n",
       "      <td>2.188136e+07</td>\n",
       "      <td>-111.897167</td>\n",
       "      <td>33.601196</td>\n",
       "      <td>8.000000</td>\n",
       "      <td>1.000000</td>\n",
       "      <td>0.000000</td>\n",
       "    </tr>\n",
       "    <tr>\n",
       "      <th>max</th>\n",
       "      <td>2.470754e+07</td>\n",
       "      <td>-111.367664</td>\n",
       "      <td>34.076572</td>\n",
       "      <td>26.000000</td>\n",
       "      <td>1.000000</td>\n",
       "      <td>1.000000</td>\n",
       "    </tr>\n",
       "  </tbody>\n",
       "</table>\n",
       "</div>"
      ],
      "text/plain": [
       "        scraping_id          lon          lat     capacity     has_pool  \\\n",
       "count  8.445000e+03  8445.000000  8445.000000  8445.000000  8445.000000   \n",
       "mean   1.022693e+07  -111.967109    33.510719     6.053641     0.730847   \n",
       "std    1.086948e+07     0.167902     0.133915     3.282324     0.443546   \n",
       "min    2.000000e+00  -112.712487    32.840029     1.000000     0.000000   \n",
       "25%    5.753000e+03  -112.052714    33.450837     4.000000     0.000000   \n",
       "50%    1.487100e+04  -111.935227    33.501307     6.000000     1.000000   \n",
       "75%    2.188136e+07  -111.897167    33.601196     8.000000     1.000000   \n",
       "max    2.470754e+07  -111.367664    34.076572    26.000000     1.000000   \n",
       "\n",
       "       is_superhost  \n",
       "count   8445.000000  \n",
       "mean       0.241445  \n",
       "std        0.427985  \n",
       "min        0.000000  \n",
       "25%        0.000000  \n",
       "50%        0.000000  \n",
       "75%        0.000000  \n",
       "max        1.000000  "
      ]
     },
     "execution_count": 16,
     "metadata": {},
     "output_type": "execute_result"
    }
   ],
   "source": [
    "df_scraped_listings_raw.describe()"
   ]
  },
  {
   "cell_type": "code",
   "execution_count": 17,
   "metadata": {},
   "outputs": [
    {
     "data": {
      "text/plain": [
       "8445"
      ]
     },
     "execution_count": 17,
     "metadata": {},
     "output_type": "execute_result"
    }
   ],
   "source": [
    "len(df_scraped_listings_raw['scraping_id'].unique())"
   ]
  },
  {
   "cell_type": "markdown",
   "metadata": {},
   "source": [
    "#### Exploring Name in the Listing dataframe"
   ]
  },
  {
   "cell_type": "code",
   "execution_count": 18,
   "metadata": {},
   "outputs": [
    {
     "data": {
      "text/plain": [
       "array(['Old Town Scottsdale Vacation Home & GIANTS Rental',\n",
       "       'Upscale Townhouse South Scottsdale',\n",
       "       'North Scottsdale/ PV Private Guest House w/pool', ...,\n",
       "       'The Adobe Guest House \"By the Kokes\"-Historic Phx',\n",
       "       'Super clean Power ranch home', '*THE lovely RED*'], dtype=object)"
      ]
     },
     "execution_count": 18,
     "metadata": {},
     "output_type": "execute_result"
    }
   ],
   "source": [
    "df_scraped_listings_raw['name'].unique()"
   ]
  },
  {
   "cell_type": "markdown",
   "metadata": {},
   "source": [
    "Note: interesting to note is that there are 8445 unique scrapping ID names, but only 8296 unique names for the listings. Which ones are duplicated?"
   ]
  },
  {
   "cell_type": "code",
   "execution_count": 19,
   "metadata": {},
   "outputs": [],
   "source": [
    "unique_names = list(df_scraped_listings_raw['name'].unique())"
   ]
  },
  {
   "cell_type": "code",
   "execution_count": 20,
   "metadata": {},
   "outputs": [
    {
     "data": {
      "text/html": [
       "<div>\n",
       "<style scoped>\n",
       "    .dataframe tbody tr th:only-of-type {\n",
       "        vertical-align: middle;\n",
       "    }\n",
       "\n",
       "    .dataframe tbody tr th {\n",
       "        vertical-align: top;\n",
       "    }\n",
       "\n",
       "    .dataframe thead th {\n",
       "        text-align: right;\n",
       "    }\n",
       "</style>\n",
       "<table border=\"1\" class=\"dataframe\">\n",
       "  <thead>\n",
       "    <tr style=\"text-align: right;\">\n",
       "      <th></th>\n",
       "      <th>scraping_id</th>\n",
       "      <th>listing</th>\n",
       "      <th>city</th>\n",
       "      <th>lon</th>\n",
       "      <th>lat</th>\n",
       "      <th>mapped_location</th>\n",
       "      <th>name</th>\n",
       "      <th>capacity</th>\n",
       "      <th>bathrooms</th>\n",
       "      <th>bedrooms</th>\n",
       "      <th>has_pool</th>\n",
       "      <th>cleaning_fee</th>\n",
       "      <th>is_superhost</th>\n",
       "      <th>host_name</th>\n",
       "    </tr>\n",
       "  </thead>\n",
       "  <tbody>\n",
       "    <tr>\n",
       "      <th>776</th>\n",
       "      <td>1231</td>\n",
       "      <td>https://www.airbnb.com/rooms/14672894</td>\n",
       "      <td>peoria</td>\n",
       "      <td>-112.213829</td>\n",
       "      <td>33.574390</td>\n",
       "      <td>https://maps.google.com/maps?q=33.574390092184...</td>\n",
       "      <td>Desert Oasis</td>\n",
       "      <td>14</td>\n",
       "      <td>2</td>\n",
       "      <td>4</td>\n",
       "      <td>1</td>\n",
       "      <td>50</td>\n",
       "      <td>1</td>\n",
       "      <td>Bradley</td>\n",
       "    </tr>\n",
       "    <tr>\n",
       "      <th>935</th>\n",
       "      <td>1435</td>\n",
       "      <td>https://www.airbnb.com/rooms/16380680</td>\n",
       "      <td>scottsdale</td>\n",
       "      <td>-111.908225</td>\n",
       "      <td>33.481699</td>\n",
       "      <td>https://maps.google.com/maps?q=33.481699118039...</td>\n",
       "      <td>Scottsdale Two Bedroom Vacation Rental</td>\n",
       "      <td>6</td>\n",
       "      <td>2</td>\n",
       "      <td>2</td>\n",
       "      <td>1</td>\n",
       "      <td>89</td>\n",
       "      <td>0</td>\n",
       "      <td>Jon</td>\n",
       "    </tr>\n",
       "    <tr>\n",
       "      <th>1076</th>\n",
       "      <td>1621</td>\n",
       "      <td>https://www.airbnb.com/rooms/17359373</td>\n",
       "      <td>scottsdale</td>\n",
       "      <td>-111.908778</td>\n",
       "      <td>33.483646</td>\n",
       "      <td>https://maps.google.com/maps?q=33.483645880445...</td>\n",
       "      <td>Scottsdale One Bedroom Vacation Rental</td>\n",
       "      <td>2</td>\n",
       "      <td>1</td>\n",
       "      <td>1</td>\n",
       "      <td>1</td>\n",
       "      <td>59</td>\n",
       "      <td>0</td>\n",
       "      <td>Jon</td>\n",
       "    </tr>\n",
       "    <tr>\n",
       "      <th>1313</th>\n",
       "      <td>2442</td>\n",
       "      <td>https://www.airbnb.com/rooms/1900408</td>\n",
       "      <td>scottsdale</td>\n",
       "      <td>-111.908869</td>\n",
       "      <td>33.492525</td>\n",
       "      <td>https://maps.google.com/maps?q=33.492524719107...</td>\n",
       "      <td>Modern Old Town Scottsdale Condo</td>\n",
       "      <td>5</td>\n",
       "      <td>2</td>\n",
       "      <td>2</td>\n",
       "      <td>1</td>\n",
       "      <td>125</td>\n",
       "      <td>0</td>\n",
       "      <td>Laura</td>\n",
       "    </tr>\n",
       "    <tr>\n",
       "      <th>1478</th>\n",
       "      <td>3232</td>\n",
       "      <td>https://www.airbnb.com/rooms/4006488</td>\n",
       "      <td>scottsdale</td>\n",
       "      <td>-111.903549</td>\n",
       "      <td>33.684806</td>\n",
       "      <td>https://maps.google.com/maps?q=33.684805794154...</td>\n",
       "      <td>North Scottsdale Casita</td>\n",
       "      <td>2</td>\n",
       "      <td>1</td>\n",
       "      <td>0</td>\n",
       "      <td>0</td>\n",
       "      <td>30</td>\n",
       "      <td>1</td>\n",
       "      <td>Mike And Susan</td>\n",
       "    </tr>\n",
       "    <tr>\n",
       "      <th>1650</th>\n",
       "      <td>4024</td>\n",
       "      <td>https://www.airbnb.com/rooms/4787650</td>\n",
       "      <td>scottsdale</td>\n",
       "      <td>-111.894832</td>\n",
       "      <td>33.690405</td>\n",
       "      <td>https://maps.google.com/maps?q=33.690404680022...</td>\n",
       "      <td>Casita</td>\n",
       "      <td>2</td>\n",
       "      <td>1</td>\n",
       "      <td>0</td>\n",
       "      <td>1</td>\n",
       "      <td>30</td>\n",
       "      <td>1</td>\n",
       "      <td>Matthew And Jodi</td>\n",
       "    </tr>\n",
       "    <tr>\n",
       "      <th>1761</th>\n",
       "      <td>4483</td>\n",
       "      <td>https://www.airbnb.com/rooms/4931802</td>\n",
       "      <td>scottsdale</td>\n",
       "      <td>-111.924407</td>\n",
       "      <td>33.506215</td>\n",
       "      <td>https://maps.google.com/maps?q=33.506215223188...</td>\n",
       "      <td>Superbowl Rental</td>\n",
       "      <td>5</td>\n",
       "      <td>1.5</td>\n",
       "      <td>2</td>\n",
       "      <td>1</td>\n",
       "      <td>(NULL)</td>\n",
       "      <td>0</td>\n",
       "      <td>Michael</td>\n",
       "    </tr>\n",
       "    <tr>\n",
       "      <th>1882</th>\n",
       "      <td>4936</td>\n",
       "      <td>https://www.airbnb.com/rooms/5040298</td>\n",
       "      <td>phoenix</td>\n",
       "      <td>-112.053476</td>\n",
       "      <td>33.524955</td>\n",
       "      <td>https://maps.google.com/maps?q=33.524955278488...</td>\n",
       "      <td>SUPER BOWL condo, prime location</td>\n",
       "      <td>4</td>\n",
       "      <td>1</td>\n",
       "      <td>1</td>\n",
       "      <td>1</td>\n",
       "      <td>(NULL)</td>\n",
       "      <td>0</td>\n",
       "      <td>Alice</td>\n",
       "    </tr>\n",
       "    <tr>\n",
       "      <th>1983</th>\n",
       "      <td>5291</td>\n",
       "      <td>https://www.airbnb.com/rooms/5084735</td>\n",
       "      <td>phoenix</td>\n",
       "      <td>-111.997372</td>\n",
       "      <td>33.675736</td>\n",
       "      <td>https://maps.google.com/maps?q=33.675735630987...</td>\n",
       "      <td>North Phoenix/Scottsdale</td>\n",
       "      <td>8</td>\n",
       "      <td>2.5</td>\n",
       "      <td>4</td>\n",
       "      <td>0</td>\n",
       "      <td>(NULL)</td>\n",
       "      <td>0</td>\n",
       "      <td>Luis</td>\n",
       "    </tr>\n",
       "    <tr>\n",
       "      <th>2043</th>\n",
       "      <td>5522</td>\n",
       "      <td>https://www.airbnb.com/rooms/5105440</td>\n",
       "      <td>scottsdale</td>\n",
       "      <td>-111.922789</td>\n",
       "      <td>33.507448</td>\n",
       "      <td>https://maps.google.com/maps?q=33.507447740034...</td>\n",
       "      <td>Old Town Scottsdale Condo</td>\n",
       "      <td>4</td>\n",
       "      <td>2</td>\n",
       "      <td>2</td>\n",
       "      <td>0</td>\n",
       "      <td>(NULL)</td>\n",
       "      <td>0</td>\n",
       "      <td>Connor</td>\n",
       "    </tr>\n",
       "    <tr>\n",
       "      <th>2075</th>\n",
       "      <td>5696</td>\n",
       "      <td>https://www.airbnb.com/rooms/5134935</td>\n",
       "      <td>phoenix</td>\n",
       "      <td>-112.066832</td>\n",
       "      <td>33.464568</td>\n",
       "      <td>https://maps.google.com/maps?q=33.464568167421...</td>\n",
       "      <td>Superbowl Rental</td>\n",
       "      <td>3</td>\n",
       "      <td>1</td>\n",
       "      <td>1</td>\n",
       "      <td>1</td>\n",
       "      <td>50</td>\n",
       "      <td>0</td>\n",
       "      <td>Salina</td>\n",
       "    </tr>\n",
       "    <tr>\n",
       "      <th>2081</th>\n",
       "      <td>5706</td>\n",
       "      <td>https://www.airbnb.com/rooms/5142044</td>\n",
       "      <td>phoenix</td>\n",
       "      <td>-112.053356</td>\n",
       "      <td>33.525750</td>\n",
       "      <td>https://maps.google.com/maps?q=33.525750442074...</td>\n",
       "      <td>SUPER BOWL condo, prime location</td>\n",
       "      <td>4</td>\n",
       "      <td>1</td>\n",
       "      <td>1</td>\n",
       "      <td>1</td>\n",
       "      <td>(NULL)</td>\n",
       "      <td>0</td>\n",
       "      <td>Alice</td>\n",
       "    </tr>\n",
       "    <tr>\n",
       "      <th>2108</th>\n",
       "      <td>5748</td>\n",
       "      <td>https://www.airbnb.com/rooms/5142984</td>\n",
       "      <td>peoria</td>\n",
       "      <td>-112.261904</td>\n",
       "      <td>33.731692</td>\n",
       "      <td>https://maps.google.com/maps?q=33.731691916656...</td>\n",
       "      <td>Super Bowl at Cibola Vista Resort</td>\n",
       "      <td>4</td>\n",
       "      <td>1</td>\n",
       "      <td>1</td>\n",
       "      <td>1</td>\n",
       "      <td>(NULL)</td>\n",
       "      <td>0</td>\n",
       "      <td>Jennifer</td>\n",
       "    </tr>\n",
       "    <tr>\n",
       "      <th>2152</th>\n",
       "      <td>5911</td>\n",
       "      <td>https://www.airbnb.com/rooms/5170803</td>\n",
       "      <td>phoenix</td>\n",
       "      <td>-112.023767</td>\n",
       "      <td>33.509646</td>\n",
       "      <td>https://maps.google.com/maps?q=33.509645999651...</td>\n",
       "      <td>Super Bowl!!</td>\n",
       "      <td>4</td>\n",
       "      <td>2</td>\n",
       "      <td>2</td>\n",
       "      <td>1</td>\n",
       "      <td>(NULL)</td>\n",
       "      <td>0</td>\n",
       "      <td>John</td>\n",
       "    </tr>\n",
       "    <tr>\n",
       "      <th>2186</th>\n",
       "      <td>6065</td>\n",
       "      <td>https://www.airbnb.com/rooms/5170230</td>\n",
       "      <td>peoria</td>\n",
       "      <td>-112.266202</td>\n",
       "      <td>33.552586</td>\n",
       "      <td>https://maps.google.com/maps?q=33.552585777245...</td>\n",
       "      <td>Super Bowl!!</td>\n",
       "      <td>4</td>\n",
       "      <td>2</td>\n",
       "      <td>2</td>\n",
       "      <td>1</td>\n",
       "      <td>(NULL)</td>\n",
       "      <td>0</td>\n",
       "      <td>John</td>\n",
       "    </tr>\n",
       "    <tr>\n",
       "      <th>2193</th>\n",
       "      <td>6096</td>\n",
       "      <td>https://www.airbnb.com/rooms/5203433</td>\n",
       "      <td>glendale</td>\n",
       "      <td>-112.221105</td>\n",
       "      <td>33.538335</td>\n",
       "      <td>https://maps.google.com/maps?q=33.538335291968...</td>\n",
       "      <td>Superbowl Rental</td>\n",
       "      <td>4</td>\n",
       "      <td>1</td>\n",
       "      <td>2</td>\n",
       "      <td>0</td>\n",
       "      <td>(NULL)</td>\n",
       "      <td>0</td>\n",
       "      <td>Andre</td>\n",
       "    </tr>\n",
       "    <tr>\n",
       "      <th>2194</th>\n",
       "      <td>6103</td>\n",
       "      <td>https://www.airbnb.com/rooms/5203040</td>\n",
       "      <td>phoenix</td>\n",
       "      <td>-112.024775</td>\n",
       "      <td>33.525154</td>\n",
       "      <td>https://maps.google.com/maps?q=33.525153815717...</td>\n",
       "      <td>Super Bowl Rental</td>\n",
       "      <td>8</td>\n",
       "      <td>3</td>\n",
       "      <td>4</td>\n",
       "      <td>0</td>\n",
       "      <td>(NULL)</td>\n",
       "      <td>0</td>\n",
       "      <td>Sean</td>\n",
       "    </tr>\n",
       "    <tr>\n",
       "      <th>2363</th>\n",
       "      <td>7063</td>\n",
       "      <td>https://www.airbnb.com/rooms/7331134</td>\n",
       "      <td>scottsdale</td>\n",
       "      <td>-111.913430</td>\n",
       "      <td>33.489770</td>\n",
       "      <td>https://maps.google.com/maps?q=33.489770175516...</td>\n",
       "      <td>Old Town Scottsdale Home</td>\n",
       "      <td>6</td>\n",
       "      <td>2</td>\n",
       "      <td>3</td>\n",
       "      <td>0</td>\n",
       "      <td>90</td>\n",
       "      <td>0</td>\n",
       "      <td>Kevin</td>\n",
       "    </tr>\n",
       "    <tr>\n",
       "      <th>2390</th>\n",
       "      <td>7265</td>\n",
       "      <td>https://www.airbnb.com/rooms/7686141</td>\n",
       "      <td>scottsdale</td>\n",
       "      <td>-111.771621</td>\n",
       "      <td>33.801940</td>\n",
       "      <td>https://maps.google.com/maps?q=33.801939927103...</td>\n",
       "      <td>Scottsdale Retreat</td>\n",
       "      <td>8</td>\n",
       "      <td>4</td>\n",
       "      <td>4</td>\n",
       "      <td>0</td>\n",
       "      <td>(NULL)</td>\n",
       "      <td>0</td>\n",
       "      <td>Soojin</td>\n",
       "    </tr>\n",
       "    <tr>\n",
       "      <th>2497</th>\n",
       "      <td>7777</td>\n",
       "      <td>https://www.airbnb.com/rooms/8613982</td>\n",
       "      <td>scottsdale</td>\n",
       "      <td>-111.898032</td>\n",
       "      <td>33.465450</td>\n",
       "      <td>https://maps.google.com/maps?q=33.465450075299...</td>\n",
       "      <td>4-Bedroom Townhome - Scottsdale AZ</td>\n",
       "      <td>8</td>\n",
       "      <td>2.5</td>\n",
       "      <td>4</td>\n",
       "      <td>1</td>\n",
       "      <td>65</td>\n",
       "      <td>1</td>\n",
       "      <td>Brent</td>\n",
       "    </tr>\n",
       "    <tr>\n",
       "      <th>2600</th>\n",
       "      <td>8209</td>\n",
       "      <td>https://www.airbnb.com/rooms/9407594</td>\n",
       "      <td>phoenix</td>\n",
       "      <td>-111.938825</td>\n",
       "      <td>33.534499</td>\n",
       "      <td>https://maps.google.com/maps?q=33.534499461679...</td>\n",
       "      <td>Private Casita</td>\n",
       "      <td>2</td>\n",
       "      <td>1</td>\n",
       "      <td>1</td>\n",
       "      <td>0</td>\n",
       "      <td>25</td>\n",
       "      <td>1</td>\n",
       "      <td>Melanie</td>\n",
       "    </tr>\n",
       "    <tr>\n",
       "      <th>2641</th>\n",
       "      <td>8495</td>\n",
       "      <td>https://www.airbnb.com/rooms/9685406</td>\n",
       "      <td>chandler</td>\n",
       "      <td>-111.857070</td>\n",
       "      <td>33.244912</td>\n",
       "      <td>https://maps.google.com/maps?q=33.244911808080...</td>\n",
       "      <td>Desert Oasis</td>\n",
       "      <td>12</td>\n",
       "      <td>3</td>\n",
       "      <td>5</td>\n",
       "      <td>1</td>\n",
       "      <td>200</td>\n",
       "      <td>0</td>\n",
       "      <td>Vardit</td>\n",
       "    </tr>\n",
       "    <tr>\n",
       "      <th>2651</th>\n",
       "      <td>8551</td>\n",
       "      <td>https://www.airbnb.com/rooms/9758290</td>\n",
       "      <td>scottsdale</td>\n",
       "      <td>-111.893437</td>\n",
       "      <td>33.512628</td>\n",
       "      <td>https://maps.google.com/maps?q=33.512627764501...</td>\n",
       "      <td>Scottsdale Retreat</td>\n",
       "      <td>8</td>\n",
       "      <td>3.5</td>\n",
       "      <td>4</td>\n",
       "      <td>1</td>\n",
       "      <td>100</td>\n",
       "      <td>0</td>\n",
       "      <td>Julie</td>\n",
       "    </tr>\n",
       "    <tr>\n",
       "      <th>2678</th>\n",
       "      <td>8646</td>\n",
       "      <td>https://www.airbnb.com/rooms/9928220</td>\n",
       "      <td>phoenix</td>\n",
       "      <td>-112.122458</td>\n",
       "      <td>33.606651</td>\n",
       "      <td>https://maps.google.com/maps?q=33.606651276616...</td>\n",
       "      <td>Covington Park Apartments</td>\n",
       "      <td>2</td>\n",
       "      <td>2</td>\n",
       "      <td>2</td>\n",
       "      <td>1</td>\n",
       "      <td>(NULL)</td>\n",
       "      <td>0</td>\n",
       "      <td>Covington Park</td>\n",
       "    </tr>\n",
       "    <tr>\n",
       "      <th>2756</th>\n",
       "      <td>9007</td>\n",
       "      <td>https://www.airbnb.com/rooms/10354156</td>\n",
       "      <td>mesa</td>\n",
       "      <td>-111.634226</td>\n",
       "      <td>33.477043</td>\n",
       "      <td>https://maps.google.com/maps?q=33.477043206135...</td>\n",
       "      <td>Desert Retreat</td>\n",
       "      <td>7</td>\n",
       "      <td>2</td>\n",
       "      <td>3</td>\n",
       "      <td>1</td>\n",
       "      <td>150</td>\n",
       "      <td>0</td>\n",
       "      <td>Kamie</td>\n",
       "    </tr>\n",
       "    <tr>\n",
       "      <th>2776</th>\n",
       "      <td>9129</td>\n",
       "      <td>https://www.airbnb.com/rooms/10453004</td>\n",
       "      <td>scottsdale</td>\n",
       "      <td>-111.881796</td>\n",
       "      <td>33.614288</td>\n",
       "      <td>https://maps.google.com/maps?q=33.614288149519...</td>\n",
       "      <td>Luxury 2-Bed Scottsdale Condo - AZ</td>\n",
       "      <td>4</td>\n",
       "      <td>2</td>\n",
       "      <td>2</td>\n",
       "      <td>1</td>\n",
       "      <td>50</td>\n",
       "      <td>1</td>\n",
       "      <td>Brent</td>\n",
       "    </tr>\n",
       "    <tr>\n",
       "      <th>2783</th>\n",
       "      <td>9150</td>\n",
       "      <td>https://www.airbnb.com/rooms/10547884</td>\n",
       "      <td>scottsdale</td>\n",
       "      <td>-111.926976</td>\n",
       "      <td>33.756002</td>\n",
       "      <td>https://maps.google.com/maps?q=33.756002373091...</td>\n",
       "      <td>North Scottsdale Casita</td>\n",
       "      <td>2</td>\n",
       "      <td>1</td>\n",
       "      <td>0</td>\n",
       "      <td>0</td>\n",
       "      <td>40</td>\n",
       "      <td>1</td>\n",
       "      <td>Michael</td>\n",
       "    </tr>\n",
       "    <tr>\n",
       "      <th>2787</th>\n",
       "      <td>9156</td>\n",
       "      <td>https://www.airbnb.com/rooms/10573048</td>\n",
       "      <td>scottsdale</td>\n",
       "      <td>-111.911518</td>\n",
       "      <td>33.489313</td>\n",
       "      <td>https://maps.google.com/maps?q=33.489312681144...</td>\n",
       "      <td>Remodeled Old Town Scottsdale Condo</td>\n",
       "      <td>6</td>\n",
       "      <td>2</td>\n",
       "      <td>2</td>\n",
       "      <td>1</td>\n",
       "      <td>125</td>\n",
       "      <td>0</td>\n",
       "      <td>Joshua</td>\n",
       "    </tr>\n",
       "    <tr>\n",
       "      <th>2828</th>\n",
       "      <td>9301</td>\n",
       "      <td>https://www.airbnb.com/rooms/10771531</td>\n",
       "      <td>scottsdale</td>\n",
       "      <td>-111.907010</td>\n",
       "      <td>33.483278</td>\n",
       "      <td>https://maps.google.com/maps?q=33.483277641611...</td>\n",
       "      <td>Scottsdale Two Bedroom Vacation Rental</td>\n",
       "      <td>4</td>\n",
       "      <td>2</td>\n",
       "      <td>2</td>\n",
       "      <td>1</td>\n",
       "      <td>89</td>\n",
       "      <td>0</td>\n",
       "      <td>Jon</td>\n",
       "    </tr>\n",
       "    <tr>\n",
       "      <th>2855</th>\n",
       "      <td>9387</td>\n",
       "      <td>https://www.airbnb.com/rooms/10909532</td>\n",
       "      <td>peoria</td>\n",
       "      <td>-112.263360</td>\n",
       "      <td>33.731469</td>\n",
       "      <td>https://maps.google.com/maps?q=33.731468860933...</td>\n",
       "      <td>Cibola Vista Resort and Spa</td>\n",
       "      <td>4</td>\n",
       "      <td>1</td>\n",
       "      <td>1</td>\n",
       "      <td>1</td>\n",
       "      <td>(NULL)</td>\n",
       "      <td>0</td>\n",
       "      <td>Dwain</td>\n",
       "    </tr>\n",
       "    <tr>\n",
       "      <th>...</th>\n",
       "      <td>...</td>\n",
       "      <td>...</td>\n",
       "      <td>...</td>\n",
       "      <td>...</td>\n",
       "      <td>...</td>\n",
       "      <td>...</td>\n",
       "      <td>...</td>\n",
       "      <td>...</td>\n",
       "      <td>...</td>\n",
       "      <td>...</td>\n",
       "      <td>...</td>\n",
       "      <td>...</td>\n",
       "      <td>...</td>\n",
       "      <td>...</td>\n",
       "    </tr>\n",
       "    <tr>\n",
       "      <th>7425</th>\n",
       "      <td>23061578</td>\n",
       "      <td>https://www.airbnb.com/rooms/23064425</td>\n",
       "      <td>queen creek</td>\n",
       "      <td>-111.564772</td>\n",
       "      <td>33.149369</td>\n",
       "      <td>https://maps.google.com/maps?q=33.149369445890...</td>\n",
       "      <td>Home away from home</td>\n",
       "      <td>4</td>\n",
       "      <td>2</td>\n",
       "      <td>4</td>\n",
       "      <td>1</td>\n",
       "      <td>150</td>\n",
       "      <td>0</td>\n",
       "      <td>Myrna</td>\n",
       "    </tr>\n",
       "    <tr>\n",
       "      <th>7489</th>\n",
       "      <td>23151757</td>\n",
       "      <td>https://www.airbnb.com/rooms/23154667</td>\n",
       "      <td>scottsdale</td>\n",
       "      <td>-111.912316</td>\n",
       "      <td>33.492565</td>\n",
       "      <td>https://maps.google.com/maps?q=33.492564679452...</td>\n",
       "      <td>Charming Old Town Condo</td>\n",
       "      <td>6</td>\n",
       "      <td>1.5</td>\n",
       "      <td>2</td>\n",
       "      <td>0</td>\n",
       "      <td>60</td>\n",
       "      <td>0</td>\n",
       "      <td>Brian</td>\n",
       "    </tr>\n",
       "    <tr>\n",
       "      <th>7501</th>\n",
       "      <td>23164625</td>\n",
       "      <td>https://www.airbnb.com/rooms/23167544</td>\n",
       "      <td>scottsdale</td>\n",
       "      <td>-111.870970</td>\n",
       "      <td>33.621776</td>\n",
       "      <td>https://maps.google.com/maps?q=33.621775785868...</td>\n",
       "      <td>NEW! 2BR Scottsdale Condo w/ Pool &amp; Spa Access!</td>\n",
       "      <td>6</td>\n",
       "      <td>2</td>\n",
       "      <td>2</td>\n",
       "      <td>1</td>\n",
       "      <td>171</td>\n",
       "      <td>0</td>\n",
       "      <td>Evolve Vacation Rental</td>\n",
       "    </tr>\n",
       "    <tr>\n",
       "      <th>7529</th>\n",
       "      <td>23193996</td>\n",
       "      <td>https://www.airbnb.com/rooms/23197034</td>\n",
       "      <td>chandler</td>\n",
       "      <td>-111.878553</td>\n",
       "      <td>33.249878</td>\n",
       "      <td>https://maps.google.com/maps?q=33.249877602924...</td>\n",
       "      <td>Chandler Home</td>\n",
       "      <td>9</td>\n",
       "      <td>2.5</td>\n",
       "      <td>4</td>\n",
       "      <td>1</td>\n",
       "      <td>80</td>\n",
       "      <td>0</td>\n",
       "      <td>Red Awning</td>\n",
       "    </tr>\n",
       "    <tr>\n",
       "      <th>7639</th>\n",
       "      <td>23292456</td>\n",
       "      <td>https://www.airbnb.com/rooms/23295297</td>\n",
       "      <td>fountain hills</td>\n",
       "      <td>-111.749999</td>\n",
       "      <td>33.603157</td>\n",
       "      <td>https://maps.google.com/maps?q=33.603157000000...</td>\n",
       "      <td>Home Away From Home</td>\n",
       "      <td>4</td>\n",
       "      <td>2</td>\n",
       "      <td>2</td>\n",
       "      <td>1</td>\n",
       "      <td>100</td>\n",
       "      <td>0</td>\n",
       "      <td>Vickie</td>\n",
       "    </tr>\n",
       "    <tr>\n",
       "      <th>7676</th>\n",
       "      <td>23326871</td>\n",
       "      <td>https://www.airbnb.com/rooms/23329617</td>\n",
       "      <td>gilbert</td>\n",
       "      <td>-111.782004</td>\n",
       "      <td>33.312415</td>\n",
       "      <td>https://maps.google.com/maps?q=33.312414843441...</td>\n",
       "      <td>38 ft. 2bd/1ba on 1 acre util. inc.</td>\n",
       "      <td>4</td>\n",
       "      <td>1</td>\n",
       "      <td>2</td>\n",
       "      <td>0</td>\n",
       "      <td>(NULL)</td>\n",
       "      <td>1</td>\n",
       "      <td>McKenzie</td>\n",
       "    </tr>\n",
       "    <tr>\n",
       "      <th>7691</th>\n",
       "      <td>23359067</td>\n",
       "      <td>https://www.airbnb.com/rooms/23362078</td>\n",
       "      <td>phoenix</td>\n",
       "      <td>-112.054624</td>\n",
       "      <td>33.381148</td>\n",
       "      <td>https://maps.google.com/maps?q=33.381147672872...</td>\n",
       "      <td>HOME AWAY FROM HOME</td>\n",
       "      <td>8</td>\n",
       "      <td>2</td>\n",
       "      <td>3</td>\n",
       "      <td>0</td>\n",
       "      <td>50</td>\n",
       "      <td>0</td>\n",
       "      <td>Ayaovi</td>\n",
       "    </tr>\n",
       "    <tr>\n",
       "      <th>7702</th>\n",
       "      <td>23387724</td>\n",
       "      <td>https://www.airbnb.com/rooms/23390519</td>\n",
       "      <td>scottsdale</td>\n",
       "      <td>-111.930001</td>\n",
       "      <td>33.507624</td>\n",
       "      <td>https://maps.google.com/maps?q=33.507623612748...</td>\n",
       "      <td>2BR/2BA Condo in Old Town Scottsdale -New List...</td>\n",
       "      <td>5</td>\n",
       "      <td>2</td>\n",
       "      <td>2</td>\n",
       "      <td>1</td>\n",
       "      <td>99</td>\n",
       "      <td>1</td>\n",
       "      <td>Dan</td>\n",
       "    </tr>\n",
       "    <tr>\n",
       "      <th>7704</th>\n",
       "      <td>23389880</td>\n",
       "      <td>https://www.airbnb.com/rooms/23392840</td>\n",
       "      <td>scottsdale</td>\n",
       "      <td>-111.929096</td>\n",
       "      <td>33.508990</td>\n",
       "      <td>https://maps.google.com/maps?q=33.508989996770...</td>\n",
       "      <td>2BR/2BA Condo in Old Town Scottsdale -New List...</td>\n",
       "      <td>5</td>\n",
       "      <td>2</td>\n",
       "      <td>2</td>\n",
       "      <td>1</td>\n",
       "      <td>99</td>\n",
       "      <td>1</td>\n",
       "      <td>Dan</td>\n",
       "    </tr>\n",
       "    <tr>\n",
       "      <th>7725</th>\n",
       "      <td>23414856</td>\n",
       "      <td>https://www.airbnb.com/rooms/23417680</td>\n",
       "      <td>mesa</td>\n",
       "      <td>-111.729109</td>\n",
       "      <td>33.417997</td>\n",
       "      <td>https://maps.google.com/maps?q=33.417996685524...</td>\n",
       "      <td>Park Model Home</td>\n",
       "      <td>4</td>\n",
       "      <td>1</td>\n",
       "      <td>1</td>\n",
       "      <td>1</td>\n",
       "      <td>(NULL)</td>\n",
       "      <td>0</td>\n",
       "      <td>Kevin</td>\n",
       "    </tr>\n",
       "    <tr>\n",
       "      <th>7769</th>\n",
       "      <td>23481461</td>\n",
       "      <td>https://www.airbnb.com/rooms/23484320</td>\n",
       "      <td>scottsdale</td>\n",
       "      <td>-111.874680</td>\n",
       "      <td>33.573205</td>\n",
       "      <td>https://maps.google.com/maps?q=33.573205388933...</td>\n",
       "      <td>Scottsdale Oasis</td>\n",
       "      <td>4</td>\n",
       "      <td>2</td>\n",
       "      <td>2</td>\n",
       "      <td>1</td>\n",
       "      <td>120</td>\n",
       "      <td>0</td>\n",
       "      <td>Chris</td>\n",
       "    </tr>\n",
       "    <tr>\n",
       "      <th>7803</th>\n",
       "      <td>23505698</td>\n",
       "      <td>https://www.airbnb.com/rooms/23508508</td>\n",
       "      <td>scottsdale</td>\n",
       "      <td>-111.785549</td>\n",
       "      <td>33.732588</td>\n",
       "      <td>https://maps.google.com/maps?q=33.732588003420...</td>\n",
       "      <td>5 Bed / 3.5 Bath Gorgeous Scottsdale Retreat!</td>\n",
       "      <td>10</td>\n",
       "      <td>3.5</td>\n",
       "      <td>5</td>\n",
       "      <td>0</td>\n",
       "      <td>250</td>\n",
       "      <td>0</td>\n",
       "      <td>Renters</td>\n",
       "    </tr>\n",
       "    <tr>\n",
       "      <th>7898</th>\n",
       "      <td>23644200</td>\n",
       "      <td>https://www.airbnb.com/rooms/23646984</td>\n",
       "      <td>phoenix</td>\n",
       "      <td>-112.137002</td>\n",
       "      <td>33.731864</td>\n",
       "      <td>https://maps.google.com/maps?q=33.731863584833...</td>\n",
       "      <td>Beautiful Desert Oasis</td>\n",
       "      <td>8</td>\n",
       "      <td>2</td>\n",
       "      <td>4</td>\n",
       "      <td>1</td>\n",
       "      <td>100</td>\n",
       "      <td>0</td>\n",
       "      <td>Debra</td>\n",
       "    </tr>\n",
       "    <tr>\n",
       "      <th>7923</th>\n",
       "      <td>23679474</td>\n",
       "      <td>https://www.airbnb.com/rooms/23682469</td>\n",
       "      <td>scottsdale</td>\n",
       "      <td>-111.750343</td>\n",
       "      <td>33.745753</td>\n",
       "      <td>https://maps.google.com/maps?q=33.745753046757...</td>\n",
       "      <td>Quiet and Secluded 4BR with Spa and Mountain V...</td>\n",
       "      <td>12</td>\n",
       "      <td>3.5</td>\n",
       "      <td>4</td>\n",
       "      <td>0</td>\n",
       "      <td>150</td>\n",
       "      <td>0</td>\n",
       "      <td>Isabelle At Voyajoy</td>\n",
       "    </tr>\n",
       "    <tr>\n",
       "      <th>7924</th>\n",
       "      <td>23679862</td>\n",
       "      <td>https://www.airbnb.com/rooms/23682713</td>\n",
       "      <td>mesa</td>\n",
       "      <td>-111.812568</td>\n",
       "      <td>33.389456</td>\n",
       "      <td>https://maps.google.com/maps?q=33.389456041429...</td>\n",
       "      <td>Centrally Located 4BR with Large Yard and Pool</td>\n",
       "      <td>8</td>\n",
       "      <td>3</td>\n",
       "      <td>4</td>\n",
       "      <td>1</td>\n",
       "      <td>150</td>\n",
       "      <td>0</td>\n",
       "      <td>Isabelle At Voyajoy</td>\n",
       "    </tr>\n",
       "    <tr>\n",
       "      <th>7934</th>\n",
       "      <td>23685065</td>\n",
       "      <td>https://www.airbnb.com/rooms/23687841</td>\n",
       "      <td>phoenix</td>\n",
       "      <td>-112.057882</td>\n",
       "      <td>33.496902</td>\n",
       "      <td>https://maps.google.com/maps?q=33.496902311323...</td>\n",
       "      <td>Oasis In The Desert</td>\n",
       "      <td>9</td>\n",
       "      <td>3</td>\n",
       "      <td>4</td>\n",
       "      <td>0</td>\n",
       "      <td>95</td>\n",
       "      <td>1</td>\n",
       "      <td>Charles</td>\n",
       "    </tr>\n",
       "    <tr>\n",
       "      <th>7983</th>\n",
       "      <td>23776074</td>\n",
       "      <td>https://www.airbnb.com/rooms/23779095</td>\n",
       "      <td>scottsdale</td>\n",
       "      <td>-111.909057</td>\n",
       "      <td>33.491517</td>\n",
       "      <td>https://maps.google.com/maps?q=33.491517041729...</td>\n",
       "      <td>Scottsdale Oasis</td>\n",
       "      <td>4</td>\n",
       "      <td>2</td>\n",
       "      <td>2</td>\n",
       "      <td>1</td>\n",
       "      <td>175</td>\n",
       "      <td>0</td>\n",
       "      <td>Red Awning</td>\n",
       "    </tr>\n",
       "    <tr>\n",
       "      <th>7987</th>\n",
       "      <td>23776327</td>\n",
       "      <td>https://www.airbnb.com/rooms/23779145</td>\n",
       "      <td>scottsdale</td>\n",
       "      <td>-111.941540</td>\n",
       "      <td>33.621882</td>\n",
       "      <td>https://maps.google.com/maps?q=33.621881599872...</td>\n",
       "      <td>Casa Allegra</td>\n",
       "      <td>10</td>\n",
       "      <td>3</td>\n",
       "      <td>5</td>\n",
       "      <td>1</td>\n",
       "      <td>330</td>\n",
       "      <td>0</td>\n",
       "      <td>Red Awning</td>\n",
       "    </tr>\n",
       "    <tr>\n",
       "      <th>7989</th>\n",
       "      <td>23776346</td>\n",
       "      <td>https://www.airbnb.com/rooms/23779101</td>\n",
       "      <td>scottsdale</td>\n",
       "      <td>-111.883984</td>\n",
       "      <td>33.619687</td>\n",
       "      <td>https://maps.google.com/maps?q=33.619686971818...</td>\n",
       "      <td>Villa Raintree</td>\n",
       "      <td>6</td>\n",
       "      <td>2</td>\n",
       "      <td>2</td>\n",
       "      <td>1</td>\n",
       "      <td>200</td>\n",
       "      <td>0</td>\n",
       "      <td>Red Awning</td>\n",
       "    </tr>\n",
       "    <tr>\n",
       "      <th>7991</th>\n",
       "      <td>23776419</td>\n",
       "      <td>https://www.airbnb.com/rooms/23779096</td>\n",
       "      <td>scottsdale</td>\n",
       "      <td>-111.894467</td>\n",
       "      <td>33.661328</td>\n",
       "      <td>https://maps.google.com/maps?q=33.661328013061...</td>\n",
       "      <td>Villa Grayhawk</td>\n",
       "      <td>6</td>\n",
       "      <td>2</td>\n",
       "      <td>3</td>\n",
       "      <td>1</td>\n",
       "      <td>255</td>\n",
       "      <td>0</td>\n",
       "      <td>Red Awning</td>\n",
       "    </tr>\n",
       "    <tr>\n",
       "      <th>8072</th>\n",
       "      <td>23912782</td>\n",
       "      <td>https://www.airbnb.com/rooms/23915690</td>\n",
       "      <td>fountain hills</td>\n",
       "      <td>-111.724553</td>\n",
       "      <td>33.581069</td>\n",
       "      <td>https://maps.google.com/maps?q=33.581069272336...</td>\n",
       "      <td>Everything You Need In A House In Fountain Hills</td>\n",
       "      <td>10</td>\n",
       "      <td>4</td>\n",
       "      <td>3</td>\n",
       "      <td>1</td>\n",
       "      <td>225</td>\n",
       "      <td>0</td>\n",
       "      <td>Billy</td>\n",
       "    </tr>\n",
       "    <tr>\n",
       "      <th>8073</th>\n",
       "      <td>23912844</td>\n",
       "      <td>https://www.airbnb.com/rooms/23915687</td>\n",
       "      <td>phoenix</td>\n",
       "      <td>-112.277495</td>\n",
       "      <td>33.495001</td>\n",
       "      <td>https://maps.google.com/maps?q=33.495000623326...</td>\n",
       "      <td>Amazing West Phoenix Condo</td>\n",
       "      <td>5</td>\n",
       "      <td>2</td>\n",
       "      <td>2</td>\n",
       "      <td>1</td>\n",
       "      <td>225</td>\n",
       "      <td>0</td>\n",
       "      <td>Billy</td>\n",
       "    </tr>\n",
       "    <tr>\n",
       "      <th>8076</th>\n",
       "      <td>23915744</td>\n",
       "      <td>https://www.airbnb.com/rooms/23918505</td>\n",
       "      <td>scottsdale</td>\n",
       "      <td>-111.910212</td>\n",
       "      <td>33.646287</td>\n",
       "      <td>https://maps.google.com/maps?q=33.646287439749...</td>\n",
       "      <td>Sheraton Desert Oasis</td>\n",
       "      <td>4</td>\n",
       "      <td>1</td>\n",
       "      <td>1</td>\n",
       "      <td>1</td>\n",
       "      <td>(NULL)</td>\n",
       "      <td>0</td>\n",
       "      <td>Steven</td>\n",
       "    </tr>\n",
       "    <tr>\n",
       "      <th>8136</th>\n",
       "      <td>24031711</td>\n",
       "      <td>https://www.airbnb.com/rooms/24034500</td>\n",
       "      <td>scottsdale</td>\n",
       "      <td>-111.915525</td>\n",
       "      <td>33.498114</td>\n",
       "      <td>https://maps.google.com/maps?q=33.498114429071...</td>\n",
       "      <td>Old Town Scottsdale Townhouse</td>\n",
       "      <td>4</td>\n",
       "      <td>2</td>\n",
       "      <td>2</td>\n",
       "      <td>1</td>\n",
       "      <td>50</td>\n",
       "      <td>0</td>\n",
       "      <td>Greta</td>\n",
       "    </tr>\n",
       "    <tr>\n",
       "      <th>8205</th>\n",
       "      <td>24153827</td>\n",
       "      <td>https://www.airbnb.com/rooms/24156667</td>\n",
       "      <td>gilbert</td>\n",
       "      <td>-111.769231</td>\n",
       "      <td>33.264502</td>\n",
       "      <td>https://maps.google.com/maps?q=33.264501513801...</td>\n",
       "      <td>Gilbert Home with a View</td>\n",
       "      <td>6</td>\n",
       "      <td>2</td>\n",
       "      <td>3</td>\n",
       "      <td>1</td>\n",
       "      <td>(NULL)</td>\n",
       "      <td>0</td>\n",
       "      <td>Kishan</td>\n",
       "    </tr>\n",
       "    <tr>\n",
       "      <th>8333</th>\n",
       "      <td>24423138</td>\n",
       "      <td>https://www.airbnb.com/rooms/24426029</td>\n",
       "      <td>scottsdale</td>\n",
       "      <td>-111.906887</td>\n",
       "      <td>33.499221</td>\n",
       "      <td>https://maps.google.com/maps?q=33.499220753759...</td>\n",
       "      <td>Resort Style Condo</td>\n",
       "      <td>4</td>\n",
       "      <td>1</td>\n",
       "      <td>1</td>\n",
       "      <td>1</td>\n",
       "      <td>(NULL)</td>\n",
       "      <td>0</td>\n",
       "      <td>Andrew</td>\n",
       "    </tr>\n",
       "    <tr>\n",
       "      <th>8334</th>\n",
       "      <td>24426094</td>\n",
       "      <td>https://www.airbnb.com/rooms/24428913</td>\n",
       "      <td>glendale</td>\n",
       "      <td>-112.192360</td>\n",
       "      <td>33.696480</td>\n",
       "      <td>https://maps.google.com/maps?q=33.696480110726...</td>\n",
       "      <td>Desert Oasis</td>\n",
       "      <td>12</td>\n",
       "      <td>4.5</td>\n",
       "      <td>6</td>\n",
       "      <td>1</td>\n",
       "      <td>200</td>\n",
       "      <td>0</td>\n",
       "      <td>Colleen</td>\n",
       "    </tr>\n",
       "    <tr>\n",
       "      <th>8356</th>\n",
       "      <td>24453333</td>\n",
       "      <td>https://www.airbnb.com/rooms/24456228</td>\n",
       "      <td>litchfield park</td>\n",
       "      <td>-112.357577</td>\n",
       "      <td>33.490866</td>\n",
       "      <td>https://maps.google.com/maps?q=33.490866394104...</td>\n",
       "      <td>The Quaint Condo</td>\n",
       "      <td>4</td>\n",
       "      <td>1</td>\n",
       "      <td>2</td>\n",
       "      <td>1</td>\n",
       "      <td>30</td>\n",
       "      <td>0</td>\n",
       "      <td>Greta</td>\n",
       "    </tr>\n",
       "    <tr>\n",
       "      <th>8422</th>\n",
       "      <td>24635246</td>\n",
       "      <td>https://www.airbnb.com/rooms/24648003</td>\n",
       "      <td>phoenix</td>\n",
       "      <td>-111.979123</td>\n",
       "      <td>33.679345</td>\n",
       "      <td>https://maps.google.com/maps?q=33.679345353291...</td>\n",
       "      <td>2-Bedroom Condo at Desert Ridge</td>\n",
       "      <td>6</td>\n",
       "      <td>2</td>\n",
       "      <td>2</td>\n",
       "      <td>1</td>\n",
       "      <td>50</td>\n",
       "      <td>1</td>\n",
       "      <td>Brent</td>\n",
       "    </tr>\n",
       "    <tr>\n",
       "      <th>8424</th>\n",
       "      <td>24636764</td>\n",
       "      <td>https://www.airbnb.com/rooms/24649464</td>\n",
       "      <td>scottsdale</td>\n",
       "      <td>-111.901963</td>\n",
       "      <td>33.639418</td>\n",
       "      <td>https://maps.google.com/maps?q=33.639417976947...</td>\n",
       "      <td>3-Bedroom Villa at TPC Scottsdale</td>\n",
       "      <td>6</td>\n",
       "      <td>2</td>\n",
       "      <td>3</td>\n",
       "      <td>1</td>\n",
       "      <td>50</td>\n",
       "      <td>1</td>\n",
       "      <td>Brent</td>\n",
       "    </tr>\n",
       "  </tbody>\n",
       "</table>\n",
       "<p>149 rows × 14 columns</p>\n",
       "</div>"
      ],
      "text/plain": [
       "      scraping_id                                listing             city  \\\n",
       "776          1231  https://www.airbnb.com/rooms/14672894           peoria   \n",
       "935          1435  https://www.airbnb.com/rooms/16380680       scottsdale   \n",
       "1076         1621  https://www.airbnb.com/rooms/17359373       scottsdale   \n",
       "1313         2442   https://www.airbnb.com/rooms/1900408       scottsdale   \n",
       "1478         3232   https://www.airbnb.com/rooms/4006488       scottsdale   \n",
       "1650         4024   https://www.airbnb.com/rooms/4787650       scottsdale   \n",
       "1761         4483   https://www.airbnb.com/rooms/4931802       scottsdale   \n",
       "1882         4936   https://www.airbnb.com/rooms/5040298          phoenix   \n",
       "1983         5291   https://www.airbnb.com/rooms/5084735          phoenix   \n",
       "2043         5522   https://www.airbnb.com/rooms/5105440       scottsdale   \n",
       "2075         5696   https://www.airbnb.com/rooms/5134935          phoenix   \n",
       "2081         5706   https://www.airbnb.com/rooms/5142044          phoenix   \n",
       "2108         5748   https://www.airbnb.com/rooms/5142984           peoria   \n",
       "2152         5911   https://www.airbnb.com/rooms/5170803          phoenix   \n",
       "2186         6065   https://www.airbnb.com/rooms/5170230           peoria   \n",
       "2193         6096   https://www.airbnb.com/rooms/5203433         glendale   \n",
       "2194         6103   https://www.airbnb.com/rooms/5203040          phoenix   \n",
       "2363         7063   https://www.airbnb.com/rooms/7331134       scottsdale   \n",
       "2390         7265   https://www.airbnb.com/rooms/7686141       scottsdale   \n",
       "2497         7777   https://www.airbnb.com/rooms/8613982       scottsdale   \n",
       "2600         8209   https://www.airbnb.com/rooms/9407594          phoenix   \n",
       "2641         8495   https://www.airbnb.com/rooms/9685406         chandler   \n",
       "2651         8551   https://www.airbnb.com/rooms/9758290       scottsdale   \n",
       "2678         8646   https://www.airbnb.com/rooms/9928220          phoenix   \n",
       "2756         9007  https://www.airbnb.com/rooms/10354156             mesa   \n",
       "2776         9129  https://www.airbnb.com/rooms/10453004       scottsdale   \n",
       "2783         9150  https://www.airbnb.com/rooms/10547884       scottsdale   \n",
       "2787         9156  https://www.airbnb.com/rooms/10573048       scottsdale   \n",
       "2828         9301  https://www.airbnb.com/rooms/10771531       scottsdale   \n",
       "2855         9387  https://www.airbnb.com/rooms/10909532           peoria   \n",
       "...           ...                                    ...              ...   \n",
       "7425     23061578  https://www.airbnb.com/rooms/23064425      queen creek   \n",
       "7489     23151757  https://www.airbnb.com/rooms/23154667       scottsdale   \n",
       "7501     23164625  https://www.airbnb.com/rooms/23167544       scottsdale   \n",
       "7529     23193996  https://www.airbnb.com/rooms/23197034         chandler   \n",
       "7639     23292456  https://www.airbnb.com/rooms/23295297   fountain hills   \n",
       "7676     23326871  https://www.airbnb.com/rooms/23329617          gilbert   \n",
       "7691     23359067  https://www.airbnb.com/rooms/23362078          phoenix   \n",
       "7702     23387724  https://www.airbnb.com/rooms/23390519       scottsdale   \n",
       "7704     23389880  https://www.airbnb.com/rooms/23392840       scottsdale   \n",
       "7725     23414856  https://www.airbnb.com/rooms/23417680             mesa   \n",
       "7769     23481461  https://www.airbnb.com/rooms/23484320       scottsdale   \n",
       "7803     23505698  https://www.airbnb.com/rooms/23508508       scottsdale   \n",
       "7898     23644200  https://www.airbnb.com/rooms/23646984          phoenix   \n",
       "7923     23679474  https://www.airbnb.com/rooms/23682469       scottsdale   \n",
       "7924     23679862  https://www.airbnb.com/rooms/23682713             mesa   \n",
       "7934     23685065  https://www.airbnb.com/rooms/23687841          phoenix   \n",
       "7983     23776074  https://www.airbnb.com/rooms/23779095       scottsdale   \n",
       "7987     23776327  https://www.airbnb.com/rooms/23779145       scottsdale   \n",
       "7989     23776346  https://www.airbnb.com/rooms/23779101       scottsdale   \n",
       "7991     23776419  https://www.airbnb.com/rooms/23779096       scottsdale   \n",
       "8072     23912782  https://www.airbnb.com/rooms/23915690   fountain hills   \n",
       "8073     23912844  https://www.airbnb.com/rooms/23915687          phoenix   \n",
       "8076     23915744  https://www.airbnb.com/rooms/23918505       scottsdale   \n",
       "8136     24031711  https://www.airbnb.com/rooms/24034500       scottsdale   \n",
       "8205     24153827  https://www.airbnb.com/rooms/24156667          gilbert   \n",
       "8333     24423138  https://www.airbnb.com/rooms/24426029       scottsdale   \n",
       "8334     24426094  https://www.airbnb.com/rooms/24428913         glendale   \n",
       "8356     24453333  https://www.airbnb.com/rooms/24456228  litchfield park   \n",
       "8422     24635246  https://www.airbnb.com/rooms/24648003          phoenix   \n",
       "8424     24636764  https://www.airbnb.com/rooms/24649464       scottsdale   \n",
       "\n",
       "             lon        lat  \\\n",
       "776  -112.213829  33.574390   \n",
       "935  -111.908225  33.481699   \n",
       "1076 -111.908778  33.483646   \n",
       "1313 -111.908869  33.492525   \n",
       "1478 -111.903549  33.684806   \n",
       "1650 -111.894832  33.690405   \n",
       "1761 -111.924407  33.506215   \n",
       "1882 -112.053476  33.524955   \n",
       "1983 -111.997372  33.675736   \n",
       "2043 -111.922789  33.507448   \n",
       "2075 -112.066832  33.464568   \n",
       "2081 -112.053356  33.525750   \n",
       "2108 -112.261904  33.731692   \n",
       "2152 -112.023767  33.509646   \n",
       "2186 -112.266202  33.552586   \n",
       "2193 -112.221105  33.538335   \n",
       "2194 -112.024775  33.525154   \n",
       "2363 -111.913430  33.489770   \n",
       "2390 -111.771621  33.801940   \n",
       "2497 -111.898032  33.465450   \n",
       "2600 -111.938825  33.534499   \n",
       "2641 -111.857070  33.244912   \n",
       "2651 -111.893437  33.512628   \n",
       "2678 -112.122458  33.606651   \n",
       "2756 -111.634226  33.477043   \n",
       "2776 -111.881796  33.614288   \n",
       "2783 -111.926976  33.756002   \n",
       "2787 -111.911518  33.489313   \n",
       "2828 -111.907010  33.483278   \n",
       "2855 -112.263360  33.731469   \n",
       "...          ...        ...   \n",
       "7425 -111.564772  33.149369   \n",
       "7489 -111.912316  33.492565   \n",
       "7501 -111.870970  33.621776   \n",
       "7529 -111.878553  33.249878   \n",
       "7639 -111.749999  33.603157   \n",
       "7676 -111.782004  33.312415   \n",
       "7691 -112.054624  33.381148   \n",
       "7702 -111.930001  33.507624   \n",
       "7704 -111.929096  33.508990   \n",
       "7725 -111.729109  33.417997   \n",
       "7769 -111.874680  33.573205   \n",
       "7803 -111.785549  33.732588   \n",
       "7898 -112.137002  33.731864   \n",
       "7923 -111.750343  33.745753   \n",
       "7924 -111.812568  33.389456   \n",
       "7934 -112.057882  33.496902   \n",
       "7983 -111.909057  33.491517   \n",
       "7987 -111.941540  33.621882   \n",
       "7989 -111.883984  33.619687   \n",
       "7991 -111.894467  33.661328   \n",
       "8072 -111.724553  33.581069   \n",
       "8073 -112.277495  33.495001   \n",
       "8076 -111.910212  33.646287   \n",
       "8136 -111.915525  33.498114   \n",
       "8205 -111.769231  33.264502   \n",
       "8333 -111.906887  33.499221   \n",
       "8334 -112.192360  33.696480   \n",
       "8356 -112.357577  33.490866   \n",
       "8422 -111.979123  33.679345   \n",
       "8424 -111.901963  33.639418   \n",
       "\n",
       "                                        mapped_location  \\\n",
       "776   https://maps.google.com/maps?q=33.574390092184...   \n",
       "935   https://maps.google.com/maps?q=33.481699118039...   \n",
       "1076  https://maps.google.com/maps?q=33.483645880445...   \n",
       "1313  https://maps.google.com/maps?q=33.492524719107...   \n",
       "1478  https://maps.google.com/maps?q=33.684805794154...   \n",
       "1650  https://maps.google.com/maps?q=33.690404680022...   \n",
       "1761  https://maps.google.com/maps?q=33.506215223188...   \n",
       "1882  https://maps.google.com/maps?q=33.524955278488...   \n",
       "1983  https://maps.google.com/maps?q=33.675735630987...   \n",
       "2043  https://maps.google.com/maps?q=33.507447740034...   \n",
       "2075  https://maps.google.com/maps?q=33.464568167421...   \n",
       "2081  https://maps.google.com/maps?q=33.525750442074...   \n",
       "2108  https://maps.google.com/maps?q=33.731691916656...   \n",
       "2152  https://maps.google.com/maps?q=33.509645999651...   \n",
       "2186  https://maps.google.com/maps?q=33.552585777245...   \n",
       "2193  https://maps.google.com/maps?q=33.538335291968...   \n",
       "2194  https://maps.google.com/maps?q=33.525153815717...   \n",
       "2363  https://maps.google.com/maps?q=33.489770175516...   \n",
       "2390  https://maps.google.com/maps?q=33.801939927103...   \n",
       "2497  https://maps.google.com/maps?q=33.465450075299...   \n",
       "2600  https://maps.google.com/maps?q=33.534499461679...   \n",
       "2641  https://maps.google.com/maps?q=33.244911808080...   \n",
       "2651  https://maps.google.com/maps?q=33.512627764501...   \n",
       "2678  https://maps.google.com/maps?q=33.606651276616...   \n",
       "2756  https://maps.google.com/maps?q=33.477043206135...   \n",
       "2776  https://maps.google.com/maps?q=33.614288149519...   \n",
       "2783  https://maps.google.com/maps?q=33.756002373091...   \n",
       "2787  https://maps.google.com/maps?q=33.489312681144...   \n",
       "2828  https://maps.google.com/maps?q=33.483277641611...   \n",
       "2855  https://maps.google.com/maps?q=33.731468860933...   \n",
       "...                                                 ...   \n",
       "7425  https://maps.google.com/maps?q=33.149369445890...   \n",
       "7489  https://maps.google.com/maps?q=33.492564679452...   \n",
       "7501  https://maps.google.com/maps?q=33.621775785868...   \n",
       "7529  https://maps.google.com/maps?q=33.249877602924...   \n",
       "7639  https://maps.google.com/maps?q=33.603157000000...   \n",
       "7676  https://maps.google.com/maps?q=33.312414843441...   \n",
       "7691  https://maps.google.com/maps?q=33.381147672872...   \n",
       "7702  https://maps.google.com/maps?q=33.507623612748...   \n",
       "7704  https://maps.google.com/maps?q=33.508989996770...   \n",
       "7725  https://maps.google.com/maps?q=33.417996685524...   \n",
       "7769  https://maps.google.com/maps?q=33.573205388933...   \n",
       "7803  https://maps.google.com/maps?q=33.732588003420...   \n",
       "7898  https://maps.google.com/maps?q=33.731863584833...   \n",
       "7923  https://maps.google.com/maps?q=33.745753046757...   \n",
       "7924  https://maps.google.com/maps?q=33.389456041429...   \n",
       "7934  https://maps.google.com/maps?q=33.496902311323...   \n",
       "7983  https://maps.google.com/maps?q=33.491517041729...   \n",
       "7987  https://maps.google.com/maps?q=33.621881599872...   \n",
       "7989  https://maps.google.com/maps?q=33.619686971818...   \n",
       "7991  https://maps.google.com/maps?q=33.661328013061...   \n",
       "8072  https://maps.google.com/maps?q=33.581069272336...   \n",
       "8073  https://maps.google.com/maps?q=33.495000623326...   \n",
       "8076  https://maps.google.com/maps?q=33.646287439749...   \n",
       "8136  https://maps.google.com/maps?q=33.498114429071...   \n",
       "8205  https://maps.google.com/maps?q=33.264501513801...   \n",
       "8333  https://maps.google.com/maps?q=33.499220753759...   \n",
       "8334  https://maps.google.com/maps?q=33.696480110726...   \n",
       "8356  https://maps.google.com/maps?q=33.490866394104...   \n",
       "8422  https://maps.google.com/maps?q=33.679345353291...   \n",
       "8424  https://maps.google.com/maps?q=33.639417976947...   \n",
       "\n",
       "                                                   name  capacity bathrooms  \\\n",
       "776                                        Desert Oasis        14         2   \n",
       "935              Scottsdale Two Bedroom Vacation Rental         6         2   \n",
       "1076             Scottsdale One Bedroom Vacation Rental         2         1   \n",
       "1313                   Modern Old Town Scottsdale Condo         5         2   \n",
       "1478                            North Scottsdale Casita         2         1   \n",
       "1650                                             Casita         2         1   \n",
       "1761                                   Superbowl Rental         5       1.5   \n",
       "1882                   SUPER BOWL condo, prime location         4         1   \n",
       "1983                           North Phoenix/Scottsdale         8       2.5   \n",
       "2043                          Old Town Scottsdale Condo         4         2   \n",
       "2075                                   Superbowl Rental         3         1   \n",
       "2081                   SUPER BOWL condo, prime location         4         1   \n",
       "2108                  Super Bowl at Cibola Vista Resort         4         1   \n",
       "2152                                       Super Bowl!!         4         2   \n",
       "2186                                       Super Bowl!!         4         2   \n",
       "2193                                   Superbowl Rental         4         1   \n",
       "2194                                  Super Bowl Rental         8         3   \n",
       "2363                           Old Town Scottsdale Home         6         2   \n",
       "2390                                 Scottsdale Retreat         8         4   \n",
       "2497                 4-Bedroom Townhome - Scottsdale AZ         8       2.5   \n",
       "2600                                     Private Casita         2         1   \n",
       "2641                                       Desert Oasis        12         3   \n",
       "2651                                 Scottsdale Retreat         8       3.5   \n",
       "2678                          Covington Park Apartments         2         2   \n",
       "2756                                     Desert Retreat         7         2   \n",
       "2776                 Luxury 2-Bed Scottsdale Condo - AZ         4         2   \n",
       "2783                            North Scottsdale Casita         2         1   \n",
       "2787                Remodeled Old Town Scottsdale Condo         6         2   \n",
       "2828             Scottsdale Two Bedroom Vacation Rental         4         2   \n",
       "2855                        Cibola Vista Resort and Spa         4         1   \n",
       "...                                                 ...       ...       ...   \n",
       "7425                                Home away from home         4         2   \n",
       "7489                            Charming Old Town Condo         6       1.5   \n",
       "7501    NEW! 2BR Scottsdale Condo w/ Pool & Spa Access!         6         2   \n",
       "7529                                      Chandler Home         9       2.5   \n",
       "7639                                Home Away From Home         4         2   \n",
       "7676                38 ft. 2bd/1ba on 1 acre util. inc.         4         1   \n",
       "7691                                HOME AWAY FROM HOME         8         2   \n",
       "7702  2BR/2BA Condo in Old Town Scottsdale -New List...         5         2   \n",
       "7704  2BR/2BA Condo in Old Town Scottsdale -New List...         5         2   \n",
       "7725                                    Park Model Home         4         1   \n",
       "7769                                   Scottsdale Oasis         4         2   \n",
       "7803      5 Bed / 3.5 Bath Gorgeous Scottsdale Retreat!        10       3.5   \n",
       "7898                             Beautiful Desert Oasis         8         2   \n",
       "7923  Quiet and Secluded 4BR with Spa and Mountain V...        12       3.5   \n",
       "7924     Centrally Located 4BR with Large Yard and Pool         8         3   \n",
       "7934                                Oasis In The Desert         9         3   \n",
       "7983                                   Scottsdale Oasis         4         2   \n",
       "7987                                       Casa Allegra        10         3   \n",
       "7989                                     Villa Raintree         6         2   \n",
       "7991                                     Villa Grayhawk         6         2   \n",
       "8072   Everything You Need In A House In Fountain Hills        10         4   \n",
       "8073                         Amazing West Phoenix Condo         5         2   \n",
       "8076                              Sheraton Desert Oasis         4         1   \n",
       "8136                      Old Town Scottsdale Townhouse         4         2   \n",
       "8205                           Gilbert Home with a View         6         2   \n",
       "8333                                 Resort Style Condo         4         1   \n",
       "8334                                       Desert Oasis        12       4.5   \n",
       "8356                                   The Quaint Condo         4         1   \n",
       "8422                    2-Bedroom Condo at Desert Ridge         6         2   \n",
       "8424                  3-Bedroom Villa at TPC Scottsdale         6         2   \n",
       "\n",
       "     bedrooms  has_pool cleaning_fee  is_superhost               host_name  \n",
       "776         4         1           50             1                 Bradley  \n",
       "935         2         1           89             0                     Jon  \n",
       "1076        1         1           59             0                     Jon  \n",
       "1313        2         1          125             0                   Laura  \n",
       "1478        0         0           30             1          Mike And Susan  \n",
       "1650        0         1           30             1        Matthew And Jodi  \n",
       "1761        2         1       (NULL)             0                 Michael  \n",
       "1882        1         1       (NULL)             0                   Alice  \n",
       "1983        4         0       (NULL)             0                    Luis  \n",
       "2043        2         0       (NULL)             0                  Connor  \n",
       "2075        1         1           50             0                  Salina  \n",
       "2081        1         1       (NULL)             0                   Alice  \n",
       "2108        1         1       (NULL)             0                Jennifer  \n",
       "2152        2         1       (NULL)             0                    John  \n",
       "2186        2         1       (NULL)             0                    John  \n",
       "2193        2         0       (NULL)             0                   Andre  \n",
       "2194        4         0       (NULL)             0                    Sean  \n",
       "2363        3         0           90             0                   Kevin  \n",
       "2390        4         0       (NULL)             0                  Soojin  \n",
       "2497        4         1           65             1                   Brent  \n",
       "2600        1         0           25             1                 Melanie  \n",
       "2641        5         1          200             0                  Vardit  \n",
       "2651        4         1          100             0                   Julie  \n",
       "2678        2         1       (NULL)             0          Covington Park  \n",
       "2756        3         1          150             0                   Kamie  \n",
       "2776        2         1           50             1                   Brent  \n",
       "2783        0         0           40             1                 Michael  \n",
       "2787        2         1          125             0                  Joshua  \n",
       "2828        2         1           89             0                     Jon  \n",
       "2855        1         1       (NULL)             0                   Dwain  \n",
       "...       ...       ...          ...           ...                     ...  \n",
       "7425        4         1          150             0                   Myrna  \n",
       "7489        2         0           60             0                   Brian  \n",
       "7501        2         1          171             0  Evolve Vacation Rental  \n",
       "7529        4         1           80             0              Red Awning  \n",
       "7639        2         1          100             0                  Vickie  \n",
       "7676        2         0       (NULL)             1                McKenzie  \n",
       "7691        3         0           50             0                  Ayaovi  \n",
       "7702        2         1           99             1                     Dan  \n",
       "7704        2         1           99             1                     Dan  \n",
       "7725        1         1       (NULL)             0                   Kevin  \n",
       "7769        2         1          120             0                   Chris  \n",
       "7803        5         0          250             0                 Renters  \n",
       "7898        4         1          100             0                   Debra  \n",
       "7923        4         0          150             0     Isabelle At Voyajoy  \n",
       "7924        4         1          150             0     Isabelle At Voyajoy  \n",
       "7934        4         0           95             1                 Charles  \n",
       "7983        2         1          175             0              Red Awning  \n",
       "7987        5         1          330             0              Red Awning  \n",
       "7989        2         1          200             0              Red Awning  \n",
       "7991        3         1          255             0              Red Awning  \n",
       "8072        3         1          225             0                   Billy  \n",
       "8073        2         1          225             0                   Billy  \n",
       "8076        1         1       (NULL)             0                  Steven  \n",
       "8136        2         1           50             0                   Greta  \n",
       "8205        3         1       (NULL)             0                  Kishan  \n",
       "8333        1         1       (NULL)             0                  Andrew  \n",
       "8334        6         1          200             0                 Colleen  \n",
       "8356        2         1           30             0                   Greta  \n",
       "8422        2         1           50             1                   Brent  \n",
       "8424        3         1           50             1                   Brent  \n",
       "\n",
       "[149 rows x 14 columns]"
      ]
     },
     "execution_count": 20,
     "metadata": {},
     "output_type": "execute_result"
    }
   ],
   "source": [
    "df_scraped_listings_raw[df_scraped_listings_raw['name'].duplicated() == True]"
   ]
  },
  {
   "cell_type": "markdown",
   "metadata": {},
   "source": [
    "Note: though some of the names are duplicated, their property features are different, so we'll keep them in our analysis. This might provide insight into why or why not this feature would be useful in predicting price. Name tends to be listed by the host, and sometimes it might add superflurous words. This column is a candidate for removal since most of the description in the name is added in the other column features. We could, in theory, lemmatize this column and add X number of columns that correspond to certain words in the description. We could create a one-hot embedding for these words and use it as a potential feature in price prediction. "
   ]
  },
  {
   "cell_type": "markdown",
   "metadata": {},
   "source": [
    "#### Fixing bedroom, bathroom, cleaning fee columns\n",
    "\n",
    "Problem: Pandas is reading it as a object column. There might be errors in some of the entries, so we'll find and fix that."
   ]
  },
  {
   "cell_type": "code",
   "execution_count": 21,
   "metadata": {},
   "outputs": [
    {
     "data": {
      "text/plain": [
       "array(['2.5', '1.5', '1', '2', '3', '3.5', '5', '4.5', '4', '5.5', '7',\n",
       "       '7.5', '6', '9.5', '8', '6.5', '(NULL)', '0.5', '10', '9', '8.5',\n",
       "       '0'], dtype=object)"
      ]
     },
     "execution_count": 21,
     "metadata": {},
     "output_type": "execute_result"
    }
   ],
   "source": [
    "df_scraped_listings_raw['bathrooms'].unique()"
   ]
  },
  {
   "cell_type": "markdown",
   "metadata": {},
   "source": [
    "note: it looks like our bathrooms column should be a float category. But, the (NULL) value is preventing that from happening. So, we'll fix that and subsitute 0.0 for null and set the datatype to float.\n",
    "'"
   ]
  },
  {
   "cell_type": "code",
   "execution_count": 22,
   "metadata": {},
   "outputs": [],
   "source": [
    "df_scraped_listings_raw.loc[df_scraped_listings_raw['bathrooms'] == '(NULL)', 'bathrooms'] = 0.0\n",
    "df_scraped_listings_raw['bathrooms'] = df_scraped_listings_raw['bathrooms'].astype('float32')"
   ]
  },
  {
   "cell_type": "code",
   "execution_count": 23,
   "metadata": {},
   "outputs": [
    {
     "data": {
      "text/plain": [
       "array(['2', '0', '1', '4', '3', '5', '7', '6', '8', '9', '10', '12',\n",
       "       '(NULL)'], dtype=object)"
      ]
     },
     "execution_count": 23,
     "metadata": {},
     "output_type": "execute_result"
    }
   ],
   "source": [
    "df_scraped_listings_raw['bedrooms'].unique()"
   ]
  },
  {
   "cell_type": "code",
   "execution_count": 24,
   "metadata": {},
   "outputs": [],
   "source": [
    "df_scraped_listings_raw.loc[df_scraped_listings_raw['bedrooms'] == '(NULL)', 'bedrooms'] = 0.0\n",
    "df_scraped_listings_raw['bedrooms'] = df_scraped_listings_raw['bedrooms'].astype('float32')"
   ]
  },
  {
   "cell_type": "code",
   "execution_count": 25,
   "metadata": {},
   "outputs": [
    {
     "data": {
      "text/plain": [
       "array([ 2.,  0.,  1.,  4.,  3.,  5.,  7.,  6.,  8.,  9., 10., 12.])"
      ]
     },
     "execution_count": 25,
     "metadata": {},
     "output_type": "execute_result"
    }
   ],
   "source": [
    "df_scraped_listings_raw['bedrooms'].unique()"
   ]
  },
  {
   "cell_type": "code",
   "execution_count": 26,
   "metadata": {},
   "outputs": [
    {
     "data": {
      "text/plain": [
       "array(['150', '85', '75', '100', '110', '80', '90', '125', '50', '40',\n",
       "       '0', '115', '135', '20', '175', '95', '(NULL)', '120', '300',\n",
       "       '195', '10', '68', '98', '319', '99', '424', '30', '60', '299',\n",
       "       '49', '199', '89', '55', '88', '200', '45', '165', '65', '149',\n",
       "       '18', '275', '5', '350', '257', '35', '250', '29', '130', '105',\n",
       "       '180', '280', '225', '215', '240', '500', '160', '140', '295',\n",
       "       '235', '129', '27', '190', '170', '25', '220', '345', '285', '375',\n",
       "       '59', '53', '70', '155', '360', '69', '325', '79', '258', '219',\n",
       "       '158', '440', '271', '450', '249', '279', '171', '349', '380',\n",
       "       '680', '320', '384', '475', '15', '26', '207', '709', '314', '495',\n",
       "       '399', '400', '625', '550', '600', '700', '428', '39', '12', '128',\n",
       "       '354', '850', '169', '214', '230', '119', '118', '234', '385',\n",
       "       '379', '179', '108', '145', '162', '247', '181', '31', '34', '109',\n",
       "       '36', '290', '224', '559', '19', '959', '1309', '1559', '490',\n",
       "       '809', '174', '267', '137', '213', '107', '656', '1209', '185',\n",
       "       '260', '7', '340', '146', '750', '28', '159', '480', '106', '78',\n",
       "       '192', '211', '499', '420', '304', '425', '366', '486', '229',\n",
       "       '497', '122', '147', '47', '42', '545', '549', '87', '310', '216',\n",
       "       '324', '38', '575', '309', '284', '259', '294', '469', '389',\n",
       "       '274', '386', '245', '113', '343', '210', '97', '143', '114',\n",
       "       '286', '288', '322', '460', '272', '266', '217', '218', '323',\n",
       "       '255', '212', '277', '338', '168', '282', '17', '86', '209', '203',\n",
       "       '281', '103', '196', '242', '283', '321', '205', '204', '222',\n",
       "       '393', '226', '152', '161', '141', '92', '167', '197', '198', '91',\n",
       "       '173', '270', '365', '254', '102', '342', '183', '232', '166',\n",
       "       '154', '315', '269', '493', '193', '223', '74', '142', '330', '84',\n",
       "       '248', '14', '278', '377', '432', '648', '489', '76', '126', '404',\n",
       "       '909', '164', '474', '374', '520', '415', '650', '182', '394',\n",
       "       '485', '301', '403', '228', '335', '373', '327', '595', '138',\n",
       "       '13', '163', '554', '261', '369', '695', '57', '172', '124', '23',\n",
       "       '478', '336', '427', '32', '83', '334', '134', '24', '510', '112',\n",
       "       '136', '188', '525', '46', '276', '241', '344'], dtype=object)"
      ]
     },
     "execution_count": 26,
     "metadata": {},
     "output_type": "execute_result"
    }
   ],
   "source": [
    "df_scraped_listings_raw['cleaning_fee'].unique()"
   ]
  },
  {
   "cell_type": "code",
   "execution_count": 27,
   "metadata": {},
   "outputs": [],
   "source": [
    "df_scraped_listings_raw.loc[df_scraped_listings_raw['cleaning_fee'] == '(NULL)', 'cleaning_fee'] = 0.0\n",
    "df_scraped_listings_raw['cleaning_fee'] = df_scraped_listings_raw['cleaning_fee'].astype('float32')"
   ]
  },
  {
   "cell_type": "code",
   "execution_count": 28,
   "metadata": {},
   "outputs": [
    {
     "data": {
      "text/plain": [
       "array([ 150.,   85.,   75.,  100.,  110.,   80.,   90.,  125.,   50.,\n",
       "         40.,    0.,  115.,  135.,   20.,  175.,   95.,  120.,  300.,\n",
       "        195.,   10.,   68.,   98.,  319.,   99.,  424.,   30.,   60.,\n",
       "        299.,   49.,  199.,   89.,   55.,   88.,  200.,   45.,  165.,\n",
       "         65.,  149.,   18.,  275.,    5.,  350.,  257.,   35.,  250.,\n",
       "         29.,  130.,  105.,  180.,  280.,  225.,  215.,  240.,  500.,\n",
       "        160.,  140.,  295.,  235.,  129.,   27.,  190.,  170.,   25.,\n",
       "        220.,  345.,  285.,  375.,   59.,   53.,   70.,  155.,  360.,\n",
       "         69.,  325.,   79.,  258.,  219.,  158.,  440.,  271.,  450.,\n",
       "        249.,  279.,  171.,  349.,  380.,  680.,  320.,  384.,  475.,\n",
       "         15.,   26.,  207.,  709.,  314.,  495.,  399.,  400.,  625.,\n",
       "        550.,  600.,  700.,  428.,   39.,   12.,  128.,  354.,  850.,\n",
       "        169.,  214.,  230.,  119.,  118.,  234.,  385.,  379.,  179.,\n",
       "        108.,  145.,  162.,  247.,  181.,   31.,   34.,  109.,   36.,\n",
       "        290.,  224.,  559.,   19.,  959., 1309., 1559.,  490.,  809.,\n",
       "        174.,  267.,  137.,  213.,  107.,  656., 1209.,  185.,  260.,\n",
       "          7.,  340.,  146.,  750.,   28.,  159.,  480.,  106.,   78.,\n",
       "        192.,  211.,  499.,  420.,  304.,  425.,  366.,  486.,  229.,\n",
       "        497.,  122.,  147.,   47.,   42.,  545.,  549.,   87.,  310.,\n",
       "        216.,  324.,   38.,  575.,  309.,  284.,  259.,  294.,  469.,\n",
       "        389.,  274.,  386.,  245.,  113.,  343.,  210.,   97.,  143.,\n",
       "        114.,  286.,  288.,  322.,  460.,  272.,  266.,  217.,  218.,\n",
       "        323.,  255.,  212.,  277.,  338.,  168.,  282.,   17.,   86.,\n",
       "        209.,  203.,  281.,  103.,  196.,  242.,  283.,  321.,  205.,\n",
       "        204.,  222.,  393.,  226.,  152.,  161.,  141.,   92.,  167.,\n",
       "        197.,  198.,   91.,  173.,  270.,  365.,  254.,  102.,  342.,\n",
       "        183.,  232.,  166.,  154.,  315.,  269.,  493.,  193.,  223.,\n",
       "         74.,  142.,  330.,   84.,  248.,   14.,  278.,  377.,  432.,\n",
       "        648.,  489.,   76.,  126.,  404.,  909.,  164.,  474.,  374.,\n",
       "        520.,  415.,  650.,  182.,  394.,  485.,  301.,  403.,  228.,\n",
       "        335.,  373.,  327.,  595.,  138.,   13.,  163.,  554.,  261.,\n",
       "        369.,  695.,   57.,  172.,  124.,   23.,  478.,  336.,  427.,\n",
       "         32.,   83.,  334.,  134.,   24.,  510.,  112.,  136.,  188.,\n",
       "        525.,   46.,  276.,  241.,  344.])"
      ]
     },
     "execution_count": 28,
     "metadata": {},
     "output_type": "execute_result"
    }
   ],
   "source": [
    "df_scraped_listings_raw['cleaning_fee'].unique()"
   ]
  },
  {
   "cell_type": "markdown",
   "metadata": {},
   "source": [
    "#### Explore Host Name Column"
   ]
  },
  {
   "cell_type": "code",
   "execution_count": 34,
   "metadata": {},
   "outputs": [
    {
     "data": {
      "text/plain": [
       "['(Email hidden by Airbnb)',\n",
       " '(Hidden by Airbnb)',\n",
       " '(NULL)',\n",
       " '(We Are) Bonnie & Ky',\n",
       " 'A',\n",
       " 'AJ & Dina',\n",
       " 'Aaron',\n",
       " 'Abbie',\n",
       " 'Abby',\n",
       " 'Abdul',\n",
       " 'Abel',\n",
       " 'Abhay',\n",
       " 'Abigail',\n",
       " 'Abriee',\n",
       " 'Abs',\n",
       " 'Abukar',\n",
       " 'Adam',\n",
       " 'Adam & Serene',\n",
       " 'Adam And Ginger',\n",
       " 'Addison',\n",
       " 'Adele',\n",
       " 'Adell',\n",
       " 'Adnan',\n",
       " 'Adolfo',\n",
       " 'Adrian',\n",
       " 'Adrianna',\n",
       " 'Adrianne',\n",
       " 'Adrienne',\n",
       " 'Agata',\n",
       " 'Agustin',\n",
       " 'Ainslie',\n",
       " 'Aishah&Daniel',\n",
       " 'Aj',\n",
       " 'Akash',\n",
       " 'Akeem',\n",
       " 'Al',\n",
       " 'Al And Michele',\n",
       " 'Alan',\n",
       " 'Alana',\n",
       " 'Alana & Richard',\n",
       " 'Alanna',\n",
       " 'Albert',\n",
       " 'Alcide',\n",
       " 'Aldo',\n",
       " 'Alecia',\n",
       " 'Alejandro',\n",
       " 'Aleksandra',\n",
       " 'Alen',\n",
       " 'Alessandro',\n",
       " 'Alex',\n",
       " 'Alex & Anna',\n",
       " 'Alexa',\n",
       " 'Alexander',\n",
       " 'Alexandra',\n",
       " 'Alexia',\n",
       " 'Alexis',\n",
       " 'Alexis And Shane',\n",
       " 'Alexus',\n",
       " 'Aleyda',\n",
       " 'Alfredo',\n",
       " 'Ali',\n",
       " 'Alice',\n",
       " 'Alicia',\n",
       " 'Aline',\n",
       " 'Alisa',\n",
       " 'Alisha',\n",
       " 'Alisha And David',\n",
       " 'Alison',\n",
       " 'Alix',\n",
       " 'Allan',\n",
       " 'Allen',\n",
       " 'Allie',\n",
       " 'Allisa',\n",
       " 'Allison',\n",
       " 'Alloush',\n",
       " 'Ally',\n",
       " 'Allyson Joelle',\n",
       " 'Alma',\n",
       " 'Aloha',\n",
       " 'Alona & Alex',\n",
       " 'Alyona',\n",
       " 'Alyse And Jacquelyne',\n",
       " 'Alyssa',\n",
       " 'Aman',\n",
       " 'Amanda',\n",
       " 'Amber',\n",
       " 'Amee',\n",
       " 'Ameer',\n",
       " 'Amethyst',\n",
       " 'Amina',\n",
       " 'Amir',\n",
       " 'Ammon',\n",
       " 'Amy',\n",
       " 'Amy & Jason',\n",
       " 'Amy + Paul',\n",
       " 'Amyn',\n",
       " 'An',\n",
       " 'Ana',\n",
       " 'Ana Maria',\n",
       " 'Ana Marie',\n",
       " 'Anastasia',\n",
       " 'Anastasios',\n",
       " 'Andi',\n",
       " 'Andra',\n",
       " 'Andre',\n",
       " 'Andrea',\n",
       " 'Andrei',\n",
       " 'Andrew',\n",
       " 'Andrew&Brittany',\n",
       " 'Andria',\n",
       " 'Andy',\n",
       " 'Andy & Shawna',\n",
       " 'Anessa',\n",
       " 'Ang',\n",
       " 'Angel',\n",
       " 'Angela',\n",
       " 'Angelica',\n",
       " 'Angelo',\n",
       " 'Angie',\n",
       " 'Angie&Kali',\n",
       " 'Ania',\n",
       " 'Ann',\n",
       " 'Ann & Lars',\n",
       " 'Anna',\n",
       " 'Anna Maria',\n",
       " 'Anna Marie',\n",
       " 'Anne',\n",
       " 'Anne-Marie',\n",
       " 'Annelise',\n",
       " 'Annette',\n",
       " 'Annie',\n",
       " 'Anthea',\n",
       " 'Anthony',\n",
       " 'Anthony & Jessica',\n",
       " 'Anthony Paul',\n",
       " 'April',\n",
       " 'Ar',\n",
       " 'Ara',\n",
       " 'Ardavan',\n",
       " 'Ardent',\n",
       " 'Ariam',\n",
       " 'Ariane',\n",
       " 'Arianna',\n",
       " 'Arick',\n",
       " 'Arie',\n",
       " 'Ariel',\n",
       " 'Arizona',\n",
       " 'Arizona Focus Realty',\n",
       " 'Arlen',\n",
       " 'Armand',\n",
       " 'Armand & Denise',\n",
       " 'Armando',\n",
       " 'Arnie',\n",
       " 'Arthur',\n",
       " 'Arti',\n",
       " 'Artur',\n",
       " 'Ashley',\n",
       " 'Ashley & Brian',\n",
       " 'Ashli',\n",
       " 'Ashorena',\n",
       " 'AskAnessa',\n",
       " 'Aspen',\n",
       " 'Aubrey',\n",
       " 'Audrey',\n",
       " 'Audri',\n",
       " 'Augusto',\n",
       " 'Aureta',\n",
       " 'Ausra & Tim',\n",
       " 'Austin',\n",
       " 'Autumn',\n",
       " 'AvantStay',\n",
       " 'Ayal',\n",
       " 'Ayaovi',\n",
       " 'AzUrbanSpace',\n",
       " 'Azita',\n",
       " 'BJB AZ Rental LLC',\n",
       " 'Badii',\n",
       " 'Barb',\n",
       " 'Barbara',\n",
       " 'Barry',\n",
       " 'Barry & Cynthia',\n",
       " 'Bart',\n",
       " 'Bassam',\n",
       " 'Baylen',\n",
       " 'Bea',\n",
       " 'Becca',\n",
       " 'Becky',\n",
       " 'Belen',\n",
       " 'Bella',\n",
       " 'Bella Victoria',\n",
       " 'Ben',\n",
       " 'Ben&Niki',\n",
       " 'Benjamin',\n",
       " 'Benny',\n",
       " 'Bern',\n",
       " 'Bernard',\n",
       " 'Berne',\n",
       " 'Bernie',\n",
       " 'Bert',\n",
       " 'Beth',\n",
       " 'Bethannah',\n",
       " 'Bethany',\n",
       " 'Betsy',\n",
       " 'Betty',\n",
       " 'Beverly',\n",
       " 'Bhola',\n",
       " 'Bihter',\n",
       " 'Bill',\n",
       " 'Bill & Debi',\n",
       " 'Bill And Dianna',\n",
       " 'Bill And Lynn',\n",
       " 'Billi',\n",
       " 'Billie',\n",
       " 'Billy',\n",
       " 'Billy And Amy',\n",
       " 'Bj',\n",
       " 'Blaine',\n",
       " 'Blake',\n",
       " 'Blanka',\n",
       " 'BluFox',\n",
       " 'Bo',\n",
       " 'Bob',\n",
       " 'Bob & Vickie',\n",
       " 'Bob And Linda',\n",
       " 'Bobbi',\n",
       " 'Bobbie And Sheridan',\n",
       " 'Bobby',\n",
       " 'Bonnie',\n",
       " 'Bonnie And Steve',\n",
       " 'Boomer',\n",
       " 'Boris',\n",
       " 'Boualem',\n",
       " 'Bow And Rosa',\n",
       " 'Bowman House',\n",
       " 'Boyd',\n",
       " 'Brad',\n",
       " 'Brad & Shannon',\n",
       " 'Bradd',\n",
       " 'Bradley',\n",
       " 'Brady',\n",
       " 'Brandi',\n",
       " 'Brandice',\n",
       " 'Brandon',\n",
       " 'Brandy',\n",
       " 'Brannon',\n",
       " 'Breanne',\n",
       " 'Bren',\n",
       " 'Brenda',\n",
       " 'Brenna',\n",
       " 'Brennan',\n",
       " 'Brennan Oliver',\n",
       " 'Brent',\n",
       " 'Brent & Judy',\n",
       " 'Bret',\n",
       " 'Brett',\n",
       " 'Brett/Caleb',\n",
       " 'Bri & Arturo',\n",
       " 'Brian',\n",
       " 'Brian & Nicole',\n",
       " 'Brian & Sue',\n",
       " 'Brian And Nola',\n",
       " 'Brian And Stephanie',\n",
       " 'Brianna',\n",
       " 'Brianne',\n",
       " 'Bridget',\n",
       " 'Brieanne',\n",
       " 'Brindy',\n",
       " 'Britney',\n",
       " 'Britni',\n",
       " 'Britt',\n",
       " 'Britt/Robyn',\n",
       " 'Brittany',\n",
       " 'Britton',\n",
       " 'Broadway 121',\n",
       " 'Brock',\n",
       " 'Brooke',\n",
       " 'Brooke And Troy',\n",
       " 'Brooks And Mariah',\n",
       " 'Bruce',\n",
       " 'Bruno',\n",
       " 'Bry',\n",
       " 'Bryan',\n",
       " 'Bryan & Roxanne',\n",
       " 'Bryce',\n",
       " 'Bubba And Nena',\n",
       " 'Buck',\n",
       " 'Budi',\n",
       " 'Buff',\n",
       " 'Bunny',\n",
       " 'Burke',\n",
       " 'C',\n",
       " 'C. Alex',\n",
       " 'C.J.',\n",
       " 'Caitlin',\n",
       " 'Caleb',\n",
       " 'Calen',\n",
       " 'Callie',\n",
       " 'Calvin',\n",
       " 'Camaron',\n",
       " 'Cameron',\n",
       " 'Camille',\n",
       " 'Candace',\n",
       " 'Candice',\n",
       " 'Candy',\n",
       " 'Capri',\n",
       " 'Cara',\n",
       " 'Carey',\n",
       " 'Cari',\n",
       " 'Carissa',\n",
       " 'Carl',\n",
       " 'Carl & Shannon',\n",
       " 'Carla',\n",
       " 'Carlie',\n",
       " 'Carlos',\n",
       " 'Carlos &',\n",
       " 'Carlos & Sofia',\n",
       " 'Carly',\n",
       " 'Carmela',\n",
       " 'Carmen',\n",
       " 'Carol',\n",
       " 'Carol And Michael',\n",
       " 'Carole',\n",
       " 'Carolina',\n",
       " 'Carolina And Kris',\n",
       " 'Caroline',\n",
       " 'Carolyn',\n",
       " 'Carrick',\n",
       " 'Carrie',\n",
       " 'Carroll',\n",
       " 'Carson',\n",
       " 'Carter',\n",
       " 'Cary',\n",
       " 'Casago',\n",
       " 'Casey',\n",
       " 'Cassandra',\n",
       " 'Cassandra & Braeden',\n",
       " 'Cassaundra',\n",
       " 'Cassie And Gilbert',\n",
       " 'Cat',\n",
       " 'Catalina',\n",
       " 'Cate',\n",
       " 'Catherine',\n",
       " 'Catherine & Christopher',\n",
       " 'Cathie',\n",
       " 'Cathleen',\n",
       " 'Cathy',\n",
       " 'Cc',\n",
       " 'Cecelia',\n",
       " 'Cecilia',\n",
       " 'Cecille',\n",
       " 'Cecy',\n",
       " 'Cecy & Albert',\n",
       " 'Cedric',\n",
       " 'Celena',\n",
       " 'Celena And Jen',\n",
       " 'Celenia',\n",
       " 'Celeste',\n",
       " 'Celia',\n",
       " 'Chad',\n",
       " 'Chad & Cristyn',\n",
       " 'Chadd',\n",
       " 'Chadwic',\n",
       " 'Chais',\n",
       " 'Chalene',\n",
       " 'Chandler',\n",
       " 'Chanice',\n",
       " 'Chante',\n",
       " 'Char',\n",
       " 'Charity',\n",
       " 'Charla',\n",
       " 'Charles',\n",
       " 'Charles & Melissa',\n",
       " 'Charlie',\n",
       " 'Charlise',\n",
       " 'Charlton',\n",
       " 'Charmayne',\n",
       " 'Chas',\n",
       " 'Chase',\n",
       " 'Chaz',\n",
       " 'Che',\n",
       " 'Chellee',\n",
       " 'Chelsea',\n",
       " 'Cheri',\n",
       " 'Cherie',\n",
       " 'Cheron',\n",
       " 'Cherrel',\n",
       " 'Cheryl',\n",
       " 'Chianne',\n",
       " 'Chien',\n",
       " 'Chika',\n",
       " 'China',\n",
       " 'Chiquita',\n",
       " 'Chloe',\n",
       " 'Chris',\n",
       " 'Chris & Rebecca',\n",
       " 'Chris And Jen',\n",
       " 'Chris And Nancy',\n",
       " 'Chrissie',\n",
       " 'Chrissy',\n",
       " 'Christa',\n",
       " 'Christi',\n",
       " 'Christiana',\n",
       " 'Christin',\n",
       " 'Christina',\n",
       " 'Christina And Ryan',\n",
       " 'Christine',\n",
       " 'Christopher',\n",
       " 'Christy',\n",
       " 'Chrïs',\n",
       " 'Chuck',\n",
       " 'Chun & Kang',\n",
       " 'Ciel',\n",
       " 'Cinde',\n",
       " 'Cindi And Derrick',\n",
       " 'Cindy',\n",
       " 'Cindy & George',\n",
       " 'Cindy & Greg',\n",
       " \"Cindy'S Vacation Villa\",\n",
       " 'Cirdan',\n",
       " 'Claire',\n",
       " 'Clara',\n",
       " 'Clarissa',\n",
       " 'Clarita',\n",
       " 'Clark',\n",
       " 'Claudia',\n",
       " 'Claudine',\n",
       " 'Clay',\n",
       " 'Cleve',\n",
       " 'Clovis',\n",
       " 'Cody',\n",
       " 'Cody|',\n",
       " 'Cole',\n",
       " 'Coleen',\n",
       " 'Colein',\n",
       " 'Colette',\n",
       " 'Colin',\n",
       " 'Colission & Melanie',\n",
       " 'Colleen',\n",
       " 'Colleen & Ron',\n",
       " 'Collin',\n",
       " 'Colton',\n",
       " 'Connie',\n",
       " 'Connor',\n",
       " 'Conrad',\n",
       " 'Constantin',\n",
       " 'Coreen',\n",
       " 'Corey',\n",
       " 'Cori',\n",
       " 'Cornel',\n",
       " 'Cornelius',\n",
       " 'Coronado Flats',\n",
       " 'Cortland',\n",
       " 'Cory',\n",
       " 'Coryn',\n",
       " 'Court',\n",
       " 'Courtney',\n",
       " 'Covington Park',\n",
       " 'Craig',\n",
       " 'Crawford',\n",
       " 'Cristal',\n",
       " 'Cristi',\n",
       " 'Cristian',\n",
       " 'Cristina',\n",
       " 'Cristy',\n",
       " 'Crystal',\n",
       " 'Curt',\n",
       " 'Curtis',\n",
       " 'Curtis And Jen',\n",
       " 'Cyd And Anthony',\n",
       " 'Cynthia',\n",
       " 'D',\n",
       " 'Dabby',\n",
       " 'Daisy',\n",
       " 'Dale',\n",
       " 'Dalenna',\n",
       " 'Damien',\n",
       " 'Damon',\n",
       " 'Dan',\n",
       " 'Dan And Carrie',\n",
       " 'Dan And Julie',\n",
       " 'Dan/Karen',\n",
       " 'Dana',\n",
       " 'Dane',\n",
       " 'Dani',\n",
       " 'Dani B',\n",
       " 'Daniel',\n",
       " 'Daniel Aizer',\n",
       " 'Daniel And Aleta',\n",
       " 'Daniel And Michelle',\n",
       " 'Daniel And Yenifer',\n",
       " 'Daniela',\n",
       " 'Danielle',\n",
       " 'Daniil',\n",
       " 'Danille',\n",
       " 'Dannette',\n",
       " 'Danny',\n",
       " 'Dano',\n",
       " 'Dante',\n",
       " 'Danya',\n",
       " 'Darbi And Marshall',\n",
       " 'Darcy',\n",
       " 'Darek & Maggie',\n",
       " 'Daren',\n",
       " 'Daria',\n",
       " 'Darin',\n",
       " 'Dario',\n",
       " 'Darius',\n",
       " 'Darla',\n",
       " 'Darlene',\n",
       " 'Darolyn',\n",
       " 'Daron',\n",
       " 'Darrell',\n",
       " 'Darren',\n",
       " 'Darren And Liz',\n",
       " 'Darryl',\n",
       " 'Darwin',\n",
       " 'Daryan',\n",
       " 'Daryl And Walter',\n",
       " 'Dave',\n",
       " 'Dave And Kristin',\n",
       " 'David',\n",
       " 'David  And Gweneth',\n",
       " 'David & Amy',\n",
       " 'David & Gigi',\n",
       " 'David & Jan',\n",
       " 'David & Lori',\n",
       " 'David And Jan',\n",
       " 'David And Lorraine',\n",
       " 'Davide',\n",
       " 'Dawn',\n",
       " 'Dawn & David',\n",
       " 'Dawn & Michael',\n",
       " 'Dayo',\n",
       " 'Dayton',\n",
       " 'DeBorah',\n",
       " 'Dean',\n",
       " 'Deann',\n",
       " 'Deanna',\n",
       " 'Deanne',\n",
       " 'Deb',\n",
       " 'Deb And Jeff',\n",
       " 'Debbie',\n",
       " 'Debby',\n",
       " 'Debi',\n",
       " 'Debora',\n",
       " 'Deborah',\n",
       " 'Debra',\n",
       " 'Dee',\n",
       " 'DeeRay',\n",
       " 'Deepak',\n",
       " 'Delia',\n",
       " 'Demond',\n",
       " 'Demytria',\n",
       " 'Dene',\n",
       " 'Denette And Vince',\n",
       " 'Denice',\n",
       " 'Denise',\n",
       " 'Denisse',\n",
       " 'Denne',\n",
       " 'Dennis',\n",
       " 'Dennis & Carol',\n",
       " 'Dennis And Shelley',\n",
       " 'Denny',\n",
       " 'Denton',\n",
       " 'Derek',\n",
       " 'Derrell & Maya',\n",
       " 'Derrick',\n",
       " 'Desiree',\n",
       " 'Desmond',\n",
       " 'Despina',\n",
       " 'Destin',\n",
       " 'Devin',\n",
       " 'Devin Cortney',\n",
       " 'Dexter',\n",
       " 'DiAnn & Robert',\n",
       " 'Diamond',\n",
       " 'Diana',\n",
       " 'Diane',\n",
       " 'Diane And Gary',\n",
       " 'Diann',\n",
       " 'Dianna',\n",
       " 'Dianne',\n",
       " 'Diego',\n",
       " 'Dillon',\n",
       " 'Dimitris',\n",
       " 'Dina',\n",
       " 'Dingley',\n",
       " 'Dj',\n",
       " 'Doan',\n",
       " 'Doloras',\n",
       " 'Dom',\n",
       " 'Dominic',\n",
       " 'Dominic &   Kim',\n",
       " 'Dominique',\n",
       " 'Don',\n",
       " 'Donald',\n",
       " 'Donna',\n",
       " 'Dorcas',\n",
       " 'Doreen',\n",
       " 'Dori',\n",
       " 'Dorota',\n",
       " 'Doug',\n",
       " 'Doug & Patty',\n",
       " 'Doug & Teri',\n",
       " 'Douglas',\n",
       " 'DownTwo',\n",
       " 'Doyle',\n",
       " 'Dr',\n",
       " 'Dr. T',\n",
       " 'Draguta',\n",
       " 'Drake',\n",
       " 'Drew',\n",
       " 'Duane',\n",
       " 'Duke',\n",
       " 'Duncan',\n",
       " 'Dureen',\n",
       " 'Dustin',\n",
       " 'Dustin & Hallie',\n",
       " 'Dwain',\n",
       " 'Dzintra',\n",
       " 'E & R',\n",
       " 'E T H',\n",
       " 'E3',\n",
       " 'Earl',\n",
       " 'East Mesa Studio',\n",
       " 'Ed',\n",
       " 'Eddie N Dale',\n",
       " 'Edgar',\n",
       " 'Edison',\n",
       " 'Eduardo',\n",
       " 'Ehsan',\n",
       " 'Eight Ten',\n",
       " 'Eileen',\n",
       " 'Eileen And Michael',\n",
       " 'Elad',\n",
       " 'Elaina',\n",
       " 'Elaine',\n",
       " 'Eldon And Diana',\n",
       " 'Eldridge',\n",
       " 'Elena',\n",
       " 'Eliana',\n",
       " 'Elisa',\n",
       " 'Elise',\n",
       " 'Elisha',\n",
       " 'Elite Vacation Rentals',\n",
       " 'Elizabeth',\n",
       " 'Ella And David',\n",
       " 'Ellen',\n",
       " 'Ellinor',\n",
       " 'Elliot',\n",
       " 'Ellis',\n",
       " 'Elsie & John',\n",
       " 'Elvis',\n",
       " 'Elyssa And Chuck',\n",
       " 'Emily',\n",
       " 'Emir',\n",
       " 'Emma',\n",
       " 'Emmy',\n",
       " 'Enesima',\n",
       " 'Eneyda',\n",
       " 'Enya & Allen',\n",
       " 'Enzo',\n",
       " 'Eric',\n",
       " 'Eric & Darcy',\n",
       " 'Erica',\n",
       " 'Erich',\n",
       " 'Erick',\n",
       " 'Erik',\n",
       " 'Erik & Bridget',\n",
       " 'Erika',\n",
       " 'Erin',\n",
       " 'Erin (& Daniel)',\n",
       " 'Erin And John',\n",
       " 'Erinn',\n",
       " 'Ernest',\n",
       " 'Ernesto',\n",
       " 'Ernie',\n",
       " 'Escape',\n",
       " 'Ethan',\n",
       " 'Ethel',\n",
       " 'Etienne',\n",
       " 'Eva',\n",
       " 'Eva Julia',\n",
       " 'Evan',\n",
       " 'Evelyn',\n",
       " 'Evolve Vacation Rental',\n",
       " 'Eyal',\n",
       " 'Ezra',\n",
       " 'Fabi',\n",
       " 'Faisal',\n",
       " 'Faith',\n",
       " 'Farrell',\n",
       " 'Fashion',\n",
       " 'Fay',\n",
       " 'Faye',\n",
       " 'Fei',\n",
       " 'Feisal',\n",
       " 'Felice',\n",
       " 'Felicia',\n",
       " 'Felicitas',\n",
       " 'Felipe',\n",
       " 'Felix',\n",
       " 'Fenton',\n",
       " 'Fernando',\n",
       " 'Ferras',\n",
       " 'Flagstad',\n",
       " 'Flora',\n",
       " 'Florence',\n",
       " 'Fortis Endeavors',\n",
       " 'Fran & Patti',\n",
       " 'Fran And Paul',\n",
       " 'Francesca',\n",
       " 'Franco',\n",
       " 'Frank',\n",
       " 'Franklin',\n",
       " 'Fraser',\n",
       " 'Fred',\n",
       " 'Freddie',\n",
       " 'Fredrick',\n",
       " 'Fredy',\n",
       " 'Fritz',\n",
       " 'Gabby',\n",
       " 'Gabe',\n",
       " 'Gabriel',\n",
       " 'Gaby',\n",
       " 'Gail',\n",
       " 'Gale And Saul Delapaz',\n",
       " 'GandS',\n",
       " 'Ganes',\n",
       " 'Gareth',\n",
       " 'Garrett',\n",
       " 'Garrison',\n",
       " 'Gary',\n",
       " 'Gary & Frances',\n",
       " 'Gary & Jennifer',\n",
       " 'Gavin And Rachel',\n",
       " 'Gayla',\n",
       " 'Gayle',\n",
       " 'Gaynel',\n",
       " 'Gena',\n",
       " 'Gene',\n",
       " 'General',\n",
       " 'Genevieve',\n",
       " 'Geoff',\n",
       " 'Geoff And Sandy',\n",
       " 'George',\n",
       " 'George & Brenda',\n",
       " 'Georgia',\n",
       " 'Gerard',\n",
       " 'Gerardo',\n",
       " 'Gerda',\n",
       " 'Gerry',\n",
       " 'Gerry & Ellie',\n",
       " 'Gette',\n",
       " 'Gia',\n",
       " 'Gianni',\n",
       " 'Gilbert & Nancy',\n",
       " 'Giles',\n",
       " 'Gill',\n",
       " 'Gina',\n",
       " 'Ginny',\n",
       " 'Giselia',\n",
       " 'Git',\n",
       " 'Glenda',\n",
       " 'Glenn',\n",
       " 'Glenn & Rhonda',\n",
       " 'Glenn And Diana',\n",
       " 'Gloria',\n",
       " 'Gokulakrishnan',\n",
       " 'Gonzzo',\n",
       " 'Goodwin',\n",
       " 'Goran',\n",
       " 'Grace',\n",
       " 'Graeme',\n",
       " 'Graham',\n",
       " 'Grant',\n",
       " 'Gratien',\n",
       " 'Greg',\n",
       " 'Greg & Robin',\n",
       " 'Gregg',\n",
       " 'Gregory',\n",
       " 'Gregory & Christine',\n",
       " 'Gregory & Tink',\n",
       " 'Gregory And Pam',\n",
       " 'Greta',\n",
       " 'Gretchen',\n",
       " 'Griffin',\n",
       " 'Gustavo',\n",
       " 'Guy',\n",
       " 'Guy & Tessie',\n",
       " 'Gwen',\n",
       " 'H R Rentals',\n",
       " 'Hakim',\n",
       " 'Haleigh',\n",
       " 'Hanna',\n",
       " 'Hannah',\n",
       " 'Hanni',\n",
       " 'Hans',\n",
       " 'Harrison',\n",
       " 'Harvey',\n",
       " 'Hatim',\n",
       " 'Havana',\n",
       " 'Hawa',\n",
       " 'Haylee',\n",
       " 'Haylie',\n",
       " 'Haytham',\n",
       " 'Heather',\n",
       " 'Heather And Ed',\n",
       " 'Hector',\n",
       " 'Heeyang ( Hope)',\n",
       " 'Heidi',\n",
       " 'Helen',\n",
       " 'Hemant',\n",
       " 'Henning',\n",
       " 'Henry',\n",
       " 'Henry & Leona',\n",
       " 'Hilary',\n",
       " 'Hilde',\n",
       " 'Hillary',\n",
       " 'Hillel',\n",
       " 'HitRentals',\n",
       " 'Hk',\n",
       " 'HolidayRental',\n",
       " 'Holly',\n",
       " 'Hollye',\n",
       " 'Honey',\n",
       " 'HongRu & Mike',\n",
       " 'Horacio',\n",
       " 'Hosteeva',\n",
       " 'Howard',\n",
       " 'Hubba2003',\n",
       " 'Hugo & Laura',\n",
       " 'Humberto',\n",
       " 'Humphrey',\n",
       " 'Hunter',\n",
       " 'Hyla',\n",
       " 'Håkan',\n",
       " 'Ian',\n",
       " 'Ian & Chimene',\n",
       " 'Ian & Joanne',\n",
       " 'Ida',\n",
       " 'Igor',\n",
       " 'Ilan',\n",
       " 'Ilya',\n",
       " 'Imelda',\n",
       " 'Ina',\n",
       " 'Inder/Kiran',\n",
       " 'Indigo',\n",
       " 'Indy',\n",
       " 'Inessa',\n",
       " 'Inez & Israel',\n",
       " 'Ingrid',\n",
       " 'Inna',\n",
       " 'Ira',\n",
       " 'Iren',\n",
       " 'Irene',\n",
       " 'Irina',\n",
       " 'Isaac',\n",
       " 'Isaac And Andrew',\n",
       " 'Isaac And Lisa',\n",
       " 'Isabella',\n",
       " 'Isabelle At Voyajoy',\n",
       " 'Issim',\n",
       " 'Ivan',\n",
       " 'Ivana',\n",
       " 'Ivo',\n",
       " 'Ivory',\n",
       " 'Ivy',\n",
       " 'Iwobi',\n",
       " 'Izhak',\n",
       " 'J',\n",
       " 'J Scott',\n",
       " 'J.',\n",
       " 'JEFF And CINDY',\n",
       " 'Ja',\n",
       " 'JaLynn',\n",
       " 'Jac',\n",
       " 'Jace',\n",
       " 'Jaci',\n",
       " 'Jack',\n",
       " 'Jacki',\n",
       " 'Jackie',\n",
       " 'Jackie And Brian',\n",
       " 'Jackson',\n",
       " 'Jaclyn',\n",
       " 'Jacob',\n",
       " 'Jacque',\n",
       " 'Jacquelyn',\n",
       " 'Jacques',\n",
       " 'Jade',\n",
       " 'Jaden',\n",
       " 'Jadot',\n",
       " 'Jafer',\n",
       " 'Jaime',\n",
       " 'Jake',\n",
       " 'Jake And Tami',\n",
       " 'Jakob',\n",
       " 'James',\n",
       " 'James & Lynette',\n",
       " 'James & Nancy',\n",
       " 'Jamey',\n",
       " 'Jamie',\n",
       " 'Jamie & Scott',\n",
       " 'Jamie Lynn',\n",
       " 'Jamil',\n",
       " 'Jamin',\n",
       " 'Jamison',\n",
       " 'Jan',\n",
       " 'Jan And Doug',\n",
       " 'Jana',\n",
       " 'Jane',\n",
       " 'Jane E',\n",
       " 'Janeen',\n",
       " 'Janelle',\n",
       " 'Janet',\n",
       " 'Janey',\n",
       " 'Jani',\n",
       " 'Janice',\n",
       " 'Janis',\n",
       " 'Janna',\n",
       " 'Jardin',\n",
       " 'Jared',\n",
       " 'Jarrett',\n",
       " 'Jasjeet',\n",
       " 'Jason',\n",
       " 'Jason & Ana',\n",
       " 'Jason & Cathy',\n",
       " 'Jason & Shannon',\n",
       " 'Jason And Christine',\n",
       " 'Jason And Debbie',\n",
       " 'Javier',\n",
       " 'Jay',\n",
       " 'Jay & Kelly',\n",
       " 'Jay And Lu',\n",
       " 'Jay Song',\n",
       " 'Jayme',\n",
       " 'Jazmin',\n",
       " 'Jean',\n",
       " 'Jean And John',\n",
       " 'Jean Paul',\n",
       " 'Jeanette',\n",
       " 'Jeanine',\n",
       " 'Jeanne',\n",
       " 'Jeannette',\n",
       " 'Jeanni',\n",
       " 'Jeanni  & Brent',\n",
       " 'Jeff',\n",
       " 'Jeff & Emerald Marie Whiting',\n",
       " 'Jeff And Dree',\n",
       " 'Jeffery',\n",
       " 'Jeffrey',\n",
       " 'Jemmy',\n",
       " 'Jen',\n",
       " 'Jen And Cory',\n",
       " 'Jenifer',\n",
       " 'Jeniffer',\n",
       " 'Jenn',\n",
       " 'Jenn & Jeff',\n",
       " 'Jenna',\n",
       " 'Jenni',\n",
       " 'Jennie',\n",
       " 'Jennifer',\n",
       " 'Jennifer & Jeremy',\n",
       " 'Jennifer & Pedro',\n",
       " 'Jenny',\n",
       " 'Jeremiah',\n",
       " 'Jeremy',\n",
       " 'Jeremy & Kimberly',\n",
       " 'Jeremy And Kayt',\n",
       " 'Jermell',\n",
       " 'Jerome',\n",
       " 'Jerret',\n",
       " 'Jerrod',\n",
       " 'Jerry',\n",
       " 'Jerry And LeeAnne',\n",
       " 'Jess',\n",
       " 'Jessalyn',\n",
       " 'Jesse',\n",
       " 'Jessica',\n",
       " 'Jesus',\n",
       " 'Jia',\n",
       " 'Jia-Li',\n",
       " 'Jiazheng',\n",
       " 'Jill',\n",
       " 'Jillian',\n",
       " 'Jim',\n",
       " 'Jim & Carmelle',\n",
       " 'Jim & Jill',\n",
       " 'Jim & Lisa',\n",
       " 'Jim And Cindy',\n",
       " 'Jim Lawrence',\n",
       " 'Jindy',\n",
       " 'Jj',\n",
       " 'Jo',\n",
       " 'Jo Ann',\n",
       " 'Jo Marie',\n",
       " 'JoAnn',\n",
       " 'JoAnna',\n",
       " 'JoElla',\n",
       " 'Joan',\n",
       " ...]"
      ]
     },
     "execution_count": 34,
     "metadata": {},
     "output_type": "execute_result"
    }
   ],
   "source": [
    "hosts = df_scraped_listings_raw['host_name'].unique()\n",
    "sorted(hosts)"
   ]
  },
  {
   "cell_type": "code",
   "execution_count": 35,
   "metadata": {},
   "outputs": [
    {
     "data": {
      "text/plain": [
       "2200"
      ]
     },
     "execution_count": 35,
     "metadata": {},
     "output_type": "execute_result"
    }
   ],
   "source": [
    "len(hosts)"
   ]
  },
  {
   "cell_type": "markdown",
   "metadata": {},
   "source": [
    "Note: from the initial exploration, it looks like we have 2200 unique hosts. Upon initial inspection, some of the names look odd, but it's probably better to leave the columns in the database for now as we don't know how the names are being authenticated"
   ]
  },
  {
   "cell_type": "markdown",
   "metadata": {},
   "source": [
    "##### Set cleaned dataframe into new dataframe for future merge"
   ]
  },
  {
   "cell_type": "code",
   "execution_count": 39,
   "metadata": {},
   "outputs": [],
   "source": [
    "df_scraped_listings_clean = df_scraped_listings_raw"
   ]
  },
  {
   "cell_type": "code",
   "execution_count": 40,
   "metadata": {},
   "outputs": [
    {
     "data": {
      "text/html": [
       "<div>\n",
       "<style scoped>\n",
       "    .dataframe tbody tr th:only-of-type {\n",
       "        vertical-align: middle;\n",
       "    }\n",
       "\n",
       "    .dataframe tbody tr th {\n",
       "        vertical-align: top;\n",
       "    }\n",
       "\n",
       "    .dataframe thead th {\n",
       "        text-align: right;\n",
       "    }\n",
       "</style>\n",
       "<table border=\"1\" class=\"dataframe\">\n",
       "  <thead>\n",
       "    <tr style=\"text-align: right;\">\n",
       "      <th></th>\n",
       "      <th>scraping_id</th>\n",
       "      <th>lon</th>\n",
       "      <th>lat</th>\n",
       "      <th>capacity</th>\n",
       "      <th>bathrooms</th>\n",
       "      <th>bedrooms</th>\n",
       "      <th>has_pool</th>\n",
       "      <th>cleaning_fee</th>\n",
       "      <th>is_superhost</th>\n",
       "    </tr>\n",
       "  </thead>\n",
       "  <tbody>\n",
       "    <tr>\n",
       "      <th>count</th>\n",
       "      <td>8.445000e+03</td>\n",
       "      <td>8445.000000</td>\n",
       "      <td>8445.000000</td>\n",
       "      <td>8445.000000</td>\n",
       "      <td>8445.000000</td>\n",
       "      <td>8445.000000</td>\n",
       "      <td>8445.000000</td>\n",
       "      <td>8445.000000</td>\n",
       "      <td>8445.000000</td>\n",
       "    </tr>\n",
       "    <tr>\n",
       "      <th>mean</th>\n",
       "      <td>1.022693e+07</td>\n",
       "      <td>-111.967109</td>\n",
       "      <td>33.510719</td>\n",
       "      <td>6.053641</td>\n",
       "      <td>1.988455</td>\n",
       "      <td>2.462167</td>\n",
       "      <td>0.730847</td>\n",
       "      <td>122.724808</td>\n",
       "      <td>0.241445</td>\n",
       "    </tr>\n",
       "    <tr>\n",
       "      <th>std</th>\n",
       "      <td>1.086948e+07</td>\n",
       "      <td>0.167902</td>\n",
       "      <td>0.133915</td>\n",
       "      <td>3.282324</td>\n",
       "      <td>0.953293</td>\n",
       "      <td>1.380607</td>\n",
       "      <td>0.443546</td>\n",
       "      <td>112.535988</td>\n",
       "      <td>0.427985</td>\n",
       "    </tr>\n",
       "    <tr>\n",
       "      <th>min</th>\n",
       "      <td>2.000000e+00</td>\n",
       "      <td>-112.712487</td>\n",
       "      <td>32.840029</td>\n",
       "      <td>1.000000</td>\n",
       "      <td>0.000000</td>\n",
       "      <td>0.000000</td>\n",
       "      <td>0.000000</td>\n",
       "      <td>0.000000</td>\n",
       "      <td>0.000000</td>\n",
       "    </tr>\n",
       "    <tr>\n",
       "      <th>25%</th>\n",
       "      <td>5.753000e+03</td>\n",
       "      <td>-112.052714</td>\n",
       "      <td>33.450837</td>\n",
       "      <td>4.000000</td>\n",
       "      <td>1.000000</td>\n",
       "      <td>2.000000</td>\n",
       "      <td>0.000000</td>\n",
       "      <td>40.000000</td>\n",
       "      <td>0.000000</td>\n",
       "    </tr>\n",
       "    <tr>\n",
       "      <th>50%</th>\n",
       "      <td>1.487100e+04</td>\n",
       "      <td>-111.935227</td>\n",
       "      <td>33.501307</td>\n",
       "      <td>6.000000</td>\n",
       "      <td>2.000000</td>\n",
       "      <td>2.000000</td>\n",
       "      <td>1.000000</td>\n",
       "      <td>100.000000</td>\n",
       "      <td>0.000000</td>\n",
       "    </tr>\n",
       "    <tr>\n",
       "      <th>75%</th>\n",
       "      <td>2.188136e+07</td>\n",
       "      <td>-111.897167</td>\n",
       "      <td>33.601196</td>\n",
       "      <td>8.000000</td>\n",
       "      <td>2.000000</td>\n",
       "      <td>3.000000</td>\n",
       "      <td>1.000000</td>\n",
       "      <td>171.000000</td>\n",
       "      <td>0.000000</td>\n",
       "    </tr>\n",
       "    <tr>\n",
       "      <th>max</th>\n",
       "      <td>2.470754e+07</td>\n",
       "      <td>-111.367664</td>\n",
       "      <td>34.076572</td>\n",
       "      <td>26.000000</td>\n",
       "      <td>10.000000</td>\n",
       "      <td>12.000000</td>\n",
       "      <td>1.000000</td>\n",
       "      <td>1559.000000</td>\n",
       "      <td>1.000000</td>\n",
       "    </tr>\n",
       "  </tbody>\n",
       "</table>\n",
       "</div>"
      ],
      "text/plain": [
       "        scraping_id          lon          lat     capacity    bathrooms  \\\n",
       "count  8.445000e+03  8445.000000  8445.000000  8445.000000  8445.000000   \n",
       "mean   1.022693e+07  -111.967109    33.510719     6.053641     1.988455   \n",
       "std    1.086948e+07     0.167902     0.133915     3.282324     0.953293   \n",
       "min    2.000000e+00  -112.712487    32.840029     1.000000     0.000000   \n",
       "25%    5.753000e+03  -112.052714    33.450837     4.000000     1.000000   \n",
       "50%    1.487100e+04  -111.935227    33.501307     6.000000     2.000000   \n",
       "75%    2.188136e+07  -111.897167    33.601196     8.000000     2.000000   \n",
       "max    2.470754e+07  -111.367664    34.076572    26.000000    10.000000   \n",
       "\n",
       "          bedrooms     has_pool  cleaning_fee  is_superhost  \n",
       "count  8445.000000  8445.000000   8445.000000   8445.000000  \n",
       "mean      2.462167     0.730847    122.724808      0.241445  \n",
       "std       1.380607     0.443546    112.535988      0.427985  \n",
       "min       0.000000     0.000000      0.000000      0.000000  \n",
       "25%       2.000000     0.000000     40.000000      0.000000  \n",
       "50%       2.000000     1.000000    100.000000      0.000000  \n",
       "75%       3.000000     1.000000    171.000000      0.000000  \n",
       "max      12.000000     1.000000   1559.000000      1.000000  "
      ]
     },
     "execution_count": 40,
     "metadata": {},
     "output_type": "execute_result"
    }
   ],
   "source": [
    "df_scraped_listings_clean.describe()"
   ]
  },
  {
   "cell_type": "code",
   "execution_count": 49,
   "metadata": {},
   "outputs": [
    {
     "data": {
      "text/html": [
       "<div>\n",
       "<style scoped>\n",
       "    .dataframe tbody tr th:only-of-type {\n",
       "        vertical-align: middle;\n",
       "    }\n",
       "\n",
       "    .dataframe tbody tr th {\n",
       "        vertical-align: top;\n",
       "    }\n",
       "\n",
       "    .dataframe thead th {\n",
       "        text-align: right;\n",
       "    }\n",
       "</style>\n",
       "<table border=\"1\" class=\"dataframe\">\n",
       "  <thead>\n",
       "    <tr style=\"text-align: right;\">\n",
       "      <th></th>\n",
       "      <th>scraping_id</th>\n",
       "      <th>lon</th>\n",
       "      <th>lat</th>\n",
       "      <th>capacity</th>\n",
       "      <th>bathrooms</th>\n",
       "      <th>bedrooms</th>\n",
       "      <th>has_pool</th>\n",
       "      <th>cleaning_fee</th>\n",
       "      <th>is_superhost</th>\n",
       "    </tr>\n",
       "  </thead>\n",
       "  <tbody>\n",
       "    <tr>\n",
       "      <th>scraping_id</th>\n",
       "      <td>1.000000</td>\n",
       "      <td>0.035396</td>\n",
       "      <td>-0.029798</td>\n",
       "      <td>-0.011129</td>\n",
       "      <td>0.002433</td>\n",
       "      <td>-0.019871</td>\n",
       "      <td>0.024199</td>\n",
       "      <td>0.052725</td>\n",
       "      <td>-0.117821</td>\n",
       "    </tr>\n",
       "    <tr>\n",
       "      <th>lon</th>\n",
       "      <td>0.035396</td>\n",
       "      <td>1.000000</td>\n",
       "      <td>-0.281938</td>\n",
       "      <td>0.027121</td>\n",
       "      <td>0.042680</td>\n",
       "      <td>0.011919</td>\n",
       "      <td>0.135094</td>\n",
       "      <td>0.079885</td>\n",
       "      <td>-0.000854</td>\n",
       "    </tr>\n",
       "    <tr>\n",
       "      <th>lat</th>\n",
       "      <td>-0.029798</td>\n",
       "      <td>-0.281938</td>\n",
       "      <td>1.000000</td>\n",
       "      <td>0.083951</td>\n",
       "      <td>0.111978</td>\n",
       "      <td>0.068326</td>\n",
       "      <td>0.072613</td>\n",
       "      <td>0.104634</td>\n",
       "      <td>-0.031816</td>\n",
       "    </tr>\n",
       "    <tr>\n",
       "      <th>capacity</th>\n",
       "      <td>-0.011129</td>\n",
       "      <td>0.027121</td>\n",
       "      <td>0.083951</td>\n",
       "      <td>1.000000</td>\n",
       "      <td>0.713181</td>\n",
       "      <td>0.848805</td>\n",
       "      <td>0.119734</td>\n",
       "      <td>0.559200</td>\n",
       "      <td>-0.052215</td>\n",
       "    </tr>\n",
       "    <tr>\n",
       "      <th>bathrooms</th>\n",
       "      <td>0.002433</td>\n",
       "      <td>0.042680</td>\n",
       "      <td>0.111978</td>\n",
       "      <td>0.713181</td>\n",
       "      <td>1.000000</td>\n",
       "      <td>0.804393</td>\n",
       "      <td>0.158319</td>\n",
       "      <td>0.590246</td>\n",
       "      <td>-0.121465</td>\n",
       "    </tr>\n",
       "    <tr>\n",
       "      <th>bedrooms</th>\n",
       "      <td>-0.019871</td>\n",
       "      <td>0.011919</td>\n",
       "      <td>0.068326</td>\n",
       "      <td>0.848805</td>\n",
       "      <td>0.804393</td>\n",
       "      <td>1.000000</td>\n",
       "      <td>0.100662</td>\n",
       "      <td>0.591308</td>\n",
       "      <td>-0.098280</td>\n",
       "    </tr>\n",
       "    <tr>\n",
       "      <th>has_pool</th>\n",
       "      <td>0.024199</td>\n",
       "      <td>0.135094</td>\n",
       "      <td>0.072613</td>\n",
       "      <td>0.119734</td>\n",
       "      <td>0.158319</td>\n",
       "      <td>0.100662</td>\n",
       "      <td>1.000000</td>\n",
       "      <td>0.187546</td>\n",
       "      <td>-0.082472</td>\n",
       "    </tr>\n",
       "    <tr>\n",
       "      <th>cleaning_fee</th>\n",
       "      <td>0.052725</td>\n",
       "      <td>0.079885</td>\n",
       "      <td>0.104634</td>\n",
       "      <td>0.559200</td>\n",
       "      <td>0.590246</td>\n",
       "      <td>0.591308</td>\n",
       "      <td>0.187546</td>\n",
       "      <td>1.000000</td>\n",
       "      <td>-0.120351</td>\n",
       "    </tr>\n",
       "    <tr>\n",
       "      <th>is_superhost</th>\n",
       "      <td>-0.117821</td>\n",
       "      <td>-0.000854</td>\n",
       "      <td>-0.031816</td>\n",
       "      <td>-0.052215</td>\n",
       "      <td>-0.121465</td>\n",
       "      <td>-0.098280</td>\n",
       "      <td>-0.082472</td>\n",
       "      <td>-0.120351</td>\n",
       "      <td>1.000000</td>\n",
       "    </tr>\n",
       "  </tbody>\n",
       "</table>\n",
       "</div>"
      ],
      "text/plain": [
       "              scraping_id       lon       lat  capacity  bathrooms  bedrooms  \\\n",
       "scraping_id      1.000000  0.035396 -0.029798 -0.011129   0.002433 -0.019871   \n",
       "lon              0.035396  1.000000 -0.281938  0.027121   0.042680  0.011919   \n",
       "lat             -0.029798 -0.281938  1.000000  0.083951   0.111978  0.068326   \n",
       "capacity        -0.011129  0.027121  0.083951  1.000000   0.713181  0.848805   \n",
       "bathrooms        0.002433  0.042680  0.111978  0.713181   1.000000  0.804393   \n",
       "bedrooms        -0.019871  0.011919  0.068326  0.848805   0.804393  1.000000   \n",
       "has_pool         0.024199  0.135094  0.072613  0.119734   0.158319  0.100662   \n",
       "cleaning_fee     0.052725  0.079885  0.104634  0.559200   0.590246  0.591308   \n",
       "is_superhost    -0.117821 -0.000854 -0.031816 -0.052215  -0.121465 -0.098280   \n",
       "\n",
       "              has_pool  cleaning_fee  is_superhost  \n",
       "scraping_id   0.024199      0.052725     -0.117821  \n",
       "lon           0.135094      0.079885     -0.000854  \n",
       "lat           0.072613      0.104634     -0.031816  \n",
       "capacity      0.119734      0.559200     -0.052215  \n",
       "bathrooms     0.158319      0.590246     -0.121465  \n",
       "bedrooms      0.100662      0.591308     -0.098280  \n",
       "has_pool      1.000000      0.187546     -0.082472  \n",
       "cleaning_fee  0.187546      1.000000     -0.120351  \n",
       "is_superhost -0.082472     -0.120351      1.000000  "
      ]
     },
     "execution_count": 49,
     "metadata": {},
     "output_type": "execute_result"
    }
   ],
   "source": [
    "df_scraped_listings_clean.corr()"
   ]
  },
  {
   "cell_type": "markdown",
   "metadata": {},
   "source": [
    "##### High Level Visualization to Check if we might have interdependent features, which could harm the performance of final prediction algorithms"
   ]
  },
  {
   "cell_type": "code",
   "execution_count": 50,
   "metadata": {},
   "outputs": [
    {
     "data": {
      "image/png": "[encoded data removed]",
      "text/plain": [
       "<matplotlib.figure.Figure at 0x11a5e2f98>"
      ]
     },
     "metadata": {},
     "output_type": "display_data"
    }
   ],
   "source": [
    "sns.heatmap(df_scraped_listings_clean.corr())\n",
    "plt.show()"
   ]
  },
  {
   "cell_type": "markdown",
   "metadata": {},
   "source": [
    "## Merging the Datasets"
   ]
  },
  {
   "cell_type": "code",
   "execution_count": 177,
   "metadata": {},
   "outputs": [],
   "source": [
    "df_merge_clean = df_scraped_data_raw.merge(df_scraped_listings_clean, how='inner', on='scraping_id')\n",
    "df_merge_clean['month'] = pd.DatetimeIndex(df_merge_clean['date']).month\n"
   ]
  },
  {
   "cell_type": "code",
   "execution_count": 178,
   "metadata": {},
   "outputs": [
    {
     "data": {
      "text/html": [
       "<div>\n",
       "<style scoped>\n",
       "    .dataframe tbody tr th:only-of-type {\n",
       "        vertical-align: middle;\n",
       "    }\n",
       "\n",
       "    .dataframe tbody tr th {\n",
       "        vertical-align: top;\n",
       "    }\n",
       "\n",
       "    .dataframe thead th {\n",
       "        text-align: right;\n",
       "    }\n",
       "</style>\n",
       "<table border=\"1\" class=\"dataframe\">\n",
       "  <thead>\n",
       "    <tr style=\"text-align: right;\">\n",
       "      <th></th>\n",
       "      <th>scraping_id</th>\n",
       "      <th>scraped_date</th>\n",
       "      <th>date</th>\n",
       "      <th>price</th>\n",
       "      <th>available</th>\n",
       "      <th>listing</th>\n",
       "      <th>city</th>\n",
       "      <th>lon</th>\n",
       "      <th>lat</th>\n",
       "      <th>mapped_location</th>\n",
       "      <th>name</th>\n",
       "      <th>capacity</th>\n",
       "      <th>bathrooms</th>\n",
       "      <th>bedrooms</th>\n",
       "      <th>has_pool</th>\n",
       "      <th>cleaning_fee</th>\n",
       "      <th>is_superhost</th>\n",
       "      <th>host_name</th>\n",
       "      <th>month</th>\n",
       "    </tr>\n",
       "  </thead>\n",
       "  <tbody>\n",
       "    <tr>\n",
       "      <th>0</th>\n",
       "      <td>2</td>\n",
       "      <td>2018-03-15</td>\n",
       "      <td>2018-04-01</td>\n",
       "      <td>250</td>\n",
       "      <td>1</td>\n",
       "      <td>https://www.airbnb.com/rooms/17720788</td>\n",
       "      <td>scottsdale</td>\n",
       "      <td>-111.916935</td>\n",
       "      <td>33.496566</td>\n",
       "      <td>https://maps.google.com/maps?q=33.496565678911...</td>\n",
       "      <td>Old Town Scottsdale Vacation Home &amp; GIANTS Rental</td>\n",
       "      <td>7</td>\n",
       "      <td>2.5</td>\n",
       "      <td>2.0</td>\n",
       "      <td>1</td>\n",
       "      <td>150.0</td>\n",
       "      <td>1</td>\n",
       "      <td>Mj</td>\n",
       "      <td>4</td>\n",
       "    </tr>\n",
       "  </tbody>\n",
       "</table>\n",
       "</div>"
      ],
      "text/plain": [
       "   scraping_id scraped_date       date  price  available  \\\n",
       "0            2   2018-03-15 2018-04-01    250          1   \n",
       "\n",
       "                                 listing        city         lon        lat  \\\n",
       "0  https://www.airbnb.com/rooms/17720788  scottsdale -111.916935  33.496566   \n",
       "\n",
       "                                     mapped_location  \\\n",
       "0  https://maps.google.com/maps?q=33.496565678911...   \n",
       "\n",
       "                                                name  capacity  bathrooms  \\\n",
       "0  Old Town Scottsdale Vacation Home & GIANTS Rental         7        2.5   \n",
       "\n",
       "   bedrooms  has_pool  cleaning_fee  is_superhost host_name  month  \n",
       "0       2.0         1         150.0             1        Mj      4  "
      ]
     },
     "execution_count": 178,
     "metadata": {},
     "output_type": "execute_result"
    }
   ],
   "source": [
    "df_merge_clean.head(1)"
   ]
  },
  {
   "cell_type": "code",
   "execution_count": 179,
   "metadata": {},
   "outputs": [
    {
     "data": {
      "text/plain": [
       "(16300175, 19)"
      ]
     },
     "execution_count": 179,
     "metadata": {},
     "output_type": "execute_result"
    }
   ],
   "source": [
    "df_merge_clean.shape"
   ]
  },
  {
   "cell_type": "code",
   "execution_count": 180,
   "metadata": {},
   "outputs": [
    {
     "data": {
      "text/html": [
       "<div>\n",
       "<style scoped>\n",
       "    .dataframe tbody tr th:only-of-type {\n",
       "        vertical-align: middle;\n",
       "    }\n",
       "\n",
       "    .dataframe tbody tr th {\n",
       "        vertical-align: top;\n",
       "    }\n",
       "\n",
       "    .dataframe thead th {\n",
       "        text-align: right;\n",
       "    }\n",
       "</style>\n",
       "<table border=\"1\" class=\"dataframe\">\n",
       "  <thead>\n",
       "    <tr style=\"text-align: right;\">\n",
       "      <th></th>\n",
       "      <th>scraping_id</th>\n",
       "      <th>price</th>\n",
       "      <th>available</th>\n",
       "      <th>lon</th>\n",
       "      <th>lat</th>\n",
       "      <th>capacity</th>\n",
       "      <th>bathrooms</th>\n",
       "      <th>bedrooms</th>\n",
       "      <th>has_pool</th>\n",
       "      <th>cleaning_fee</th>\n",
       "      <th>is_superhost</th>\n",
       "      <th>month</th>\n",
       "    </tr>\n",
       "  </thead>\n",
       "  <tbody>\n",
       "    <tr>\n",
       "      <th>scraping_id</th>\n",
       "      <td>1.000000</td>\n",
       "      <td>-0.037245</td>\n",
       "      <td>0.103135</td>\n",
       "      <td>0.029203</td>\n",
       "      <td>-0.004089</td>\n",
       "      <td>-0.018602</td>\n",
       "      <td>0.008185</td>\n",
       "      <td>-0.020358</td>\n",
       "      <td>0.020710</td>\n",
       "      <td>0.051396</td>\n",
       "      <td>-0.085667</td>\n",
       "      <td>0.026577</td>\n",
       "    </tr>\n",
       "    <tr>\n",
       "      <th>price</th>\n",
       "      <td>-0.037245</td>\n",
       "      <td>1.000000</td>\n",
       "      <td>-0.012002</td>\n",
       "      <td>-0.044146</td>\n",
       "      <td>0.064523</td>\n",
       "      <td>0.165192</td>\n",
       "      <td>0.237654</td>\n",
       "      <td>0.190410</td>\n",
       "      <td>0.028217</td>\n",
       "      <td>0.120436</td>\n",
       "      <td>-0.078070</td>\n",
       "      <td>-0.020683</td>\n",
       "    </tr>\n",
       "    <tr>\n",
       "      <th>available</th>\n",
       "      <td>0.103135</td>\n",
       "      <td>-0.012002</td>\n",
       "      <td>1.000000</td>\n",
       "      <td>0.052669</td>\n",
       "      <td>0.050783</td>\n",
       "      <td>0.061080</td>\n",
       "      <td>0.071307</td>\n",
       "      <td>0.068831</td>\n",
       "      <td>0.015627</td>\n",
       "      <td>0.131445</td>\n",
       "      <td>-0.041079</td>\n",
       "      <td>0.085889</td>\n",
       "    </tr>\n",
       "    <tr>\n",
       "      <th>lon</th>\n",
       "      <td>0.029203</td>\n",
       "      <td>-0.044146</td>\n",
       "      <td>0.052669</td>\n",
       "      <td>1.000000</td>\n",
       "      <td>0.186281</td>\n",
       "      <td>0.124593</td>\n",
       "      <td>0.167221</td>\n",
       "      <td>0.103148</td>\n",
       "      <td>0.288107</td>\n",
       "      <td>0.183384</td>\n",
       "      <td>-0.047089</td>\n",
       "      <td>-0.013116</td>\n",
       "    </tr>\n",
       "    <tr>\n",
       "      <th>lat</th>\n",
       "      <td>-0.004089</td>\n",
       "      <td>0.064523</td>\n",
       "      <td>0.050783</td>\n",
       "      <td>0.186281</td>\n",
       "      <td>1.000000</td>\n",
       "      <td>0.150180</td>\n",
       "      <td>0.218050</td>\n",
       "      <td>0.185605</td>\n",
       "      <td>0.138623</td>\n",
       "      <td>0.218310</td>\n",
       "      <td>-0.101284</td>\n",
       "      <td>-0.009221</td>\n",
       "    </tr>\n",
       "    <tr>\n",
       "      <th>capacity</th>\n",
       "      <td>-0.018602</td>\n",
       "      <td>0.165192</td>\n",
       "      <td>0.061080</td>\n",
       "      <td>0.124593</td>\n",
       "      <td>0.150180</td>\n",
       "      <td>1.000000</td>\n",
       "      <td>0.651874</td>\n",
       "      <td>0.819966</td>\n",
       "      <td>0.070568</td>\n",
       "      <td>0.543482</td>\n",
       "      <td>-0.029455</td>\n",
       "      <td>-0.034780</td>\n",
       "    </tr>\n",
       "    <tr>\n",
       "      <th>bathrooms</th>\n",
       "      <td>0.008185</td>\n",
       "      <td>0.237654</td>\n",
       "      <td>0.071307</td>\n",
       "      <td>0.167221</td>\n",
       "      <td>0.218050</td>\n",
       "      <td>0.651874</td>\n",
       "      <td>1.000000</td>\n",
       "      <td>0.787655</td>\n",
       "      <td>0.125846</td>\n",
       "      <td>0.585012</td>\n",
       "      <td>-0.109024</td>\n",
       "      <td>-0.030443</td>\n",
       "    </tr>\n",
       "    <tr>\n",
       "      <th>bedrooms</th>\n",
       "      <td>-0.020358</td>\n",
       "      <td>0.190410</td>\n",
       "      <td>0.068831</td>\n",
       "      <td>0.103148</td>\n",
       "      <td>0.185605</td>\n",
       "      <td>0.819966</td>\n",
       "      <td>0.787655</td>\n",
       "      <td>1.000000</td>\n",
       "      <td>0.048378</td>\n",
       "      <td>0.591542</td>\n",
       "      <td>-0.073501</td>\n",
       "      <td>-0.035978</td>\n",
       "    </tr>\n",
       "    <tr>\n",
       "      <th>has_pool</th>\n",
       "      <td>0.020710</td>\n",
       "      <td>0.028217</td>\n",
       "      <td>0.015627</td>\n",
       "      <td>0.288107</td>\n",
       "      <td>0.138623</td>\n",
       "      <td>0.070568</td>\n",
       "      <td>0.125846</td>\n",
       "      <td>0.048378</td>\n",
       "      <td>1.000000</td>\n",
       "      <td>0.168738</td>\n",
       "      <td>-0.069666</td>\n",
       "      <td>-0.010125</td>\n",
       "    </tr>\n",
       "    <tr>\n",
       "      <th>cleaning_fee</th>\n",
       "      <td>0.051396</td>\n",
       "      <td>0.120436</td>\n",
       "      <td>0.131445</td>\n",
       "      <td>0.183384</td>\n",
       "      <td>0.218310</td>\n",
       "      <td>0.543482</td>\n",
       "      <td>0.585012</td>\n",
       "      <td>0.591542</td>\n",
       "      <td>0.168738</td>\n",
       "      <td>1.000000</td>\n",
       "      <td>-0.096194</td>\n",
       "      <td>-0.019600</td>\n",
       "    </tr>\n",
       "    <tr>\n",
       "      <th>is_superhost</th>\n",
       "      <td>-0.085667</td>\n",
       "      <td>-0.078070</td>\n",
       "      <td>-0.041079</td>\n",
       "      <td>-0.047089</td>\n",
       "      <td>-0.101284</td>\n",
       "      <td>-0.029455</td>\n",
       "      <td>-0.109024</td>\n",
       "      <td>-0.073501</td>\n",
       "      <td>-0.069666</td>\n",
       "      <td>-0.096194</td>\n",
       "      <td>1.000000</td>\n",
       "      <td>0.006648</td>\n",
       "    </tr>\n",
       "    <tr>\n",
       "      <th>month</th>\n",
       "      <td>0.026577</td>\n",
       "      <td>-0.020683</td>\n",
       "      <td>0.085889</td>\n",
       "      <td>-0.013116</td>\n",
       "      <td>-0.009221</td>\n",
       "      <td>-0.034780</td>\n",
       "      <td>-0.030443</td>\n",
       "      <td>-0.035978</td>\n",
       "      <td>-0.010125</td>\n",
       "      <td>-0.019600</td>\n",
       "      <td>0.006648</td>\n",
       "      <td>1.000000</td>\n",
       "    </tr>\n",
       "  </tbody>\n",
       "</table>\n",
       "</div>"
      ],
      "text/plain": [
       "              scraping_id     price  available       lon       lat  capacity  \\\n",
       "scraping_id      1.000000 -0.037245   0.103135  0.029203 -0.004089 -0.018602   \n",
       "price           -0.037245  1.000000  -0.012002 -0.044146  0.064523  0.165192   \n",
       "available        0.103135 -0.012002   1.000000  0.052669  0.050783  0.061080   \n",
       "lon              0.029203 -0.044146   0.052669  1.000000  0.186281  0.124593   \n",
       "lat             -0.004089  0.064523   0.050783  0.186281  1.000000  0.150180   \n",
       "capacity        -0.018602  0.165192   0.061080  0.124593  0.150180  1.000000   \n",
       "bathrooms        0.008185  0.237654   0.071307  0.167221  0.218050  0.651874   \n",
       "bedrooms        -0.020358  0.190410   0.068831  0.103148  0.185605  0.819966   \n",
       "has_pool         0.020710  0.028217   0.015627  0.288107  0.138623  0.070568   \n",
       "cleaning_fee     0.051396  0.120436   0.131445  0.183384  0.218310  0.543482   \n",
       "is_superhost    -0.085667 -0.078070  -0.041079 -0.047089 -0.101284 -0.029455   \n",
       "month            0.026577 -0.020683   0.085889 -0.013116 -0.009221 -0.034780   \n",
       "\n",
       "              bathrooms  bedrooms  has_pool  cleaning_fee  is_superhost  \\\n",
       "scraping_id    0.008185 -0.020358  0.020710      0.051396     -0.085667   \n",
       "price          0.237654  0.190410  0.028217      0.120436     -0.078070   \n",
       "available      0.071307  0.068831  0.015627      0.131445     -0.041079   \n",
       "lon            0.167221  0.103148  0.288107      0.183384     -0.047089   \n",
       "lat            0.218050  0.185605  0.138623      0.218310     -0.101284   \n",
       "capacity       0.651874  0.819966  0.070568      0.543482     -0.029455   \n",
       "bathrooms      1.000000  0.787655  0.125846      0.585012     -0.109024   \n",
       "bedrooms       0.787655  1.000000  0.048378      0.591542     -0.073501   \n",
       "has_pool       0.125846  0.048378  1.000000      0.168738     -0.069666   \n",
       "cleaning_fee   0.585012  0.591542  0.168738      1.000000     -0.096194   \n",
       "is_superhost  -0.109024 -0.073501 -0.069666     -0.096194      1.000000   \n",
       "month         -0.030443 -0.035978 -0.010125     -0.019600      0.006648   \n",
       "\n",
       "                 month  \n",
       "scraping_id   0.026577  \n",
       "price        -0.020683  \n",
       "available     0.085889  \n",
       "lon          -0.013116  \n",
       "lat          -0.009221  \n",
       "capacity     -0.034780  \n",
       "bathrooms    -0.030443  \n",
       "bedrooms     -0.035978  \n",
       "has_pool     -0.010125  \n",
       "cleaning_fee -0.019600  \n",
       "is_superhost  0.006648  \n",
       "month         1.000000  "
      ]
     },
     "execution_count": 180,
     "metadata": {},
     "output_type": "execute_result"
    }
   ],
   "source": [
    "df_merge_clean.corr()"
   ]
  },
  {
   "cell_type": "code",
   "execution_count": 140,
   "metadata": {},
   "outputs": [],
   "source": [
    "sql = \"\"\"SELECT\n",
    "             scraping_id, scraped_date, date, AVG(price) as avg_price\n",
    "        FROM \n",
    "            df_merge_clean\n",
    "        GROUP BY\n",
    "            scraping_id, scraped_date\n",
    "        ORDER BY date, avg_price DESC\"\"\""
   ]
  },
  {
   "cell_type": "markdown",
   "metadata": {},
   "source": [
    "print(ps.sqldf(sql, locals()))\n"
   ]
  },
  {
   "cell_type": "code",
   "execution_count": null,
   "metadata": {},
   "outputs": [],
   "source": []
  },
  {
   "cell_type": "markdown",
   "metadata": {},
   "source": [
    "## Question 3: In which month do properties appear to generate more revenue? April or May?"
   ]
  },
  {
   "cell_type": "code",
   "execution_count": 181,
   "metadata": {},
   "outputs": [],
   "source": [
    "sql1 = \"\"\"SELECT\n",
    "           month,  sum(price) as tot_potential_revenue\n",
    "        FROM \n",
    "            df_merge_clean\n",
    "        GROUP BY\n",
    "            month\n",
    "        ORDER BY tot_potential_revenue DESC\"\"\""
   ]
  },
  {
   "cell_type": "code",
   "execution_count": 182,
   "metadata": {},
   "outputs": [],
   "source": [
    "df_question_3 = ps.sqldf(sql1, locals())\n"
   ]
  },
  {
   "cell_type": "code",
   "execution_count": 183,
   "metadata": {},
   "outputs": [
    {
     "data": {
      "text/html": [
       "<div>\n",
       "<style scoped>\n",
       "    .dataframe tbody tr th:only-of-type {\n",
       "        vertical-align: middle;\n",
       "    }\n",
       "\n",
       "    .dataframe tbody tr th {\n",
       "        vertical-align: top;\n",
       "    }\n",
       "\n",
       "    .dataframe thead th {\n",
       "        text-align: right;\n",
       "    }\n",
       "</style>\n",
       "<table border=\"1\" class=\"dataframe\">\n",
       "  <thead>\n",
       "    <tr style=\"text-align: right;\">\n",
       "      <th></th>\n",
       "      <th>month</th>\n",
       "      <th>tot_potential_revenue</th>\n",
       "    </tr>\n",
       "  </thead>\n",
       "  <tbody>\n",
       "    <tr>\n",
       "      <th>0</th>\n",
       "      <td>5</td>\n",
       "      <td>3072687123</td>\n",
       "    </tr>\n",
       "    <tr>\n",
       "      <th>1</th>\n",
       "      <td>4</td>\n",
       "      <td>1929386804</td>\n",
       "    </tr>\n",
       "  </tbody>\n",
       "</table>\n",
       "</div>"
      ],
      "text/plain": [
       "   month  tot_potential_revenue\n",
       "0      5             3072687123\n",
       "1      4             1929386804"
      ]
     },
     "execution_count": 183,
     "metadata": {},
     "output_type": "execute_result"
    }
   ],
   "source": [
    "df_question_3"
   ]
  },
  {
   "cell_type": "markdown",
   "metadata": {},
   "source": [
    "## Question 4: How much more revenue do places with 3 bedrooms make vs. places with 2 bedrooms?\n"
   ]
  },
  {
   "cell_type": "code",
   "execution_count": 142,
   "metadata": {},
   "outputs": [],
   "source": [
    "sql2 = \"\"\"SELECT\n",
    "             bedrooms, sum(price) as tot_potential_revenue\n",
    "        FROM \n",
    "            df_merge_clean\n",
    "        GROUP BY\n",
    "            bedrooms\n",
    "        ORDER BY tot_potential_revenue DESC\"\"\""
   ]
  },
  {
   "cell_type": "code",
   "execution_count": null,
   "metadata": {},
   "outputs": [],
   "source": [
    "sql2_5 = \"\"\"SELECT\n",
    "             bedrooms, sum(price) as tot_potential_revenue\n",
    "        FROM \n",
    "            df_merge_clean\n",
    "        GROUP BY\n",
    "            bedrooms\n",
    "        WHERE\n",
    "            availability = 1\n",
    "        ORDER BY tot_potential_revenue DESC\"\"\""
   ]
  },
  {
   "cell_type": "markdown",
   "metadata": {},
   "source": [
    "df_bedroom_question = ps.sqldf(sql2, locals())\n"
   ]
  },
  {
   "cell_type": "code",
   "execution_count": 144,
   "metadata": {},
   "outputs": [
    {
     "data": {
      "text/html": [
       "<div>\n",
       "<style scoped>\n",
       "    .dataframe tbody tr th:only-of-type {\n",
       "        vertical-align: middle;\n",
       "    }\n",
       "\n",
       "    .dataframe tbody tr th {\n",
       "        vertical-align: top;\n",
       "    }\n",
       "\n",
       "    .dataframe thead th {\n",
       "        text-align: right;\n",
       "    }\n",
       "</style>\n",
       "<table border=\"1\" class=\"dataframe\">\n",
       "  <thead>\n",
       "    <tr style=\"text-align: right;\">\n",
       "      <th></th>\n",
       "      <th>bedrooms</th>\n",
       "      <th>tot_potential_revenue</th>\n",
       "    </tr>\n",
       "  </thead>\n",
       "  <tbody>\n",
       "    <tr>\n",
       "      <th>0</th>\n",
       "      <td>3.0</td>\n",
       "      <td>1583590441</td>\n",
       "    </tr>\n",
       "    <tr>\n",
       "      <th>1</th>\n",
       "      <td>2.0</td>\n",
       "      <td>1172410245</td>\n",
       "    </tr>\n",
       "    <tr>\n",
       "      <th>2</th>\n",
       "      <td>4.0</td>\n",
       "      <td>986792599</td>\n",
       "    </tr>\n",
       "    <tr>\n",
       "      <th>3</th>\n",
       "      <td>5.0</td>\n",
       "      <td>462062839</td>\n",
       "    </tr>\n",
       "    <tr>\n",
       "      <th>4</th>\n",
       "      <td>1.0</td>\n",
       "      <td>357635222</td>\n",
       "    </tr>\n",
       "    <tr>\n",
       "      <th>5</th>\n",
       "      <td>6.0</td>\n",
       "      <td>184001642</td>\n",
       "    </tr>\n",
       "    <tr>\n",
       "      <th>6</th>\n",
       "      <td>8.0</td>\n",
       "      <td>83602391</td>\n",
       "    </tr>\n",
       "    <tr>\n",
       "      <th>7</th>\n",
       "      <td>7.0</td>\n",
       "      <td>70727181</td>\n",
       "    </tr>\n",
       "    <tr>\n",
       "      <th>8</th>\n",
       "      <td>0.0</td>\n",
       "      <td>58982565</td>\n",
       "    </tr>\n",
       "    <tr>\n",
       "      <th>9</th>\n",
       "      <td>10.0</td>\n",
       "      <td>20622913</td>\n",
       "    </tr>\n",
       "    <tr>\n",
       "      <th>10</th>\n",
       "      <td>9.0</td>\n",
       "      <td>13258097</td>\n",
       "    </tr>\n",
       "    <tr>\n",
       "      <th>11</th>\n",
       "      <td>12.0</td>\n",
       "      <td>8387792</td>\n",
       "    </tr>\n",
       "  </tbody>\n",
       "</table>\n",
       "</div>"
      ],
      "text/plain": [
       "    bedrooms  tot_potential_revenue\n",
       "0        3.0             1583590441\n",
       "1        2.0             1172410245\n",
       "2        4.0              986792599\n",
       "3        5.0              462062839\n",
       "4        1.0              357635222\n",
       "5        6.0              184001642\n",
       "6        8.0               83602391\n",
       "7        7.0               70727181\n",
       "8        0.0               58982565\n",
       "9       10.0               20622913\n",
       "10       9.0               13258097\n",
       "11      12.0                8387792"
      ]
     },
     "execution_count": 144,
     "metadata": {},
     "output_type": "execute_result"
    }
   ],
   "source": [
    "df_bedroom_question"
   ]
  },
  {
   "cell_type": "code",
   "execution_count": 171,
   "metadata": {},
   "outputs": [
    {
     "data": {
      "text/plain": [
       "411180196"
      ]
     },
     "execution_count": 171,
     "metadata": {},
     "output_type": "execute_result"
    }
   ],
   "source": [
    "df_bedroom_question[df_bedroom_question['bedrooms'] == 3]['tot_potential_revenue'][0] - df_bedroom_question[df_bedroom_question['bedrooms'] == 2]['tot_potential_revenue'][1]"
   ]
  },
  {
   "cell_type": "markdown",
   "metadata": {},
   "source": [
    "# Other Insights"
   ]
  },
  {
   "cell_type": "markdown",
   "metadata": {},
   "source": [
    "#### What are the most valuable cities for 3-bedroom or 2-bedroom apartments?"
   ]
  },
  {
   "cell_type": "code",
   "execution_count": null,
   "metadata": {},
   "outputs": [],
   "source": [
    "sql = \"\"\"SELECT\n",
    "            city, bedrooms, sum(price) as tot_potential_revenue\n",
    "        FROM \n",
    "            df_merge_clean\n",
    "        GROUP BY\n",
    "            city, bedrooms\n",
    "        ORDER BY tot_potential_revenue DESC\"\"\""
   ]
  },
  {
   "cell_type": "code",
   "execution_count": null,
   "metadata": {},
   "outputs": [],
   "source": [
    "df_other_city_rev = ps.sqldf(sql, locals())"
   ]
  },
  {
   "cell_type": "code",
   "execution_count": null,
   "metadata": {},
   "outputs": [],
   "source": [
    "df_other_city_rev"
   ]
  },
  {
   "cell_type": "markdown",
   "metadata": {},
   "source": [
    "#### How much of a difference does being a superhost, on average, have on the price of a listing?"
   ]
  },
  {
   "cell_type": "code",
   "execution_count": null,
   "metadata": {},
   "outputs": [],
   "source": [
    "sql = \"\"\"SELECT\n",
    "            is_superhost, sum(price) as tot_potential_revenue\n",
    "        FROM \n",
    "            df_merge_clean\n",
    "        GROUP BY\n",
    "            is_superhost\n",
    "        ORDER BY tot_potential_revenue DESC\"\"\""
   ]
  },
  {
   "cell_type": "code",
   "execution_count": null,
   "metadata": {},
   "outputs": [],
   "source": [
    "df_superhost = ps.sqldf(sql, locals())"
   ]
  },
  {
   "cell_type": "markdown",
   "metadata": {},
   "source": [
    "#### Which features are most likely to be interdependent on others? What is their variance inflation?"
   ]
  },
  {
   "cell_type": "code",
   "execution_count": null,
   "metadata": {},
   "outputs": [],
   "source": []
  },
  {
   "cell_type": "code",
   "execution_count": null,
   "metadata": {},
   "outputs": [],
   "source": []
  },
  {
   "cell_type": "code",
   "execution_count": null,
   "metadata": {},
   "outputs": [],
   "source": []
  },
  {
   "cell_type": "code",
   "execution_count": null,
   "metadata": {},
   "outputs": [],
   "source": []
  },
  {
   "cell_type": "markdown",
   "metadata": {},
   "source": [
    "## Building a Prediction Algorithm"
   ]
  },
  {
   "cell_type": "code",
   "execution_count": null,
   "metadata": {},
   "outputs": [],
   "source": [
    "from sklearn.linear_model import LinearRegression\n",
    "from sklearn.model_selection import train_test_split\n",
    "\n",
    "feature_df = pd.DataFrame()\n",
    "y = df_merge_clean['price']\n",
    "\n",
    "for col in df_merge_clean:\n",
    "    if col not in y.columns:\n",
    "        feature_df[col] = df[col]\n",
    "\n",
    "X = feature_df\n"
   ]
  },
  {
   "cell_type": "code",
   "execution_count": null,
   "metadata": {},
   "outputs": [],
   "source": [
    "X_train, X_test, y_train, y_test = train_test_split(X, y, test_size=0.20, random_state=42)"
   ]
  }
 ],
 "metadata": {
  "kernelspec": {
   "display_name": "Python 3",
   "language": "python",
   "name": "python3"
  },
  "language_info": {
   "codemirror_mode": {
    "name": "ipython",
    "version": 3
   },
   "file_extension": ".py",
   "mimetype": "text/x-python",
   "name": "python",
   "nbconvert_exporter": "python",
   "pygments_lexer": "ipython3",
   "version": "3.6.4"
  }
 },
 "nbformat": 4,
 "nbformat_minor": 2
}
